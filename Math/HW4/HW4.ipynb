{
 "cells": [
  {
   "cell_type": "markdown",
   "metadata": {},
   "source": [
    "### 6.14 - Code for Netwon's Method"
   ]
  },
  {
   "cell_type": "code",
   "execution_count": 1,
   "metadata": {
    "collapsed": true
   },
   "outputs": [],
   "source": [
    "def newton(x, fprime, fprimeprime, tol=1e-6):\n",
    "    error = 1\n",
    "    maxiter = 100\n",
    "    it = 0\n",
    "    while error > tol and it < maxiter:\n",
    "        x0 = x\n",
    "        x = x - fprime(x) /fprimeprime(x)\n",
    "        error = abs(x0 - x)/abs(x0)\n",
    "        it += 1\n",
    "    if it < maxiter:\n",
    "        print(\"Function converges\")\n",
    "        return x\n",
    "    else:\n",
    "        print('Function did not converge')\n",
    "\n",
    "    "
   ]
  },
  {
   "cell_type": "code",
   "execution_count": null,
   "metadata": {
    "collapsed": true
   },
   "outputs": [],
   "source": []
  }
 ],
 "metadata": {
  "kernelspec": {
   "display_name": "Python 3",
   "language": "python",
   "name": "python3"
  },
  "language_info": {
   "codemirror_mode": {
    "name": "ipython",
    "version": 3
   },
   "file_extension": ".py",
   "mimetype": "text/x-python",
   "name": "python",
   "nbconvert_exporter": "python",
   "pygments_lexer": "ipython3",
   "version": "3.6.1"
  }
 },
 "nbformat": 4,
 "nbformat_minor": 2
}
