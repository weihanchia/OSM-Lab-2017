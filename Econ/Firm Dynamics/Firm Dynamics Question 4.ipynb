{
 "cells": [
  {
   "cell_type": "markdown",
   "metadata": {},
   "source": [
    "## Firm Dynamics - Question 4\n",
    "### Wei Han Chia\n",
    "\n",
    "In this question, we combine the dynamic firm problem with a representative agent consumer in order to investigate the equilibrium dynamics of this model."
   ]
  },
  {
   "cell_type": "code",
   "execution_count": 1,
   "metadata": {
    "collapsed": true
   },
   "outputs": [],
   "source": [
    "# Import packages\n",
    "import numpy as np\n",
    "import matplotlib.pyplot as plt\n",
    "import time\n",
    "import numba\n",
    "import pickle\n",
    "\n",
    "# to print plots inline\n",
    "%matplotlib inline"
   ]
  },
  {
   "cell_type": "markdown",
   "metadata": {},
   "source": [
    "### Parametrization\n",
    "Let us begin with some preliminaries. Firstly, we will calibrate the model in the same way as question 1.\n",
    "\n",
    "We will use the following parametrization:\n",
    "\n",
    "\n",
    "| Parameter | Description   | Value|\n",
    "|------|------||------|\n",
    "    | $\\alpha_{k}$ | Capital's share of output | 0.297 |\n",
    "   | $\\alpha_{l}$ | Labor's share of output | 0.650 |\n",
    "   | $\\delta$ | Depreciation rate | 0.154 |\n",
    "   | $\\psi$ | Coefficient on quadratic adjustment costs | 1.080 |\n",
    "   | $\\sigma_z$   | Std dev of shocks | 0.213 |\n",
    "   | $\\mu$ | Mean of Income Process | 0 |\n",
    "   | $\\rho$ | Persistence of Income Process | 0.7605 |\n",
    "   | `sizez` | Number of Grid Points of z | 9 |\n",
    "   | $\\beta$ | Household Discount Factor | 0.96 |\n",
    "   | $h$ | Parameter of disutility of work | 6.6616 |"
   ]
  },
  {
   "cell_type": "markdown",
   "metadata": {},
   "source": [
    "We can also initialize our grid of productivity shocks. We will leave the grid of capital to be redefined at each iteration."
   ]
  },
  {
   "cell_type": "code",
   "execution_count": 48,
   "metadata": {},
   "outputs": [],
   "source": [
    "# Initializing Parameters and Grids\n",
    "\n",
    "# Parameters\n",
    "alpha_k = 0.29715\n",
    "alpha_l = 0.65\n",
    "delta = 0.154\n",
    "psi = 1.08\n",
    "mu = 0\n",
    "rho = 0.7605\n",
    "sigma_z = 0.213\n",
    "size_z = 9\n",
    "beta = 0.96\n",
    "h = 6.6616\n",
    "params = alpha_k, alpha_l, delta, psi, beta, h\n",
    "\n",
    "# Generating grid of transition probabilities and nodes\n",
    "import ar1_approx as ar1\n",
    "step = (4 * sigma_z) / (size_z/ 2)\n",
    "pi, zvec3 = ar1.rouwen(rho, mu, step, size_z)\n",
    "zvec3 = np.exp(zvec3)"
   ]
  },
  {
   "cell_type": "markdown",
   "metadata": {},
   "source": [
    "### Firm Equilibrium Equations's\n",
    "\n",
    "We will define some functions to be used in the iteration of solving the firms problems. This includes generating a new income grid, deriving earnings and labor demand for each (z,k). We denote the solved policy function for some given $\\bar{w}_i$ to be $h(z,k;\\bar{w}_i)$.\n",
    "\n",
    "$$ l^d(z,k;\\bar{w}_i) = (\\frac{\\alpha_l}{w})^{\\frac{1}{1 - \\alpha_l}} z^{\\frac{1}{1 - \\alpha_l}} k^{\\frac{\\alpha_k}{1 - \\alpha_l}} $$\n",
    "\n",
    "$$\\pi(k,z, \\bar{w}_i) =\\left(1-\\alpha_{l}\\right)z^{\\frac{1}{1-\\alpha_l}} \\left(\\frac{\\alpha_{l}}{\\bar{w}_i}\\right)^{\\frac{\\alpha_{l}}{1-\\alpha_{l}}}k^{\\frac{\\alpha_{k}}{1-\\alpha_{l}}} $$\n",
    "\n",
    "$$ e(z,k, h(z,k;\\bar{w}_i);\\bar{w}_i) = \\pi(k,z, \\bar{w}_i) - ( h(z,k;\\bar{w}_i)-(1-\\delta)k) - \\frac{\\psi}{2}\\left(\\frac{ h(z,k;\\bar{w}_i)-(1-\\delta)k}{k}\\right)^{2}k $$\n",
    "\n",
    "$$ I(z,k;\\bar{w}_i) = h(z,k;\\bar{w}_i) - (1 - \\delta)k $$\n",
    "\n",
    "At equilibrium, we are also interested in finding the aggregate adjustment costs, as well as the aggregate production functions:\n",
    "\n",
    "$$ y(z,k;\\bar{w}_i) = z k^{\\alpha_k} (l^d)^{\\alpha_l} $$\n",
    "$$ c(h(z,k;\\bar{w}_i) , k) = \\frac{\\psi}{2} \\frac{(h(z,k;\\bar{w}_i) - (1 - \\delta) k)^2}{k} $$"
   ]
  },
  {
   "cell_type": "code",
   "execution_count": 3,
   "metadata": {},
   "outputs": [],
   "source": [
    "# Function for creating income grid\n",
    "def incomegrid(density, kstar):\n",
    "    dens = density\n",
    "    # Bouding state space based on steady state capital\n",
    "    kbar = 2*kstar\n",
    "    lb_k = 0.001\n",
    "    ub_k = kbar\n",
    "    krat = np.log(lb_k / ub_k)\n",
    "    numb = np.ceil(krat / np.log(1 - delta))\n",
    "    K = np.zeros(int(numb * dens))\n",
    "    # we'll create in a way where we pin down the upper bound - since\n",
    "    # the distance will be small near the lower bound, we'll miss that by little\n",
    "    for j in range(int(numb * dens)):\n",
    "        K[j] = ub_k * (1 - delta) ** (j / dens)\n",
    "    kvec = K[::-1]\n",
    "    return kvec\n",
    "\n",
    "def get_kstar(w, params):\n",
    "    alpha_k, alpha_l, delta, psi, beta, h = params\n",
    "    return ((((1 / beta - 1 + delta) * ((w / alpha_l) **\n",
    "                                         (alpha_l / (1 - alpha_l)))) /\n",
    "         (alpha_k * (1 ** (1 / (1 - alpha_l))))) **\n",
    "         ((1 - alpha_l) / (alpha_k + alpha_l - 1)))\n",
    "\n",
    "def get_profit(k,z, w, params):\n",
    "    alpha_k, alpha_l, delta, psi, beta, h = params\n",
    "    return ((1 - alpha_l) * ((np.exp(z)) **(1/(1-alpha_l)))* ((alpha_l / w) ** (alpha_l / (1 - alpha_l))) *\n",
    "      ((k ** alpha_k) ** (1 / (1 - alpha_l))))\n",
    "\n",
    "def get_e(kprime, k ,z, w, params):\n",
    "    alpha_k, alpha_l, delta, psi, beta, h = params\n",
    "    return profit(k,z,w,params) - (kprime - (1 - delta)*k) - psi/2 * ((kprime - (1 - delta)*k) ** 2 / k)\n",
    "\n",
    "def get_invest(kprime, k, z, params):\n",
    "    alpha_k, alpha_l, delta, psi, beta, h = params\n",
    "    return kprime - (1 - delta)*k\n",
    "\n",
    "def get_labor_demand(k, z, w, params):\n",
    "    alpha_k, alpha_l, delta, psi, beta, h = params\n",
    "    return ((alpha_l / w) ** (1 / 1 - alpha_l)) * ( z ** (1/(1 - alpha_l))) * (k ** ((alpha_k)/(1 - alpha_l)))\n",
    "\n",
    "def get_y(k,z,w,params):\n",
    "    alpha_k, alpha_l, delta, psi, beta, h = params\n",
    "    return z * ( k ** (alpha_k) ) * (get_labor_demand(k,z,w,params) ** (alpha_l)) \n",
    "\n",
    "def get_psi(kprime, k, w,z,params):\n",
    "    alpha_k, alpha_l, delta, psi, beta, h = params\n",
    "    return (psi/2) * ((kprime - (1 - delta)* k) ** 2)/ k "
   ]
  },
  {
   "cell_type": "markdown",
   "metadata": {},
   "source": [
    "### HH FOC's\n",
    "\n",
    "In equilibrium we also require some household FOC's. In particular, we are interested in the marginal rate of substitution which fixes the wage rate at equilibrium.\n",
    "\n",
    "$$ \\bar{C} \\bar{L} h = \\bar{w} $$"
   ]
  },
  {
   "cell_type": "code",
   "execution_count": 4,
   "metadata": {
    "collapsed": true
   },
   "outputs": [],
   "source": [
    "def get_labor_supply(C, w, params):\n",
    "    alpha_k, alpha_l, delta, psi, beta, h = params\n",
    "    return w / (C*h) \n",
    "\n",
    "def get_wage(C, L, params):\n",
    "    alpha_k, alpha_l, delta, psi, beta, h = params\n",
    "    return C*L*h"
   ]
  },
  {
   "cell_type": "markdown",
   "metadata": {},
   "source": [
    "### Equilibrium Conditions"
   ]
  },
  {
   "cell_type": "markdown",
   "metadata": {},
   "source": [
    "The first component of equilibrium which we are interested in is the stationary distribution of firms. Following from the code in the `SolvingStationaryDistributions` notebook, we will solve for the stationary distribution by simulating our economy."
   ]
  },
  {
   "cell_type": "code",
   "execution_count": 17,
   "metadata": {
    "collapsed": true
   },
   "outputs": [],
   "source": [
    "def get_PFindex(PF, kvec):\n",
    "    # Function to get indices for policy function for stationary distribution simulation\n",
    "    PFindex = np.empty_like(PF)\n",
    "    idx = np.zeros_like(kvec)\n",
    "    for i in range(PF.shape[1]):\n",
    "        for j in range(kvec.shape[0]):\n",
    "            idx[j] = np.abs(kvec - PF[j,i]).argmin()\n",
    "        idx = idx.astype(int)\n",
    "        PFindex[:,i] = idx\n",
    "    return PFindex.astype(int)\n",
    "\n",
    "def get_stationarydist(PF, pi, tol = 1e-12, maxiter = 1000):\n",
    "    sizek, sizez = np.shape(PF)\n",
    "    Gamma = np.ones((sizez, sizek)) * (1 / (sizek * sizez))\n",
    "    SDtol = tol\n",
    "    SDdist = 7\n",
    "    SDiter = 0\n",
    "    SDmaxiter = maxiter\n",
    "    while SDdist > SDtol and SDmaxiter > SDiter:\n",
    "        HGamma = np.zeros((sizez, sizek))\n",
    "        for i in range(sizez):  # z\n",
    "            for j in range(sizek):  # k\n",
    "                for m in range(sizez):  # z'\n",
    "                    HGamma[m, PF[j, i]] = HGamma[m, PF[j, i]] + pi[i, m] * Gamma[i, j]\n",
    "        SDdist = (np.absolute(HGamma - Gamma)).max()\n",
    "        Gamma = HGamma\n",
    "        SDiter += 1\n",
    "    return Gamma\n"
   ]
  },
  {
   "cell_type": "markdown",
   "metadata": {},
   "source": [
    "Given this stationary distribution $\\Gamma(z,k;\\bar{w}_i)$, we are interested in finding aggregate labor and investment demand, output and adjustment costs. \n",
    "\n",
    "$$ \\bar{L}^d = \\int l^d(z,k;\\bar{w}_i) d \\Gamma(z,k;\\bar{w}_i) $$\n",
    "$$ \\bar{I} = \\int l(z,k;\\bar{w}_i) d \\Gamma(z,k;\\bar{w}_i) $$\n",
    "$$ \\bar{\\Psi} = \\int c(h(z,k;\\bar{w}),k) d \\Gamma(z,k;\\bar{w}_i) $$\n",
    "$$ \\bar{Y} = \\int y(z,k,\\bar{w}_i) d \\Gamma(z,k;\\bar{w}_i) $$\n",
    "\n",
    "With these aggregates, we can then back out aggregate consumption from the aggregate resource constraint"
   ]
  },
  {
   "cell_type": "code",
   "execution_count": 24,
   "metadata": {
    "collapsed": true
   },
   "outputs": [],
   "source": [
    "def get_aggY(Gamma, PF, kvec, zvec, w, params):\n",
    "    aggY = np.zeros_like(Gamma)\n",
    "    for i in range(kvec.shape[0]):\n",
    "        for j in range(zvec.shape[0]):\n",
    "            aggY[j,i] = get_y(kvec[i], zvec[j], w, params)*Gamma[j,i]\n",
    "    return np.sum(aggY)\n",
    "\n",
    "def get_aggpsi(Gamma, PF, kvec, zvec, w, params):\n",
    "    aggpsi = np.zeros_like(Gamma)\n",
    "    for i in range(kvec.shape[0]):\n",
    "        for j in range(zvec.shape[0]):\n",
    "            aggpsi[j,i] = get_psi(kvec[PF[i,j]], kvec[i], w, zvec[j], params)*Gamma[j,i]\n",
    "    return np.sum(aggpsi)\n",
    "\n",
    "def get_aggI(Gamma, PF, kvec, zvec, w, params):\n",
    "    aggI = np.zeros_like(Gamma)\n",
    "    for i in range(kvec.shape[0]):\n",
    "        for j in range(zvec.shape[0]):\n",
    "            aggI[j,i] = get_invest(kvec[PF[i,j]], kvec[i], zvec[j], params)*Gamma[j,i]\n",
    "    return np.sum(aggI)\n",
    "\n",
    "def get_agg_labordemand(Gamma, PF, kvec, zvec, w, params):\n",
    "    aggLD = np.zeros_like(Gamma)\n",
    "    for i in range(kvec.shape[0]):\n",
    "        for j in range(zvec.shape[0]):\n",
    "            aggLD[j,i] = get_labor_demand(kvec[i], zvec[j], w, params)*Gamma[j,i]\n",
    "    return np.sum(aggLD)"
   ]
  },
  {
   "cell_type": "markdown",
   "metadata": {},
   "source": [
    "Finally, we also need to import a script to solve for the firm problem endogenously.\n",
    "\n",
    "### Solving for General Equilibrium\n",
    "We will solve for the general equilibirum by iteration on $\\bar{w}_i$. \n",
    "\n",
    "1. First, we note  that at equilibrium we can define $\\bar{r} = \\frac{1}{\\beta} - 1$, which also implies that our firm discount rate is the same as the household discount rate.\n",
    "2. With these parameters and a guess for $\\bar{w}_i$, we can solve the firms problem using the EGP method.\n",
    "3. With this solution, we can simulate for the steady state, and back out aggregate consumption, as well as labor demand.\n",
    "4. Using the Household FOC, we can solve for labor supply given aggregate consumption. We can also back out the implied $\\bar{w}_i$ from the firm's labor demand from the household FOC. \n",
    "5. Given these aggregates, we compare the difference between Labor Supplied and Labor Demanded, and iterate until the error is below our tolerance.\n",
    "6. We can also update our wage using some economic intuition. Starting from our initial guess, we move in some percentage to the left or the right depending on the relative magnitude of the labor demanded and labor supplied.\n",
    "\n",
    "This will solution method will provide us with a model of general equilibrium."
   ]
  },
  {
   "cell_type": "code",
   "execution_count": 80,
   "metadata": {},
   "outputs": [],
   "source": [
    "%run egpfirmquadcost.py\n",
    "\n",
    "def solveGE(params, pi, zvec, tol=1e-06, maxiter=1000, density = 1):\n",
    "    '''Function to solve for General Equilibrium\n",
    "    params = parameters exogenously determined\n",
    "    pi = transition proabilities\n",
    "    zvec = states\n",
    "    tol = tolerance\n",
    "    maxiter = maximum iterations\n",
    "    density = density of capital grid\n",
    "    \n",
    "    Returns: wage, interest rate, stationary distribution of capital'''\n",
    "    alpha_k, alpha_l, delta, psi, beta, h = params\n",
    "    #Initialize guess for w\n",
    "    w = 1\n",
    "    r = 1/beta -1\n",
    "    errorw = 1\n",
    "    geiter= 0\n",
    "    while errorw > tol and geiter < maxiter:\n",
    "        #Generate k grid\n",
    "        kstar = get_kstar(w, params)\n",
    "        kvec = incomegrid(density, kstar)\n",
    "        #Solving Firm problem given r and w\n",
    "        PF = egpsolve(kvec, zvec, pi, w, r, params)\n",
    "        #Simulating stationary distribution\n",
    "        PF = get_PFindex(PF, kvec)\n",
    "        Gamma = get_stationarydist(PF, pi)\n",
    "        #Solving Aggregates\n",
    "        Cbar = get_aggY(Gamma, PF, kvec, zvec, w, params) - get_aggI(Gamma, PF, kvec, zvec, w, params) - get_aggpsi(Gamma, PF, kvec, zvec, w, params)\n",
    "        #Get Labor Demand\n",
    "        Ld = get_agg_labordemand(Gamma, PF, kvec, zvec, w, params)\n",
    "        #Get Labor Supply\n",
    "        Ls = get_labor_supply(Cbar, w, params)\n",
    "        #Get implied wages\n",
    "        tw = get_wage(Cbar, (Ld + Ls)/2, params)\n",
    "        #Update Wages\n",
    "        step = abs(w - tw)/10\n",
    "        if Ld > Ls:\n",
    "            w = w + step\n",
    "        else:\n",
    "            w = w - step\n",
    "        #Update error\n",
    "        errorw = abs(Ls - Ld)\n",
    "        geiter += 1\n",
    "        print(\"Iteration: \" + str(geiter) + \" Error: \" + str(errorw))\n",
    "        \n",
    "    return w, r, kvec, Gamma"
   ]
  },
  {
   "cell_type": "code",
   "execution_count": 81,
   "metadata": {},
   "outputs": [
    {
     "name": "stdout",
     "output_type": "stream",
     "text": [
      "Iteration: 1 Error: 0.0180591852336\n",
      "Iteration: 2 Error: 0.00171125553609\n",
      "Iteration: 3 Error: 0.000208378017647\n",
      "Iteration: 4 Error: 2.48190397413e-05\n",
      "Iteration: 5 Error: 2.96411082418e-06\n",
      "Iteration: 6 Error: 3.53886412507e-07\n",
      "Equilibrium Wage = 0.99791107515 Equilibrium interest rate = 0.04166666666666674\n"
     ]
    }
   ],
   "source": [
    "w, r, kvec, Gamma = solveGE(params, pi, zvec3)\n",
    "print(\"Equilibrium Wage = \" + str(w) + \" Equilibrium interest rate = \" + str(r))"
   ]
  },
  {
   "cell_type": "markdown",
   "metadata": {},
   "source": [
    "As can be seen, our model yields a wage rate 0.997 of and an interest rate of 0.0417. We can also plot the distribution of capital in the steady state."
   ]
  },
  {
   "cell_type": "code",
   "execution_count": 83,
   "metadata": {},
   "outputs": [
    {
     "data": {
      "image/png": "[encoded data removed]",
      "text/plain": [
       "<matplotlib.figure.Figure at 0x71cdd56208>"
      ]
     },
     "metadata": {},
     "output_type": "display_data"
    }
   ],
   "source": [
    "# Plot the stationary distribution over k\n",
    "fig, ax = plt.subplots()\n",
    "ax.plot(kvec, Gamma.sum(axis=0))\n",
    "plt.xlabel('Size of Capital Stock')\n",
    "plt.ylabel('Density')\n",
    "plt.title('Stationary Distribution over Capital')\n",
    "plt.show()"
   ]
  },
  {
   "cell_type": "code",
   "execution_count": null,
   "metadata": {
    "collapsed": true
   },
   "outputs": [],
   "source": []
  }
 ],
 "metadata": {
  "kernelspec": {
   "display_name": "Python 3",
   "language": "python",
   "name": "python3"
  },
  "language_info": {
   "codemirror_mode": {
    "name": "ipython",
    "version": 3
   },
   "file_extension": ".py",
   "mimetype": "text/x-python",
   "name": "python",
   "nbconvert_exporter": "python",
   "pygments_lexer": "ipython3",
   "version": "3.6.1"
  }
 },
 "nbformat": 4,
 "nbformat_minor": 2
}
