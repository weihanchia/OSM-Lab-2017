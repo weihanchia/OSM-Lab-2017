{
 "cells": [
  {
   "cell_type": "markdown",
   "metadata": {},
   "source": [
    "### Structural Estimation Q1"
   ]
  },
  {
   "cell_type": "markdown",
   "metadata": {},
   "source": [
    "Lets load some packages and import the data of health claim amounts."
   ]
  },
  {
   "cell_type": "code",
   "execution_count": 2,
   "metadata": {
    "collapsed": true
   },
   "outputs": [],
   "source": [
    "import pandas as pd\n",
    "import numpy as np\n",
    "from matplotlib import pyplot as plt\n",
    "import scipy.stats as sts\n",
    "import scipy.integrate as intgr\n",
    "%matplotlib inline"
   ]
  },
  {
   "cell_type": "code",
   "execution_count": 3,
   "metadata": {},
   "outputs": [],
   "source": [
    "clms = pd.read_csv(\"clms.txt\", header = None, names = [\"Hexp\"])"
   ]
  },
  {
   "cell_type": "markdown",
   "metadata": {},
   "source": [
    "#### (a)\n",
    "\n",
    "We can print the summary statistics of the dataset."
   ]
  },
  {
   "cell_type": "code",
   "execution_count": 4,
   "metadata": {},
   "outputs": [
    {
     "name": "stdout",
     "output_type": "stream",
     "text": [
      "Mean of Data =  720.277975327 \n",
      "Median of Data =  172.21 \n",
      "Standard Deviation =  3972.85082412 \n",
      "Maximum =  227967.25 \n",
      "Minimum =  0.01\n"
     ]
    }
   ],
   "source": [
    "mean = clms.mean()[0]\n",
    "median = clms.median()[0]\n",
    "std = clms.std()[0]\n",
    "datamax = clms.max()[0]\n",
    "datamin = clms.min()[0]\n",
    "print(\"Mean of Data = \", mean, \"\\nMedian of Data = \", median, \"\\nStandard Deviation = \", std, \"\\nMaximum = \", datamax, \"\\nMinimum = \", datamin)"
   ]
  },
  {
   "cell_type": "markdown",
   "metadata": {},
   "source": [
    "Here, we note that we have a maximum value significantly larger than the mean, which also corresponds to a large standard deviation. This might suggest an outlier in the data.\n",
    "\n",
    "Next, we will plot two histograms of the data in which the y-axis is the percent of observations, and the x-axis is the value of monthly health expenditures. We vary the two histograms by the number of bins used to plot the data, as well as the range of the x axis."
   ]
  },
  {
   "cell_type": "code",
   "execution_count": 5,
   "metadata": {},
   "outputs": [
    {
     "data": {
      "image/png": "[encoded data removed]",
      "text/plain": [
       "<matplotlib.figure.Figure at 0x5fe39595c0>"
      ]
     },
     "metadata": {},
     "output_type": "display_data"
    }
   ],
   "source": [
    "# We can plot the histogram with the inbuilt pandas function.\n",
    "num_bins = 1000\n",
    "weights = (1/clms.shape[0])*np.ones_like(clms['Hexp'])\n",
    "n, bin_cuts, patches = plt.hist(clms['Hexp'], num_bins, weights = weights)\n",
    "plt.title(\"Distribution of Health Expenditures - 1000 bins, Full data\")\n",
    "plt.xlabel(\"Monthly Health Expenditures\")\n",
    "plt.ylabel(\"Percentage of Observations\")\n",
    "plt.show()"
   ]
  },
  {
   "cell_type": "code",
   "execution_count": 6,
   "metadata": {},
   "outputs": [
    {
     "data": {
      "image/png": "[encoded data removed]",
      "text/plain": [
       "<matplotlib.figure.Figure at 0x5fe4001860>"
      ]
     },
     "metadata": {},
     "output_type": "display_data"
    }
   ],
   "source": [
    "# Now lets try one with a bound on x.\n",
    "num_bins2 = 100\n",
    "forplot = clms[clms.Hexp < 800]['Hexp']\n",
    "weights2 = (1/clms.shape[0])*np.ones_like(forplot)\n",
    "n, bin_cuts, patches = plt.hist(forplot, num_bins2, weights = weights2)\n",
    "plt.title(\"Distribution of Health Expenditures - 100 Bins, x < 800\")\n",
    "plt.xlabel(\"Monthly Health Expenditure\")\n",
    "plt.ylabel(\"Percentage of Observations\")\n",
    "plt.show()"
   ]
  },
  {
   "cell_type": "markdown",
   "metadata": {},
   "source": [
    "We might perfer the second histogram as it shows the spread of the data much better than the first. This is probably due to the presence of large outliers in the data which causes the range of the first histogram to be overly large.\n",
    "\n",
    "#### (b)\n",
    "\n",
    "We use maximum likelihood to estimate the parameters $\\alpha$ and $\\beta$ for a gamma distribution with pdf\n",
    "$$ f(x; \\alpha, \\beta) = \\frac{1}{\\beta^\\alpha \\Gamma(\\alpha)} x^{\\alpha - 1} e^{-x/\\beta} $$"
   ]
  },
  {
   "cell_type": "code",
   "execution_count": 7,
   "metadata": {
    "collapsed": true
   },
   "outputs": [],
   "source": [
    "from scipy.special import gamma\n",
    "import scipy.optimize as opt\n",
    "\n",
    "# Code up pdf function, log_likehood function and criterion function for optimization.\n",
    "def gammapdf(x ,a, b):\n",
    "    return 1/((b**a)* gamma(a)) *(x ** (a - 1))* np.exp(-x/b)\n",
    "\n",
    "def loglikgamma(xvals, a, b):\n",
    "    pdf_vals = gammapdf(xvals, a, b)\n",
    "    log_pdf_vals = np.log(pdf_vals)\n",
    "    log_lik_gamma = np.sum(log_pdf_vals)\n",
    "    return log_lik_gamma\n",
    "\n",
    "def crit(params, xvals):\n",
    "    a, b = params\n",
    "    log_lik_val =  loglikgamma(xvals, a, b)\n",
    "    neg_log_lik_val = - log_lik_val\n",
    "    return neg_log_lik_val\n"
   ]
  },
  {
   "cell_type": "code",
   "execution_count": 8,
   "metadata": {},
   "outputs": [
    {
     "name": "stdout",
     "output_type": "stream",
     "text": [
      "Estimated Values for Alpha =  0.221751150097 \n",
      "Estimated Values for Beta =  21913.1282774 \n",
      "Maximized Log Lik =  -82076.64049652463\n"
     ]
    },
    {
     "name": "stderr",
     "output_type": "stream",
     "text": [
      "C:\\Users\\Kenneth\\Anaconda3\\lib\\site-packages\\ipykernel_launcher.py:6: RuntimeWarning: divide by zero encountered in power\n",
      "  \n"
     ]
    },
    {
     "data": {
      "image/png": "[encoded data removed]",
      "text/plain": [
       "<matplotlib.figure.Figure at 0x5fe3ff9f60>"
      ]
     },
     "metadata": {},
     "output_type": "display_data"
    }
   ],
   "source": [
    "#Initializing guess and optimizing\n",
    "\n",
    "b_init = std**2 / mean\n",
    "a_init = mean / b_init\n",
    "params_init = np.array([a_init, b_init])\n",
    "xvals = (clms['Hexp'])\n",
    "\n",
    "results = opt.minimize(crit, params_init, args = xvals, method='L-BFGS-B',\n",
    "                       bounds=((1e-10, None), (1e-10, None)))\n",
    "\n",
    "gamma_mle_alpha = results.x[0]\n",
    "gamma_mle_beta = results.x[1]\n",
    "\n",
    "print(\"Estimated Values for Alpha = \", results.x[0], \"\\nEstimated Values for Beta = \", \n",
    "      results.x[1], \"\\nMaximized Log Lik = \", -results.fun)\n",
    "\n",
    "# Plotting results\n",
    "num_bins2 = 100\n",
    "forplot = clms[clms.Hexp < 800]['Hexp']\n",
    "weights2 = (1/clms.shape[0])*np.ones_like(forplot)\n",
    "n, bin_cuts, patches = plt.hist(forplot, num_bins2, normed = True)\n",
    "\n",
    "xgrid = np.linspace(0, 800, 1000)\n",
    "plt.plot(xgrid, gammapdf(xgrid, results.x[0], results.x[1]), color='r')\n",
    "\n",
    "plt.title(\"Histogram of Health Exp + Gamma MLE Fit\")\n",
    "plt.xlabel(\"Monthly Health Expenditure\")\n",
    "plt.ylabel(\"Percentage of Observations\")\n",
    "plt.ylim(0, 0.006)\n",
    "plt.show()\n"
   ]
  },
  {
   "cell_type": "markdown",
   "metadata": {},
   "source": [
    "#### (c)\n",
    "Next, we use MLE to estimate parameters $\\alpha$, $\\beta$, $m$ for the generalized gamma distribution with pdf\n",
    "$$ f(x; \\alpha, \\beta, m) = \\frac{m / \\beta^\\alpha}{\\Gamma(\\alpha/m)} x^{\\alpha - 1} e^{- (x/\\beta)^m} $$"
   ]
  },
  {
   "cell_type": "code",
   "execution_count": 9,
   "metadata": {
    "collapsed": true
   },
   "outputs": [],
   "source": [
    "# Code up pdf function, log_likehood function and criterion function for optimization.\n",
    "def gammagenpdf(x ,a, b,m):\n",
    "    return (m/((b**a)*gamma(a/m)))*(x**(a-1))*(np.exp(-(x/b)**m))\n",
    "\n",
    "def loglikgammagen(xvals, a, b,m):\n",
    "    pdf_vals = gammagenpdf(xvals, a, b,m)\n",
    "    log_pdf_vals = np.log(pdf_vals)\n",
    "    log_lik_gamma = np.sum(log_pdf_vals)\n",
    "    return log_lik_gamma\n",
    "\n",
    "def crit2(params, xvals):\n",
    "    a, b, m = params\n",
    "    log_lik_val =  loglikgammagen(xvals, a, b,m)\n",
    "    neg_log_lik_val = - log_lik_val\n",
    "    return neg_log_lik_val\n"
   ]
  },
  {
   "cell_type": "code",
   "execution_count": 10,
   "metadata": {},
   "outputs": [
    {
     "name": "stdout",
     "output_type": "stream",
     "text": [
      "Estimated Values for Alpha =  "
     ]
    },
    {
     "name": "stderr",
     "output_type": "stream",
     "text": [
      "C:\\Users\\Kenneth\\Anaconda3\\lib\\site-packages\\ipykernel_launcher.py:3: RuntimeWarning: divide by zero encountered in power\n",
      "  This is separate from the ipykernel package so we can avoid doing imports until\n"
     ]
    },
    {
     "name": "stdout",
     "output_type": "stream",
     "text": [
      "0.221749655025 \n",
      "Estimated Values for Beta =  21913.1280256 \n",
      "Estimated Value for m =  0.997685861621 \n",
      "Maximized Log Lik =  -82076.63530261679\n"
     ]
    },
    {
     "data": {
      "image/png": "[encoded data removed]",
      "text/plain": [
       "<matplotlib.figure.Figure at 0x5fe5805080>"
      ]
     },
     "metadata": {},
     "output_type": "display_data"
    }
   ],
   "source": [
    "#Initializing guess and optimizing\n",
    "\n",
    "b_init = gamma_mle_beta\n",
    "a_init = gamma_mle_alpha\n",
    "params_init = np.array([a_init, b_init, 1])\n",
    "xvals = (clms['Hexp'])\n",
    "\n",
    "results2 = opt.minimize(crit2, params_init, args = xvals, method='L-BFGS-B',\n",
    "                       bounds=((1e-10, None), (1e-10, None), (1e-10, None)))\n",
    "\n",
    "gammagen_mle_alpha = results2.x[0]\n",
    "gammagen_mle_beta = results2.x[1]\n",
    "gammagen_mle_m = results2.x[2]\n",
    "\n",
    "print(\"Estimated Values for Alpha = \", gammagen_mle_alpha, \"\\nEstimated Values for Beta = \", \n",
    "      gammagen_mle_beta, \"\\nEstimated Value for m = \", gammagen_mle_m, \"\\nMaximized Log Lik = \", -results2.fun)\n",
    "\n",
    "# Plotting results\n",
    "num_bins2 = 100\n",
    "forplot = clms[clms.Hexp < 800]['Hexp']\n",
    "weights2 = (1/clms.shape[0])*np.ones_like(forplot)\n",
    "n, bin_cuts, patches = plt.hist(forplot, num_bins2, normed = True)\n",
    "\n",
    "plt.plot(xgrid, gammagenpdf(xgrid, gammagen_mle_alpha, gammagen_mle_beta, gammagen_mle_m), color='r')\n",
    "\n",
    "plt.title(\"Histogram of Health Exp + Generalized Gamma MLE Fit\")\n",
    "plt.xlabel(\"Monthly Health Expenditure\")\n",
    "plt.ylabel(\"Percentage of Observations\")\n",
    "plt.ylim(0, 0.006)\n",
    "plt.show()\n"
   ]
  },
  {
   "cell_type": "markdown",
   "metadata": {},
   "source": [
    "In this case, it appears that estimating the additional parameter does not change our distribution much since m is still close to 1\n",
    "\n",
    "#### (d)\n",
    "\n",
    "We will still use MLE to estimate the parameters (a, b, p, q) for the generalized beta 2 distribution with pdf:\n",
    "\n",
    "$$ f(x;a,b,p,q) = \\frac{|a| x^{ap -1} (1 -( x/b)^a)^{q-1}}{b^{ab} B(p,q)} $$"
   ]
  },
  {
   "cell_type": "code",
   "execution_count": 11,
   "metadata": {
    "collapsed": true
   },
   "outputs": [],
   "source": [
    "# Code up pdf function, log_likehood function and criterion function for optimization.\n",
    "from scipy.special import beta\n",
    "def gb2pdf(x ,a, b, p, q):\n",
    "    return (a*(x**(a*p-1)))/(b**(a*p) * beta(p,q)*((1+(x/b)**a)**(p+q)))\n",
    "\n",
    "def loglikegb2(xvals, a, b,p, q):\n",
    "    pdf_vals = gb2pdf(xvals, a, b,p, q)\n",
    "    log_pdf_vals = np.log(pdf_vals)\n",
    "    log_lik_gamma = np.sum(log_pdf_vals)\n",
    "    return log_lik_gamma\n",
    "\n",
    "def crit3(params, xvals):\n",
    "    a, b, p, q = params\n",
    "    log_lik_val =  loglikegb2(xvals, a, b,p,q)\n",
    "    neg_log_lik_val = - log_lik_val\n",
    "    return neg_log_lik_val\n"
   ]
  },
  {
   "cell_type": "code",
   "execution_count": 12,
   "metadata": {},
   "outputs": [
    {
     "name": "stdout",
     "output_type": "stream",
     "text": [
      "Estimated Values for a =  0.699555419032 \n",
      "Estimated Values for b =  223863041.624 \n",
      "Estimated Value for p =  0.994292546265 \n",
      "Estimated Values for q =  9997.79016852 \n",
      "Maximized Log Lik =  -76461.49134700361\n"
     ]
    },
    {
     "name": "stderr",
     "output_type": "stream",
     "text": [
      "C:\\Users\\Kenneth\\Anaconda3\\lib\\site-packages\\ipykernel_launcher.py:4: RuntimeWarning: divide by zero encountered in power\n",
      "  after removing the cwd from sys.path.\n"
     ]
    },
    {
     "data": {
      "image/png": "[encoded data removed]",
      "text/plain": [
       "<matplotlib.figure.Figure at 0x5fe56f56a0>"
      ]
     },
     "metadata": {},
     "output_type": "display_data"
    }
   ],
   "source": [
    "#Initializing guess and optimizing\n",
    "\n",
    "b_init = 10000**(1/gammagen_mle_m)*gammagen_mle_beta\n",
    "a_init = gammagen_mle_m\n",
    "q_init = 10000\n",
    "p_init = gammagen_mle_alpha / gammagen_mle_m\n",
    "\n",
    "params_init = np.array([a_init, b_init, p_init, q_init])\n",
    "xvals = (clms['Hexp'])\n",
    "\n",
    "results2 = opt.minimize(crit3, params_init, args = xvals, method='L-BFGS-B',\n",
    "                       bounds=((1e-10, None), (1e-10, None), (1e-10, None),(1e-10, None)))\n",
    "\n",
    "gb2_mle_a = results2.x[0]\n",
    "gb2_mle_b = results2.x[1]\n",
    "gb2_mle_p = results2.x[2]\n",
    "gb2_mle_q = results2.x[3]\n",
    "\n",
    "print(\"Estimated Values for a = \", gb2_mle_a, \"\\nEstimated Values for b = \", \n",
    "      gb2_mle_b, \"\\nEstimated Value for p = \", gb2_mle_p, \"\\nEstimated Values for q = \", gb2_mle_q,\n",
    "      \"\\nMaximized Log Lik = \", -results2.fun)\n",
    "\n",
    "# Plotting results\n",
    "num_bins2 = 100\n",
    "forplot = clms[clms.Hexp < 800]['Hexp']\n",
    "weights2 = (1/clms.shape[0])*np.ones_like(forplot)\n",
    "n, bin_cuts, patches = plt.hist(forplot, num_bins2, normed = True)\n",
    "\n",
    "plt.plot(xgrid, gb2pdf(xgrid, gb2_mle_a, gb2_mle_b, gb2_mle_p, gb2_mle_q), color='r')\n",
    "\n",
    "plt.title(\"Histogram of Health Exp + GB2 MLE Fit\")\n",
    "plt.xlabel(\"Monthly Health Expenditure\")\n",
    "plt.ylabel(\"Percentage of Observations\")\n",
    "plt.ylim(0, 0.006)\n",
    "plt.show()\n"
   ]
  },
  {
   "cell_type": "markdown",
   "metadata": {},
   "source": [
    "#### (e)\n",
    "\n",
    "We can construct the likelihood ratio test for each of the MLE estimators in (b), (c) with the one in (d) since they are nested cases of (d).\n",
    "\n",
    "$$ L(\\theta_{(b)/(c)} | \\theta_{(d)}) = 2*(\\log L(\\theta_{(d)} - \\log L(\\theta_{(b)/(c)}) \\sim \\chi^2(4)$$"
   ]
  },
  {
   "cell_type": "code",
   "execution_count": 14,
   "metadata": {},
   "outputs": [
    {
     "name": "stdout",
     "output_type": "stream",
     "text": [
      "P-value of chi-squared test for estimates of GA =  0.0\n",
      "P-value of chi-squared test for estimates of GG =  0.0\n"
     ]
    }
   ],
   "source": [
    "log_like_mlegamma = loglikgamma(xvals, gamma_mle_alpha, gamma_mle_beta)\n",
    "log_like_gammagen = loglikgammagen(xvals, gammagen_mle_alpha, gammagen_mle_beta, gammagen_mle_m)\n",
    "log_like_gb2 = loglikegb2(xvals, gb2_mle_a, gb2_mle_b, gb2_mle_p, gb2_mle_q)\n",
    "\n",
    "LR_val_bd = 2 * (log_like_gb2 - log_like_mlegamma)\n",
    "pval_h0 = 1.0 - sts.chi2.cdf(LR_val_bd, 4)\n",
    "LR_val_cd = 2 * (log_like_gb2 - log_like_gammagen)\n",
    "pval_h1 = 1.0 - sts.chi2.cdf(LR_val_cd, 4)\n",
    "print('P-value of chi-squared test for estimates of GA = ', pval_h0)\n",
    "print('P-value of chi-squared test for estimates of GG = ', pval_h1)"
   ]
  },
  {
   "cell_type": "markdown",
   "metadata": {},
   "source": [
    "In this case, the p-value is extremely small, implying that we can reject the null hypothesis that our true distribution is distributed by the generalized gamma or the gamma distribution. This suggests that the GB2 distribution used would be the prefered distribution in matching the data."
   ]
  },
  {
   "cell_type": "markdown",
   "metadata": {},
   "source": [
    "#### (f)"
   ]
  },
  {
   "cell_type": "code",
   "execution_count": 211,
   "metadata": {},
   "outputs": [
    {
     "name": "stdout",
     "output_type": "stream",
     "text": [
      "Probability of Healthcare Exp > 1000 under GB2 =  0.1624857873701475\n",
      "Probability of Healthcare Exp > 1000 Under GA =  0.4519642389977817\n"
     ]
    }
   ],
   "source": [
    "# To compute this, we can perform numerical integration\n",
    "\n",
    "prob_GB2_1000 = intgr.quad(gb2pdf,1000,1e6 ,args = (gb2_mle_a, gb2_mle_b, gb2_mle_p, gb2_mle_q))[0]\n",
    "prob_GA_1000 = intgr.quad(gammapdf, 1000, 1e6, args = (gamma_mle_alpha, gamma_mle_beta))[0]\n",
    "\n",
    "print(\"Probability of Healthcare Exp > 1000 under GB2 = \", prob_GB2_1000)\n",
    "print(\"Probability of Healthcare Exp > 1000 Under GA = \", prob_GA_1000)"
   ]
  },
  {
   "cell_type": "markdown",
   "metadata": {},
   "source": [
    "It appears that the probability of spending more than 1000 under the GB2 distribution is significantly smaller than that under the gamma distribution."
   ]
  }
 ],
 "metadata": {
  "kernelspec": {
   "display_name": "Python 3",
   "language": "python",
   "name": "python3"
  }
 },
 "nbformat": 4,
 "nbformat_minor": 2
}
