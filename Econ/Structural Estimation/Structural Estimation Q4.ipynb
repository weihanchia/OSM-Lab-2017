{
 "cells": [
  {
   "cell_type": "markdown",
   "metadata": {},
   "source": [
    "### Structural Estimation Q4\n",
    "\n",
    "First, we once again install some required packages and load the data."
   ]
  },
  {
   "cell_type": "code",
   "execution_count": 1,
   "metadata": {
    "collapsed": true
   },
   "outputs": [],
   "source": [
    "import pandas as pd\n",
    "import numpy as np\n",
    "from matplotlib import pyplot as plt\n",
    "import scipy.stats as sts\n",
    "import scipy.integrate as intgr\n",
    "import scipy.optimize as opt\n",
    "%matplotlib inline\n",
    "\n",
    "ms = pd.read_csv(\"MacroSeries.txt\", header = None, names = [\"c\",\"k\",\"w\",\"r\"])"
   ]
  },
  {
   "cell_type": "markdown",
   "metadata": {},
   "source": [
    "Let us also define some functions to back out a series for z, as well as the four empirical moments."
   ]
  },
  {
   "cell_type": "code",
   "execution_count": 16,
   "metadata": {
    "collapsed": true
   },
   "outputs": [],
   "source": [
    "def z4(r, k, alpha):\n",
    "    ezt = r/((alpha)*k**(alpha -1))\n",
    "    return np.log(ezt)\n",
    "\n",
    "def model_moments(zvec, kvec, cvec, wvec, alpha, rho, mu, beta):\n",
    "    moments = np.zeros(4)\n",
    "    moments[0] = np.mean(zvec[1:] - rho*(zvec[:-1]) - (1-rho)*mu)\n",
    "    moments[1] = np.mean((zvec[1:] - rho*(zvec[:-1]) - (1 - rho)*mu)*zvec[:-1])\n",
    "    moments[2] = np.mean(beta*alpha*np.exp(zvec[1:])*(kvec[1:]**(alpha -1))*(cvec[:-1]/cvec[1:]) - 1)\n",
    "    moments[3] = np.mean((beta*alpha*np.exp(zvec[1:])*(kvec[1:]**(alpha-1))*(cvec[:-1]/cvec[1:]) - 1)*wvec[:-1])\n",
    "    return moments\n",
    "\n",
    "def crit(params, *args):\n",
    "    #Note here that since we assume each of these moments should be 0, the error vector is simply the vector of all moments.\n",
    "    alpha, rho, mu, beta = params\n",
    "    rvec, kvec, cvec, wvec, W = args\n",
    "    zvec = z4(rvec, kvec, alpha)\n",
    "    err = abs(model_moments(zvec, kvec, cvec, wvec, alpha, rho, mu, beta))\n",
    "    crit_val = np.dot(np.dot(err.T, W), err)\n",
    "    return crit_val\n",
    "    "
   ]
  },
  {
   "cell_type": "code",
   "execution_count": 28,
   "metadata": {},
   "outputs": [
    {
     "name": "stderr",
     "output_type": "stream",
     "text": [
      "C:\\Users\\Kenneth\\Anaconda3\\lib\\site-packages\\scipy\\optimize\\_minimize.py:394: RuntimeWarning: Method Nelder-Mead cannot handle constraints nor bounds.\n",
      "  RuntimeWarning)\n"
     ]
    },
    {
     "name": "stdout",
     "output_type": "stream",
     "text": [
      "GMM Estimate for Alpha =  0.443400129138 \n",
      "GMM Estimate for Rho =  0.746999257765 \n",
      "GMM Estimate for Mu =  10.4479730672 \n",
      "GMM Estimate for Beta =  0.976572309367 \n",
      "Criterion Value =  4.082987589\n"
     ]
    }
   ],
   "source": [
    "params = (0.45, 0.7, 11, 0.9)\n",
    "args = (ms['r'], ms['k'], ms['c'], ms['w'], np.eye(4))\n",
    "\n",
    "results = opt.minimize(crit, params, args, method='Nelder-Mead',\n",
    "                       bounds=((0,1), (-1,1), (None, None),(0,1)))\n",
    "\n",
    "gmm_alpha , gmm_rho, gmm_mu, gmm_beta = results.x\n",
    "\n",
    "print(\"GMM Estimate for Alpha = \", gmm_alpha, \"\\nGMM Estimate for Rho = \", gmm_rho, \n",
    "     \"\\nGMM Estimate for Mu = \", gmm_mu, \"\\nGMM Estimate for Beta = \", gmm_beta,\n",
    "      \"\\nCriterion Value = \", results.fun )"
   ]
  },
  {
   "cell_type": "markdown",
   "metadata": {},
   "source": [
    "We note that these values vary slightly from the ones computed in the MLE exercise, namely a slightly larger $\\alpha$ and a slightly larger $\\mu$. However, the general size of $\\alpha$, the capital share of inputs remains close to 0.45, and similarly the general estimate for the persistence of the shock ($\\rho$) is also close to 0.7. As a check, we also note that the estimated value of $\\beta = 0.976$ is close to what we usually assume in solving these models."
   ]
  }
 ],
 "metadata": {
  "kernelspec": {
   "display_name": "Python 3",
   "language": "python",
   "name": "python3"
  },
  "language_info": {
   "codemirror_mode": {
    "name": "ipython",
    "version": 3
   },
   "file_extension": ".py",
   "mimetype": "text/x-python",
   "name": "python",
   "nbconvert_exporter": "python",
   "pygments_lexer": "ipython3",
   "version": "3.6.1"
  }
 },
 "nbformat": 4,
 "nbformat_minor": 2
}
