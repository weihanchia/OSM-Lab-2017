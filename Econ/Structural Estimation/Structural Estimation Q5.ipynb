{
 "cells": [
  {
   "cell_type": "markdown",
   "metadata": {},
   "source": [
    "### Structural Estimation Q5\n",
    "\n",
    "First, we once again install some required packages and load the data."
   ]
  },
  {
   "cell_type": "code",
   "execution_count": 1,
   "metadata": {
    "collapsed": true
   },
   "outputs": [],
   "source": [
    "import pandas as pd\n",
    "import numpy as np\n",
    "from matplotlib import pyplot as plt\n",
    "import scipy.stats as sts\n",
    "import scipy.integrate as intgr\n",
    "import scipy.optimize as opt\n",
    "%matplotlib inline\n",
    "\n",
    "ms = pd.read_csv(\"MacroSeries.txt\", header = None, names = [\"c\",\"k\",\"w\",\"r\"])"
   ]
  },
  {
   "cell_type": "markdown",
   "metadata": {},
   "source": [
    "Next we define functions for simulating moments from the model, as well as computing our error vector."
   ]
  },
  {
   "cell_type": "code",
   "execution_count": 130,
   "metadata": {},
   "outputs": [],
   "source": [
    "def momsim(a, b, rho, mu, sigma, kdata, S, T=100):\n",
    "    k1 = np.mean(kdata)\n",
    "    moments = np.zeros((S, 6))\n",
    "    \n",
    "    for i in range(S):\n",
    "        #Generating z process\n",
    "        zvec = np.zeros(T)\n",
    "        epsvec = np.random.normal(0, sigma, T)\n",
    "        zvec[0] = mu\n",
    "        for k in range(1,T):\n",
    "            zvec[k] = rho* zvec[k-1] + (1-rho)*mu + epsvec[k]\n",
    "        #print(zvec)\n",
    "\n",
    "        # Generating k process\n",
    "        kvec = np.zeros(T)\n",
    "        k1vec = np.zeros(T)\n",
    "        kvec[0] = k1\n",
    "        for j in range(1,T):\n",
    "            kvec[j] = a*b*np.exp(zvec[j-1])*(kvec[j-1]**(a))\n",
    "        k1vec[:-1] = kvec[1:]\n",
    "        k1vec[T-1] = a*b*np.exp(zvec[T-1])*(kvec[T-1]**(a))\n",
    "\n",
    "\n",
    "        # Backing out w\n",
    "        wvec = (1-a)*np.exp(zvec)*(kvec **(a))\n",
    "\n",
    "        # Backing out r\n",
    "        rvec = a*np.exp(zvec)*(kvec **(a-1))\n",
    "\n",
    "        # Backing out c\n",
    "        cvec = wvec + rvec*kvec - k1vec\n",
    "    \n",
    "        moments[i,0] = np.mean(cvec)\n",
    "        moments[i,1] = np.mean(kvec)\n",
    "        moments[i,2] = np.var(cvec)\n",
    "        moments[i,3] = np.var(kvec)\n",
    "        moments[i,4] = np.corrcoef(kvec, cvec)[0,1]\n",
    "        moments[i,5] = np.corrcoef(kvec[:-1], kvec[1:])[0,1]\n",
    "        \n",
    "    val = np.zeros(6)\n",
    "    for l in range(6):\n",
    "        val[l] = np.mean(moments[:,l])\n",
    "    return val\n",
    "\n",
    "def datamoments(kvec, cvec):\n",
    "    datamoments = np.zeros(6)\n",
    "    datamoments[0] = np.mean(cvec)\n",
    "    datamoments[1] = np.mean(kvec)\n",
    "    datamoments[2] = np.var(cvec)\n",
    "    datamoments[3] = np.var(kvec)\n",
    "    datamoments[4] = np.corrcoef(kvec, cvec)[0,1]\n",
    "    datamoments[5] = np.corrcoef(kvec[:-1], kvec[1:])[0,1]\n",
    "    return datamoments\n",
    "\n",
    "def errvec(modelmom, datamom):\n",
    "    errvec = abs(datamom - modelmom)/datamom\n",
    "    return errvec\n",
    "\n",
    "def crit(params, *args):\n",
    "    a, b, rho, mu, sigma = params\n",
    "    kdata, cdata, W = args\n",
    "    modelmoments = momsim(a, b, rho, mu, sigma, kdata, S = 1000)\n",
    "    datamom = datamoments(kdata, cdata)\n",
    "    err = errvec(modelmoments, datamom)\n",
    "    crit = err.dot(W.dot(err)) \n",
    "    return crit\n",
    "    \n",
    "    "
   ]
  },
  {
   "cell_type": "code",
   "execution_count": 136,
   "metadata": {},
   "outputs": [],
   "source": [
    "# Lets attempt to compute the SMM estimator\n",
    "\n",
    "params = (0.45, 0.97, 0.7, 10, 0.5)\n",
    "args = (ms['k'], ms['c'], np.eye(6))\n",
    "\n",
    "results = opt.minimize(crit, params, args, method='L-BFGS-B', tol =1e-8,\n",
    "                       bounds=((0.01,0.99), (0.01,0.99),(-0.99,0.99), (-0.5, 1),(0.001,1)))"
   ]
  },
  {
   "cell_type": "code",
   "execution_count": 135,
   "metadata": {
    "scrolled": true
   },
   "outputs": [
    {
     "data": {
      "text/plain": [
       " final_simplex: (array([[ 0.37083526,  1.03068975,  0.73162974,  9.32189378,  0.53361793],\n",
       "       [ 0.37083526,  1.03068975,  0.73162974,  9.32189378,  0.53361793],\n",
       "       [ 0.37083526,  1.03068975,  0.73162974,  9.32189378,  0.53361793],\n",
       "       [ 0.37083526,  1.03068975,  0.73162974,  9.32189378,  0.53361793],\n",
       "       [ 0.37083526,  1.03068975,  0.73162974,  9.32189378,  0.53361793],\n",
       "       [ 0.37083526,  1.03068975,  0.73162974,  9.32189378,  0.53361793]]), array([ 1.52143489,  1.54255552,  1.54773264,  1.5487955 ,  1.6050616 ,\n",
       "        1.74503278]))\n",
       "           fun: 1.5214348895633127\n",
       "       message: 'Maximum number of function evaluations has been exceeded.'\n",
       "          nfev: 1003\n",
       "           nit: 376\n",
       "        status: 1\n",
       "       success: False\n",
       "             x: array([ 0.37083526,  1.03068975,  0.73162974,  9.32189378,  0.53361793])"
      ]
     },
     "execution_count": 135,
     "metadata": {},
     "output_type": "execute_result"
    }
   ],
   "source": [
    "results"
   ]
  },
  {
   "cell_type": "markdown",
   "metadata": {},
   "source": [
    "Right now it still seems that the function does not converge when put through the iterative solver. Further work on this is pending..."
   ]
  },
  {
   "cell_type": "code",
   "execution_count": null,
   "metadata": {
    "collapsed": true
   },
   "outputs": [],
   "source": []
  }
 ],
 "metadata": {
  "kernelspec": {
   "display_name": "Python 3",
   "language": "python",
   "name": "python3"
  },
  "language_info": {
   "codemirror_mode": {
    "name": "ipython",
    "version": 3
   },
   "file_extension": ".py",
   "mimetype": "text/x-python",
   "name": "python",
   "nbconvert_exporter": "python",
   "pygments_lexer": "ipython3",
   "version": "3.6.1"
  }
 },
 "nbformat": 4,
 "nbformat_minor": 2
}
