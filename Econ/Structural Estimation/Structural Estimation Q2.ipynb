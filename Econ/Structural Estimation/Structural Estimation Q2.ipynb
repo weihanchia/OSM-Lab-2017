{
 "cells": [
  {
   "cell_type": "markdown",
   "metadata": {},
   "source": [
    "### Structural Estimation Q2\n",
    "\n",
    "First, we once again install some required packages and load the data."
   ]
  },
  {
   "cell_type": "code",
   "execution_count": 40,
   "metadata": {
    "collapsed": true
   },
   "outputs": [],
   "source": [
    "import pandas as pd\n",
    "import numpy as np\n",
    "from matplotlib import pyplot as plt\n",
    "import scipy.stats as sts\n",
    "import scipy.integrate as intgr\n",
    "import scipy.optimize as opt\n",
    "%matplotlib inline"
   ]
  },
  {
   "cell_type": "code",
   "execution_count": 2,
   "metadata": {
    "collapsed": true
   },
   "outputs": [],
   "source": [
    "ms = pd.read_csv(\"MacroSeries.txt\", header = None, names = [\"c\",\"k\",\"w\",\"r\"])"
   ]
  },
  {
   "cell_type": "markdown",
   "metadata": {},
   "source": [
    "Next, we will also define some functions to back out a sequence of z's as well as the pdf of a series of z."
   ]
  },
  {
   "cell_type": "code",
   "execution_count": 111,
   "metadata": {},
   "outputs": [],
   "source": [
    "def z3(w, k, alpha):\n",
    "    ezt = w/((1-alpha)*k**(alpha))\n",
    "    return np.log(ezt)\n",
    "\n",
    "def z4(r, k, alpha):\n",
    "    ezt = r/((alpha)*k**(alpha -1))\n",
    "    return np.log(ezt)\n",
    "\n",
    "def pdfz(zvec, mu, sigma, rho):\n",
    "    probvec = np.zeros_like(zvec)\n",
    "    probvec[0] = sts.norm.pdf(zvec[0],loc =  mu, scale = sigma)\n",
    "    for i in range(1,len(zvec)):\n",
    "        probvec[i] = sts.norm.pdf(zvec[i], loc = rho*(zvec[i-1]) + (1-rho)*mu, scale =  np.sqrt(sigma**2))\n",
    "    return probvec\n",
    "\n",
    "def log_like(zvec, mu, sigma, rho):\n",
    "    pdf_vals = pdfz(zvec, mu, sigma, rho)\n",
    "    pdf_vals[np.isclose(pdf_vals, np.zeros_like(pdf_vals), atol = 1e-25)] = 1e-10\n",
    "    log_like = np.log(pdf_vals)\n",
    "    log_like_sum = np.sum(log_like)\n",
    "    return log_like_sum\n"
   ]
  },
  {
   "cell_type": "markdown",
   "metadata": {},
   "source": [
    "#### (a) \n",
    "We will estimate the parameters using MLE first with equations 3 and 4."
   ]
  },
  {
   "cell_type": "code",
   "execution_count": 103,
   "metadata": {
    "collapsed": true
   },
   "outputs": [],
   "source": [
    "def crit1(params, *args):\n",
    "    alpha, mu, sigma, rho = params\n",
    "    w, k = args\n",
    "    zvec = z3(w, k, alpha)\n",
    "    loglikeval = log_like(zvec, mu, sigma, rho)\n",
    "    negloglikeval = -loglikeval\n",
    "    return negloglikeval"
   ]
  },
  {
   "cell_type": "code",
   "execution_count": 104,
   "metadata": {},
   "outputs": [
    {
     "data": {
      "text/plain": [
       "389.17908571496628"
      ]
     },
     "execution_count": 104,
     "metadata": {},
     "output_type": "execute_result"
    }
   ],
   "source": [
    "crit1((0.4,10,2,0.9), ms['w'], ms['k'])"
   ]
  },
  {
   "cell_type": "code",
   "execution_count": 114,
   "metadata": {},
   "outputs": [
    {
     "name": "stdout",
     "output_type": "stream",
     "text": [
      "MLE for alpha =  0.457508701955 \n",
      "MLE for mu =  9.52282593872 \n",
      "MLE for sigma =  0.0919960448445 \n",
      "MLE for rho =  0.720493592161 \n",
      "Likelihood Function =  -96.7069080634\n",
      "[[  2.12080734e+01  -2.96250555e+02  -3.38465560e-01  -6.05267514e+00]\n",
      " [ -2.96250555e+02   4.13826836e+03   4.73522877e+00   8.44791788e+01]\n",
      " [ -3.38465560e-01   4.73522877e+00   9.46359382e-03   5.81177494e-02]\n",
      " [ -6.05267514e+00   8.44791788e+01   5.81177494e-02   2.10355853e+00]]\n"
     ]
    }
   ],
   "source": [
    "# Intializing Parameters and Minimizing.\n",
    "args = (ms['w'],ms['k'])\n",
    "params = 0.3, 9.5, 1, 0.8\n",
    "\n",
    "\n",
    "results = opt.minimize(crit1, params, args, method = 'L-BFGS-B',\n",
    "                       bounds=((1e-10, 1), (1e-10, None),(1e-10, None), (-1,1)))\n",
    "mle3_alpha, mle3_mu, mle3_sigma, mle3_rho = results.x\n",
    "vc3 = results.hess_inv.todense()\n",
    "print(\"MLE for alpha = \", mle3_alpha, \"\\nMLE for mu = \", mle3_mu, \"\\nMLE for sigma = \", mle3_sigma, \n",
    "     \"\\nMLE for rho = \", mle3_rho, \"\\nLikelihood Function = \", results.fun)\n",
    "print(vc3)"
   ]
  },
  {
   "cell_type": "markdown",
   "metadata": {},
   "source": [
    "#### (b)\n",
    "We will now estimate the same parameters using equations 4 and 5."
   ]
  },
  {
   "cell_type": "code",
   "execution_count": 115,
   "metadata": {},
   "outputs": [
    {
     "name": "stdout",
     "output_type": "stream",
     "text": [
      "MLE for alpha =  0.457508701955 \n",
      "MLE for mu =  9.52282593872 \n",
      "MLE for sigma =  0.0919960448445 \n",
      "MLE for rho =  0.720493592161\n",
      "[[  2.12080734e+01  -2.96250555e+02  -3.38465560e-01  -6.05267514e+00]\n",
      " [ -2.96250555e+02   4.13826836e+03   4.73522877e+00   8.44791788e+01]\n",
      " [ -3.38465560e-01   4.73522877e+00   9.46359382e-03   5.81177494e-02]\n",
      " [ -6.05267514e+00   8.44791788e+01   5.81177494e-02   2.10355853e+00]]\n"
     ]
    }
   ],
   "source": [
    "def crit2(params, *args):\n",
    "    alpha, mu, sigma, rho = params\n",
    "    r, k = args\n",
    "    zvec = z4(r, k, alpha)\n",
    "    loglikeval = log_like(zvec, mu, sigma, rho)\n",
    "    negloglikeval = -loglikeval\n",
    "    return negloglikeval\n",
    "\n",
    "# Intializing Parameters and Minimizing.\n",
    "args = (ms['r'],ms['k'])\n",
    "params = 0.3, 9.5, 1, 0.8\n",
    "\n",
    "\n",
    "results2 = opt.minimize(crit2, params, args,\n",
    "                       bounds=((1e-10, 1), (1e-10, None),(1e-10, None), (-1,1)))\n",
    "mle4_alpha, mle4_mu, mle4_sigma, mle4_rho = results.x\n",
    "vc3 = results.hess_inv.todense()\n",
    "print(\"MLE for alpha = \", mle4_alpha, \"\\nMLE for mu = \", mle4_mu, \"\\nMLE for sigma = \", mle4_sigma, \n",
    "     \"\\nMLE for rho = \", mle4_rho)\n",
    "print(vc3)"
   ]
  },
  {
   "cell_type": "markdown",
   "metadata": {},
   "source": [
    "As expected, we get the exact same set of results through the estimation of both equations.\n",
    "#### (c)\n",
    "As suggested, let us first solve for $z^* = z_t$ such that $r_t = 1$ by computing:\n",
    "$$ z^* = \\log(\\frac{1}{\\hat{\\alpha} k_t^{\\hat{\\alpha} - 1}}) $$\n",
    "We can then find the probability by taking:\n",
    "$$ P(z_t > z^*) =1 -  F(z^*) $$\n",
    "where $F(z^*)$ is the CDF of a normal distribution with mean $10\\hat{\\rho} + (1 - \\hat{\\rho})\\hat{\\mu}$ and variance $\\hat{\\sigma}^2$."
   ]
  },
  {
   "cell_type": "code",
   "execution_count": 116,
   "metadata": {},
   "outputs": [
    {
     "name": "stdout",
     "output_type": "stream",
     "text": [
      "Probability that interest rate is greater than 1 =  0.999999966734\n"
     ]
    }
   ],
   "source": [
    "zstar = z4(1, 7500000, mle3_alpha)\n",
    "\n",
    "prob = 1 - sts.norm.cdf(zstar, 10*mle3_rho + (1 - mle3_rho)*mle3_mu, np.sqrt(mle3_sigma**2))\n",
    "print(\"Probability that interest rate is greater than 1 = \", prob)"
   ]
  },
  {
   "cell_type": "markdown",
   "metadata": {},
   "source": [
    "From our parameters, it appears that the probability that the interest rate today is greater than 1 given a productivity shock of 10 in the previous period and the capital stock currently is 7,500,000 is almost 1."
   ]
  }
 ],
 "metadata": {
  "kernelspec": {
   "display_name": "Python 3",
   "language": "python",
   "name": "python3"
  },
  "language_info": {
   "codemirror_mode": {
    "name": "ipython",
    "version": 3
   },
   "file_extension": ".py",
   "mimetype": "text/x-python",
   "name": "python",
   "nbconvert_exporter": "python",
   "pygments_lexer": "ipython3",
   "version": "3.6.1"
  }
 },
 "nbformat": 4,
 "nbformat_minor": 2
}
