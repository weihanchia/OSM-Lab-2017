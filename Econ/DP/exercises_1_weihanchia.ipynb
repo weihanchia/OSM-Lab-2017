{
 "cells": [
  {
   "cell_type": "markdown",
   "metadata": {},
   "source": [
    "## Exercise Set 1 for OSM \n",
    "\n",
    "### Dynamic Programming with John Stachurski\n",
    "\n",
    "### Solutions by Wei Han Chia"
   ]
  },
  {
   "cell_type": "markdown",
   "metadata": {},
   "source": [
    "This notebook contains the first set of exercises for the [OSM](https://bfi.uchicago.edu/osm) bootcamp dynamic programming section.\n",
    "\n",
    "We will use the following libraries:"
   ]
  },
  {
   "cell_type": "code",
   "execution_count": 1,
   "metadata": {
    "collapsed": true
   },
   "outputs": [],
   "source": [
    "import numpy as np\n",
    "import matplotlib.pyplot as plt"
   ]
  },
  {
   "cell_type": "markdown",
   "metadata": {},
   "source": [
    "### Exercise 1\n",
    "\n",
    "Consider the data"
   ]
  },
  {
   "cell_type": "code",
   "execution_count": 4,
   "metadata": {},
   "outputs": [],
   "source": [
    "A = [[0.6, 0.1, -0.3],\n",
    "     [0.5, -0.4, 0.2],\n",
    "     [1.0, -0.2, 1.1]]\n",
    "\n",
    "b = [[12],\n",
    "     [10],\n",
    "     [-1]]\n",
    "\n",
    "A, b = map(np.asarray, (A, b))"
   ]
  },
  {
   "cell_type": "markdown",
   "metadata": {
    "collapsed": true
   },
   "source": [
    "The equation $x = A x + b$ has a unique solution in $\\mathbb R^3$.  Show that this is true by checking the spectral radius condition."
   ]
  },
  {
   "cell_type": "code",
   "execution_count": 3,
   "metadata": {},
   "outputs": [
    {
     "name": "stdout",
     "output_type": "stream",
     "text": [
      "0.965538166352\n"
     ]
    }
   ],
   "source": [
    "from scipy.linalg import eigvals, solve\n",
    "evs = eigvals(A)\n",
    "ρ = max(abs(evs))\n",
    "print(ρ)"
   ]
  },
  {
   "cell_type": "markdown",
   "metadata": {},
   "source": [
    "Compute the solution using both successive approximations --- that is,\n",
    "\n",
    "$$ x_{t+1} = A x_t + b $$\n",
    "\n",
    "and matrix algebra."
   ]
  },
  {
   "cell_type": "code",
   "execution_count": 7,
   "metadata": {},
   "outputs": [
    {
     "name": "stdout",
     "output_type": "stream",
     "text": [
      "[[ -0.89552239]\n",
      " [ 13.34328358]\n",
      " [ 45.64179104]]\n"
     ]
    }
   ],
   "source": [
    "# Solving with Successive Approximations\n",
    "\n",
    "error = 1\n",
    "epsilon = 1e-12\n",
    "x_int = np.asarray([[0],[0],[0]])\n",
    "\n",
    "while error > epsilon:\n",
    "    x_new = np.dot(A,x_int) + b\n",
    "    error = np.linalg.norm(x_new - x_int)\n",
    "    x_int = x_new\n",
    "\n",
    "print(x_new)"
   ]
  },
  {
   "cell_type": "code",
   "execution_count": 10,
   "metadata": {},
   "outputs": [
    {
     "name": "stdout",
     "output_type": "stream",
     "text": [
      "[[ -0.89552239]\n",
      " [ 13.34328358]\n",
      " [ 45.64179104]]\n"
     ]
    }
   ],
   "source": [
    "# Solving with Linear Algebra\n",
    "\n",
    "I_3 = np.eye(3)\n",
    "\n",
    "ans = np.dot(np.linalg.inv(I_3 - A),b)\n",
    "print(ans)"
   ]
  },
  {
   "cell_type": "markdown",
   "metadata": {},
   "source": [
    "### Exercise 2"
   ]
  },
  {
   "cell_type": "markdown",
   "metadata": {},
   "source": [
    "In a standard job search model, an agent \n",
    "\n",
    "\n",
    "* receives offer $w_t$ in period $t$ where $\\{w_t\\}$ is  iid\n",
    "* accepts this offer at time $t$ or remains unemployed\n",
    "    *  if remains unemployed, then receives compensation $c > 0$\n",
    "    * if accepts, then works indefinitely at this wage\n",
    "\n",
    "The agent discounts the future at rate $\\beta \\in (0, 1)$\n",
    "\n",
    "\n",
    "It can be shown that the following is an optimal strategy: \n",
    "\n",
    "* Set a reservation wage $\\bar w$\n",
    "* Accept the first offer $w_t$ such that $w_t \\geq \\bar w$\n",
    "\n",
    "\n",
    "It can also be shown (details omitted) that $\\bar w$ should satisfy\n",
    "\n",
    "$$\n",
    "    \\bar w\n",
    "    = c (1-\\beta) + \\beta\n",
    "    \\sum_{k=1}^K \\max \\left\\{\n",
    "        w_k ,\\, \\bar w\n",
    "    \\right\\}\n",
    "    \\, p_k\n",
    "$$\n",
    "\n",
    "Here \n",
    "\n",
    "* $w_1, \\ldots, w_K$ are the possible wage values, occuring with probabilities $p_1, \\ldots, p_K$\n",
    "* $c > 0$\n",
    "\n",
    "Does there always exists a $x \\in [0, \\infty)$ that solves the equation\n",
    "$$\n",
    "    x\n",
    "    = c (1-\\beta) + \\beta\n",
    "    \\sum_{k=1}^K \\max \\left\\{\n",
    "        w_k ,\\, x\n",
    "    \\right\\}\n",
    "    \\, p_k\n",
    "$$\n",
    "Is it unique?  Suggest a strategy for computing it"
   ]
  },
  {
   "cell_type": "markdown",
   "metadata": {},
   "source": [
    "#### Hints\n",
    "\n",
    "There are different ways to show this, but I found the following facts useful:\n",
    "\n",
    "*  If $x_1, \\ldots, x_K$ are any $K$ numbers, then\n",
    "\n",
    "$$ \\left| \\sum_{k=1}^K x_k \\right| \\leq \\sum_{k=1}^K |x_k| $$\n",
    "\n",
    "* For any $a, x, y$ in $\\mathbb R$, \n",
    "    \n",
    "$$ \n",
    "    \\left| \n",
    "            \\max \\left\\{ a,\\, x \\right\\} - \\max \\left\\{ a,\\, y \\right\\} \n",
    "        \\right|\n",
    "        \\leq | x - y |\n",
    "$$\n",
    "\n",
    "\n",
    "You can convince yourself of the second inequality by sketching and checking different cases..."
   ]
  },
  {
   "cell_type": "markdown",
   "metadata": {},
   "source": [
    "We will use the facts above. To see that they are true, note that the first is just repeated application of the triangle inequality. For the second equality, let us prove it by cases.\n",
    "\n",
    "If $x, y < a$, then the inequality holds trivially, since $0 \\leq |x-y|$.\n",
    "\n",
    "If $x > a, y <a$, then the inequality holds since $|x - a| \\leq |x -y|$ when $y < a$.\n",
    "\n",
    "If $x < a, y > a$, then the inequality holds since $|a - y| \\leq |x - y|$ when $x < a$.\n",
    "\n",
    "Finally if $x, y > a$, then the inequality holds trivially since $|x - y| = |x - y|$.\n",
    "\n",
    "Now in order for prove that there exists a unique solution, we will apply the Banach Contraction mapping theorem to find a fixed point $x$. We can define the mapping $T$ as:\n",
    "$$ T(x) = c(1 - \\beta) + \\beta \\sum_{k=1}^{K} \\max \\{ w_k, x\\} p_k $$\n",
    "\n",
    "Now we want to prove that $T$ is a contraction mapping. To do this, consider $|T(x) - T(x')|$.\n",
    "$$ \\begin{align}\n",
    "\\left| T(x) - T(x')\\right| &= \\left| c(1-\\beta) + \\beta \\sum_{k=1}^{K} \\max \\{ w_k, x\\} p_k - c(1-\\beta) - \\beta \\sum_{k=1}^{K} \\max \\{ w_k, x'\\} p_k \\right| \\\\\n",
    "&= \\left| \\beta \\sum_{k=1}^{K} (\\max\\{w_k, x\\} - \\max\\{w_k - x'\\})p_k \\right| \\\\\n",
    "& \\leq  \\beta \\sum_{k=1}^{K} \\left|(\\max\\{w_k, x\\} - \\max\\{w_k - x'\\})p_k \\right| \\\\\n",
    "& \\leq \\beta |x - x'| \\sum_{k=1}^{K} p_k \\\\\n",
    "& = \\beta |x - x'|\n",
    "\\end{align}$$\n",
    "\n",
    "Now since $\\beta \\in (0,1)$, it follows that $T$ is a contraction mapping. Now simply applying the contraction mapping theorem would prove that there is a unique solution. Further, we can compute this solution by using the same successive approximation method as in question 1.\n",
    "\n",
    "Note here that we have also used the fact that $[0,\\infty)$ is a complete metric space. \n"
   ]
  },
  {
   "cell_type": "markdown",
   "metadata": {},
   "source": [
    "### Exercise 3"
   ]
  },
  {
   "cell_type": "markdown",
   "metadata": {},
   "source": [
    "Let \n",
    "\n",
    "* $\\beta = 0.96$\n",
    "* $(w_1, w_2, w_3) = (0.5, 1.0, 1.5)$\n",
    "* $(p_1, p_2, p_3) = (0.2, 0.4, 0.4)$\n",
    "\n",
    "Compute and plot the reservation wage for unemployment compensation values"
   ]
  },
  {
   "cell_type": "code",
   "execution_count": 85,
   "metadata": {},
   "outputs": [
    {
     "data": {
      "text/plain": [
       "array([ 1.45283019,  1.45378311,  1.45473604,  1.45568897,  1.45664189,\n",
       "        1.45759482,  1.45854774,  1.45950067,  1.46045359,  1.46140652,\n",
       "        1.46235944,  1.46331237,  1.46426529,  1.46521822,  1.46617115,\n",
       "        1.46712407,  1.468077  ,  1.46902992,  1.46998285,  1.47093577,\n",
       "        1.4718887 ,  1.47284162,  1.47379455,  1.47474747,  1.4757004 ,\n",
       "        1.47665333,  1.47760625,  1.47855918,  1.4795121 ,  1.48046503,\n",
       "        1.48141795,  1.48237088,  1.4833238 ,  1.48427673,  1.48522966,\n",
       "        1.48618258,  1.48713551,  1.48808843,  1.48904136,  1.48999428,\n",
       "        1.49094721,  1.49190013,  1.49285306,  1.49380598,  1.49475891,\n",
       "        1.49571184,  1.49666476,  1.49761769,  1.49857061,  1.49952354,\n",
       "        1.50505051,  1.51515152,  1.52525253,  1.53535354,  1.54545455,\n",
       "        1.55555556,  1.56565657,  1.57575758,  1.58585859,  1.5959596 ,\n",
       "        1.60606061,  1.61616162,  1.62626263,  1.63636364,  1.64646465,\n",
       "        1.65656566,  1.66666667,  1.67676768,  1.68686869,  1.6969697 ,\n",
       "        1.70707071,  1.71717172,  1.72727273,  1.73737374,  1.74747475,\n",
       "        1.75757576,  1.76767677,  1.77777778,  1.78787879,  1.7979798 ,\n",
       "        1.80808081,  1.81818182,  1.82828283,  1.83838384,  1.84848485,\n",
       "        1.85858586,  1.86868687,  1.87878788,  1.88888889,  1.8989899 ,\n",
       "        1.90909091,  1.91919192,  1.92929293,  1.93939394,  1.94949495,\n",
       "        1.95959596,  1.96969697,  1.97979798,  1.98989899,  2.        ])"
      ]
     },
     "execution_count": 85,
     "metadata": {},
     "output_type": "execute_result"
    }
   ],
   "source": [
    "c_vals = np.linspace(1, 2, 100)\n",
    "wvec = np.array([[0.5],[1.0],[1.5]])\n",
    "p = np.array([[0.2],[0.4],[0.4]])\n",
    "\n",
    "wbar = np.ones((100))\n",
    "wbarnew = np.ones((100))\n",
    "error = np.ones((100))\n",
    "epsilon = 1e-100\n",
    "beta = 0.96\n",
    "\n",
    "\n",
    "for i in range(0,100):\n",
    "    while error[i] > epsilon:\n",
    "        wtemp = wbar[i]*np.ones((3,1))\n",
    "        wbarnew[i] = c_vals[i]*(1 - beta) + beta*np.sum(np.maximum(wvec, wtemp)*p)\n",
    "        error[i] = abs(wbar[i] - wbarnew[i])\n",
    "        wbar[i] = wbarnew[i]\n",
    "\n",
    "wbar"
   ]
  },
  {
   "cell_type": "markdown",
   "metadata": {},
   "source": [
    "Is the reservation wage increasing or decreasing in this value?  Does that coincide with your intuition?"
   ]
  },
  {
   "cell_type": "markdown",
   "metadata": {
    "collapsed": true
   },
   "source": [
    "The reservation wage is increasing in consumption. This does indeed coincide with our intuition, since a higher unemployment benefit would mean that individuals would need to be provided a higher wage to decide to start working. "
   ]
  },
  {
   "cell_type": "code",
   "execution_count": null,
   "metadata": {
    "collapsed": true
   },
   "outputs": [],
   "source": []
  }
 ],
 "metadata": {
  "kernelspec": {
   "display_name": "Python 3",
   "language": "python",
   "name": "python3"
  },
  "language_info": {
   "codemirror_mode": {
    "name": "ipython",
    "version": 3
   },
   "file_extension": ".py",
   "mimetype": "text/x-python",
   "name": "python",
   "nbconvert_exporter": "python",
   "pygments_lexer": "ipython3",
   "version": "3.6.1"
  }
 },
 "nbformat": 4,
 "nbformat_minor": 2
}
