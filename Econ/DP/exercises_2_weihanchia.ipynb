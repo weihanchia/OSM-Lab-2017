{
 "cells": [
  {
   "cell_type": "markdown",
   "metadata": {},
   "source": [
    "## Exercise Set 2 for OSM \n",
    "\n",
    "### Dynamic Programming with John Stachurski\n",
    "\n",
    "### Wei Han Chia"
   ]
  },
  {
   "cell_type": "markdown",
   "metadata": {},
   "source": [
    "Exercises for the [OSM](https://bfi.uchicago.edu/osm) bootcamp dynamic programming section.\n",
    "\n",
    "We will use the following libraries:"
   ]
  },
  {
   "cell_type": "code",
   "execution_count": 1,
   "metadata": {
    "collapsed": true
   },
   "outputs": [],
   "source": [
    "import numpy as np\n",
    "import matplotlib.pyplot as plt\n",
    "import quantecon as qe"
   ]
  },
  {
   "cell_type": "markdown",
   "metadata": {},
   "source": [
    "### Exercise 1"
   ]
  },
  {
   "cell_type": "markdown",
   "metadata": {},
   "source": [
    "Consider the setting of the [stochastic optimal growth model](https://lectures.quantecon.org/py/optgrowth.html), with the same notation and same assumptions on the primitives $u$, $f$, $\\beta$ and $\\phi$. \n",
    "\n",
    "Let $\\mathscr C$ be all continuous bounded functions on $\\mathbb R_+$.\n",
    "\n",
    "Let $\\sigma \\in \\Sigma$ be any feasible policy and let $U$ be the operator from $\\mathscr C$ to itself defined by\n",
    "\n",
    "$$ Uw(y) = u(\\sigma(y)) + \\beta \\int w(f(y - \\sigma(y))z) \\phi(dz) \\qquad (y \\in \\mathbb R_+)$$\n",
    "\n",
    "Prove that $U$ is a contraction mapping with respect to the supremum distance.  Argue that the unique fixed point of $U$ in $\\mathscr C$ is $v_\\sigma$.\n",
    "\n",
    "(\"Argue\" means provide a sketch of a proof that contains the key ideas, plus some intuition.  Or give a complete, formal proof, if you can.)"
   ]
  },
  {
   "cell_type": "markdown",
   "metadata": {},
   "source": [
    "Once again we will prove that $U$ is a contraction mapping.\n",
    "\n",
    "$$\\begin{align}\n",
    "d(U w(y) , U w'(y))&= d(u(\\sigma(y))  + \\beta \\int w(f(y - \\sigma(y)z)\\phi(dz) , u(\\sigma(y)) - \\beta \\int w'(f(y - \\sigma(y)z)\\phi d(z)) \\\\\n",
    "&= \\beta d(\\int w(f(y - \\sigma(y)z)\\phi (dz), \\int w'(f(y - \\sigma(y)z)\\phi (dz))\n",
    "\\end{align}\n",
    "$$\n",
    "\n",
    "Since we are using the supremeum distance metric then we know that the above expression is equivalent to finding\n",
    "\n",
    "$$\\begin{align}  \\sup \\left| \\mathbb{E}[w(f(y - \\sigma(y))z) - w'(f(y - \\sigma(y))z)] \\right| &\\leq \\sup \\left| w(f(y - \\sigma(y))z) - w'(f(y - \\sigma(y))z) \\right| \\\\\n",
    "&= d(w,w') \\end{align}$$\n",
    "\n",
    "Now that we have shown that U is a contraction mapping with respect to the supremum distance, we know that there exists a unique fixed point for the equation $U(w) = w$. Next ,we want to show that this unique fixed point is $v_\\sigma$.\n",
    "\n",
    "We can prove this simply by considering the definition of $v_\\sigma$ and using it to show that $Uv_\\sigma = v_\\sigma$. This implies that $v_\\sigma$ is a fixed point. Since this fixed point is unique, then it must be $v_\\sigma$."
   ]
  },
  {
   "cell_type": "markdown",
   "metadata": {},
   "source": [
    "### Exercise 2"
   ]
  },
  {
   "cell_type": "markdown",
   "metadata": {},
   "source": [
    "Notation and concepts continue from exercise 2.\n",
    "\n",
    "Use the fact you proved in exercise 2, combined with piecewise linear interpolation method we used for the Bellman operator, to compute and plot good approximations of the value $v_\\sigma$ of the policies\n",
    "\n",
    "* $\\sigma_1(y) = 0.95 y$\n",
    "* $\\sigma_2(y) = H(y) y$ where $H$ is the cdf of the lognormal $LN(0, 0.5)$ distribution.\n",
    "\n",
    "For the latter use `scipy.stats.lognorm.cdf(y, 0.5)`\n",
    "\n",
    "For the primitives, use the default specification in the `LogLinearOG` class from the [stochastic optimal growth model lecture](https://lectures.quantecon.org/py/optgrowth.html).\n",
    "\n",
    "Plot your results, choosing grid and plotting dimensions to best illustrate the two functions.  Based on the plot alone, argue that neither of these policies is an optimal policy."
   ]
  },
  {
   "cell_type": "code",
   "execution_count": 74,
   "metadata": {
    "collapsed": true
   },
   "outputs": [],
   "source": [
    "import numpy as np\n",
    "from scipy.optimize import fminbound\n",
    "from scipy import stats\n",
    "import matplotlib.pyplot as plt\n",
    "\n",
    "alpha, beta, mu, s = 0.4, 0.96 ,0 , 0.1\n",
    "\n",
    "\n",
    "#We can just compute this out normally\n",
    "#First let us generate a grid of shocks and y\n",
    "\n",
    "grid_max = 4         # Largest grid point\n",
    "grid_size = 200      # Number of grid points\n",
    "shock_size = 250     # Number of shock draws in Monte Carlo integral\n",
    "\n",
    "grid = np.linspace(1e-5, grid_max, grid_size)\n",
    "shocks = np.exp(mu + s * np.random.randn(shock_size))\n",
    "\n",
    "#Now let us define a policy function\n",
    "def pol1(y):\n",
    "    return 0.95*y\n",
    "\n",
    "def pol2(y):\n",
    "    return scipy.stats.lognorm.cdf(y,0.5)*y\n",
    "\n",
    "#Let us also define production function\n",
    "def f(k):\n",
    "    return k ** alpha\n",
    "#Now we define a function to run the iterative approximation solution method.\n",
    "\n",
    "\n",
    "def Ex2(w, grid, pol, f, shocks):\n",
    "    ''' Equivalent of Bellman Operator with policy function given\n",
    "    pol = policy function\n",
    "    f = production function\n",
    "    eps = error tolerance\n",
    "    w = grid of value function\n",
    "    grid = grid of incomes\n",
    "    shocks = grid of shocks'''\n",
    "    w_func = lambda x: np.interp(x, grid, w)\n",
    "    \n",
    "    Tw = np.empty_like(w)\n",
    "    \n",
    "    for i,y in enumerate(grid):\n",
    "        Tw[i] = np.log(pol(y)) + beta*np.mean(w_func(f(y- pol(y))) * shocks)\n",
    "   \n",
    "    return Tw\n",
    "\n",
    "def ffp(T, w, pol, shocks, eps=1e-6, maxiter=500):\n",
    "    error = 1\n",
    "    it = 0\n",
    "    while error > eps and it < maxiter:\n",
    "        Tw = Ex2(w, grid, pol, f, shocks)\n",
    "        error = np.linalg.norm(Tw - w)\n",
    "        w = Tw\n",
    "        it += 1\n",
    "    \n",
    "    return w"
   ]
  },
  {
   "cell_type": "code",
   "execution_count": 75,
   "metadata": {
    "collapsed": true
   },
   "outputs": [],
   "source": [
    "w_int = 5 * np.log(grid)\n",
    "res = ffp(Ex2, w_int, pol1, shocks)\n",
    "res2 = ffp(Ex2, w_int, pol2, shocks)"
   ]
  },
  {
   "cell_type": "code",
   "execution_count": 77,
   "metadata": {},
   "outputs": [
    {
     "data": {
      "image/png": "[encoded data removed]",
      "text/plain": [
       "<matplotlib.figure.Figure at 0xdf5c460b8>"
      ]
     },
     "metadata": {},
     "output_type": "display_data"
    }
   ],
   "source": [
    "plt.plot(res)\n",
    "plt.plot(res2)\n",
    "plt.ylim([-100,0])\n",
    "plt.xlim([0,25])\n",
    "plt.show()"
   ]
  },
  {
   "cell_type": "markdown",
   "metadata": {},
   "source": [
    "From the 2 graphs, we see that both value functions for each policy dominates each other when at a certain income level, which suggests that neither can be our optimal policy function"
   ]
  }
 ],
 "metadata": {
  "kernelspec": {
   "display_name": "Python 3",
   "language": "python",
   "name": "python3"
  },
  "language_info": {
   "codemirror_mode": {
    "name": "ipython",
    "version": 3
   },
   "file_extension": ".py",
   "mimetype": "text/x-python",
   "name": "python",
   "nbconvert_exporter": "python",
   "pygments_lexer": "ipython3",
   "version": "3.6.1"
  }
 },
 "nbformat": 4,
 "nbformat_minor": 2
}
