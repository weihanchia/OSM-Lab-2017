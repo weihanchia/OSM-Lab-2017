{
 "cells": [
  {
   "cell_type": "markdown",
   "metadata": {},
   "source": [
    "## Lab 14 - Pagerank Algorithm"
   ]
  },
  {
   "cell_type": "code",
   "execution_count": 57,
   "metadata": {
    "collapsed": true
   },
   "outputs": [],
   "source": [
    "import numpy as np\n",
    "import sympy as sy\n",
    "from matplotlib import pyplot as plt\n",
    "%matplotlib inline\n",
    "import time"
   ]
  },
  {
   "cell_type": "markdown",
   "metadata": {},
   "source": [
    "### Problem 1"
   ]
  },
  {
   "cell_type": "code",
   "execution_count": 4,
   "metadata": {
    "collapsed": true
   },
   "outputs": [],
   "source": [
    "def adjmat(filename):\n",
    "    nnodes = 0\n",
    "    pairs = []\n",
    "    with open('./matrix.txt','r') as f:\n",
    "        next(f) #Skip header\n",
    "        for line in f:\n",
    "            line = line.strip().split()\n",
    "            nnodes = max(int(line[0]), int(line[1]), 0)\n",
    "            pairs.append(line)\n",
    "    adjmat = np.zeros((nnodes+1, nnodes+1))\n",
    "    for k in range(len(pairs)):\n",
    "        i = int(pairs[k][0])\n",
    "        j = int(pairs[k][1])\n",
    "        adjmat[i,j] = 1\n",
    "    return adjmat"
   ]
  },
  {
   "cell_type": "code",
   "execution_count": 5,
   "metadata": {},
   "outputs": [
    {
     "data": {
      "text/plain": [
       "array([[ 0.,  0.,  0.,  0.,  0.,  0.,  0.,  1.],\n",
       "       [ 1.,  0.,  0.,  0.,  0.,  0.,  0.,  0.],\n",
       "       [ 0.,  0.,  0.,  0.,  0.,  0.,  0.,  0.],\n",
       "       [ 1.,  0.,  1.,  0.,  0.,  0.,  1.,  0.],\n",
       "       [ 1.,  0.,  0.,  0.,  0.,  1.,  1.,  0.],\n",
       "       [ 1.,  0.,  0.,  0.,  0.,  0.,  1.,  0.],\n",
       "       [ 1.,  0.,  0.,  0.,  0.,  0.,  0.,  0.],\n",
       "       [ 1.,  0.,  0.,  0.,  0.,  0.,  0.,  0.]])"
      ]
     },
     "execution_count": 5,
     "metadata": {},
     "output_type": "execute_result"
    }
   ],
   "source": [
    "result = adjmat('matrix.txt')\n",
    "result"
   ]
  },
  {
   "cell_type": "markdown",
   "metadata": {},
   "source": [
    "### Problem 2"
   ]
  },
  {
   "cell_type": "code",
   "execution_count": 6,
   "metadata": {
    "collapsed": true
   },
   "outputs": [],
   "source": [
    "def K(array):\n",
    "    rowsum = array.sum(axis=1)\n",
    "    for i in range(len(rowsum)):\n",
    "        if rowsum[i] == 0:\n",
    "            array[i,:] = np.ones(len(rowsum))\n",
    "    D = array.sum(axis=1)\n",
    "    K = array.T / D\n",
    "    return K\n"
   ]
  },
  {
   "cell_type": "code",
   "execution_count": 7,
   "metadata": {},
   "outputs": [
    {
     "data": {
      "text/plain": [
       "array([[ 0.        ,  1.        ,  0.125     ,  0.33333333,  0.33333333,\n",
       "         0.5       ,  1.        ,  1.        ],\n",
       "       [ 0.        ,  0.        ,  0.125     ,  0.        ,  0.        ,\n",
       "         0.        ,  0.        ,  0.        ],\n",
       "       [ 0.        ,  0.        ,  0.125     ,  0.33333333,  0.        ,\n",
       "         0.        ,  0.        ,  0.        ],\n",
       "       [ 0.        ,  0.        ,  0.125     ,  0.        ,  0.        ,\n",
       "         0.        ,  0.        ,  0.        ],\n",
       "       [ 0.        ,  0.        ,  0.125     ,  0.        ,  0.        ,\n",
       "         0.        ,  0.        ,  0.        ],\n",
       "       [ 0.        ,  0.        ,  0.125     ,  0.        ,  0.33333333,\n",
       "         0.        ,  0.        ,  0.        ],\n",
       "       [ 0.        ,  0.        ,  0.125     ,  0.33333333,  0.33333333,\n",
       "         0.5       ,  0.        ,  0.        ],\n",
       "       [ 1.        ,  0.        ,  0.125     ,  0.        ,  0.        ,\n",
       "         0.        ,  0.        ,  0.        ]])"
      ]
     },
     "execution_count": 7,
     "metadata": {},
     "output_type": "execute_result"
    }
   ],
   "source": [
    "K(result)"
   ]
  },
  {
   "cell_type": "markdown",
   "metadata": {},
   "source": [
    "### Problem 3"
   ]
  },
  {
   "cell_type": "code",
   "execution_count": 8,
   "metadata": {
    "collapsed": true
   },
   "outputs": [],
   "source": [
    "def pagerankiter(A,N = None, d = 0.85, tol = 1e-5):\n",
    "    if N == None:\n",
    "        adjmat = A\n",
    "        nsize = A.shape[0]\n",
    "    else:\n",
    "        adjmat = A[:N,:N]\n",
    "        nsize = N\n",
    "    Kmat = K(adjmat)\n",
    "    error = 1\n",
    "    p = np.ones(nsize)/nsize\n",
    "    while error > tol:\n",
    "        pn = p\n",
    "        p = d*Kmat.dot(p) + (1 - d)/nsize * np.ones(nsize)\n",
    "        error = np.linalg.norm(p-pn)\n",
    "    return p"
   ]
  },
  {
   "cell_type": "code",
   "execution_count": 9,
   "metadata": {},
   "outputs": [
    {
     "data": {
      "text/plain": [
       "array([ 0.43868966,  0.02171029,  0.02786154,  0.02171029,  0.02171029,\n",
       "        0.02786154,  0.04585394,  0.39460246])"
      ]
     },
     "execution_count": 9,
     "metadata": {},
     "output_type": "execute_result"
    }
   ],
   "source": [
    "pagerankiter(result)"
   ]
  },
  {
   "cell_type": "markdown",
   "metadata": {},
   "source": [
    "### Problem 4"
   ]
  },
  {
   "cell_type": "code",
   "execution_count": 10,
   "metadata": {
    "collapsed": true
   },
   "outputs": [],
   "source": [
    "from scipy import linalg as la\n",
    "\n",
    "def pagerankeig(A, N= None, d = 0.85):\n",
    "    if N == None:\n",
    "        adjmat = A\n",
    "        nsize = A.shape[0]\n",
    "    else:\n",
    "        adjmat = A[:N, :N]\n",
    "        nsize = N\n",
    "    Kmat = K(adjmat)\n",
    "    B = d*Kmat + ((1 - d)/nsize) * np.ones((nsize, nsize))\n",
    "    eig, eigvec = la.eig(B)\n",
    "    return eigvec[:,0]/ sum(eigvec[:,0]) #Normalize to vector of probabilities"
   ]
  },
  {
   "cell_type": "code",
   "execution_count": 11,
   "metadata": {},
   "outputs": [
    {
     "data": {
      "text/plain": [
       "array([ 0.43869288,  0.02171029,  0.02786154,  0.02171029,  0.02171029,\n",
       "        0.02786154,  0.04585394,  0.39459924])"
      ]
     },
     "execution_count": 11,
     "metadata": {},
     "output_type": "execute_result"
    }
   ],
   "source": [
    "pagerankeig(result)"
   ]
  },
  {
   "cell_type": "markdown",
   "metadata": {},
   "source": [
    "### Problem 5"
   ]
  },
  {
   "cell_type": "code",
   "execution_count": 12,
   "metadata": {
    "collapsed": true
   },
   "outputs": [],
   "source": [
    "# Reading in Data\n",
    "import pandas as pd\n",
    "\n",
    "df = pd.read_csv('ncaa2013.csv', delimiter=',')\n",
    "pairs = [tuple(x) for x in df.values]\n",
    "pairs = np.asarray(pairs)\n",
    "# List of names\n",
    "names = np.unique(pairs)\n",
    "\n",
    "adjmat = np.zeros((len(names), len(names)))\n",
    "\n",
    "for k in range(len(pairs)):\n",
    "    j, = np.where(names == pairs[k,0])\n",
    "    i, = np.where(names == pairs[k,1])\n",
    "    adjmat[i,j] = 1"
   ]
  },
  {
   "cell_type": "code",
   "execution_count": 13,
   "metadata": {},
   "outputs": [
    {
     "data": {
      "text/plain": [
       "array(['Duke', 'Butler', 'Louisville', 'Illinois', 'Indiana', 'Miami FL',\n",
       "       'Syracuse', 'Ohio St', 'Michigan St', 'Kansas', 'Minnesota',\n",
       "       'Michigan', 'Georgetown', 'Wisconsin', 'St Louis', 'New Mexico',\n",
       "       'Virginia', 'Marquette', 'Notre Dame', 'NC State',\n",
       "       'VA Commonwealth', 'Oklahoma St', 'Florida', 'Villanova', 'Temple',\n",
       "       'Arizona', 'UNLV', 'Missouri', 'Cincinnati', 'Pittsburgh', 'Xavier',\n",
       "       'UCLA', 'Connecticut', 'Colorado', 'Gonzaga', 'Creighton', 'Oregon',\n",
       "       'San Diego St', 'Oklahoma', 'California', 'Wichita St', 'Maryland',\n",
       "       'La Salle', 'Tennessee', 'Colorado St', 'North Carolina',\n",
       "       'Kentucky', 'Indiana St', 'Mississippi', 'Boise St', 'Charlotte',\n",
       "       'Iowa St', 'Baylor', 'Kansas St', 'Arkansas', 'Texas A&M', 'Iowa',\n",
       "       'Georgia Tech', 'Air Force', 'Massachusetts', 'Florida St',\n",
       "       'Memphis', 'Washington', 'Arizona St', 'USC', 'Wake Forest', 'Utah',\n",
       "       'Alabama', \"St John's\", 'Northern Iowa', \"St Mary's CA\", 'Purdue',\n",
       "       'Stanford', 'Providence', 'Richmond', 'Belmont', 'Illinois St',\n",
       "       'Bucknell', 'Akron', 'Dayton', \"St Joseph's PA\", 'LSU', 'Nebraska',\n",
       "       'Evansville', 'Boston College', 'BYU', 'Murray St', 'South Florida',\n",
       "       'Northwestern', 'S Dakota St', 'Middle Tenn St', 'Texas',\n",
       "       'New Mexico St', 'Southern Miss', 'UTEP', 'Virginia Tech',\n",
       "       'Wyoming', 'Louisiana Tech', 'Penn St', 'Valparaiso', 'Pacific',\n",
       "       'Rutgers', 'Detroit', 'UCF', 'FL Gulf Coast', 'Drake',\n",
       "       'Santa Clara', 'TCU', 'Canisius', 'St Bonaventure', 'Oregon St',\n",
       "       'S Illinois', 'Denver', 'IL Chicago', 'Iona', 'Vanderbilt',\n",
       "       'Georgia', 'Loyola MD', 'Northeastern', 'Utah St', 'Robert Morris',\n",
       "       'Albany NY', 'Seton Hall', 'Col Charleston', 'Nevada', 'Kent',\n",
       "       'Vermont', 'Bryant', 'Niagara', 'Ohio', 'Bradley', 'South Carolina',\n",
       "       'Fresno St', 'WI Green Bay', 'Stony Brook', 'E Kentucky',\n",
       "       'Princeton', 'SF Austin', 'G Washington', 'Tennessee St',\n",
       "       'Quinnipiac', 'Davidson', 'George Mason', 'Washington St', 'Lehigh',\n",
       "       'UC Irvine', 'Florida Intl', 'Clemson', 'Northwestern LA',\n",
       "       'Arkansas St', 'Cal Poly SLO', 'Harvard', 'Rider', 'N Dakota St',\n",
       "       'Rhode Island', 'Lafayette', 'Oakland', 'Mercer', 'Tulane',\n",
       "       \"Mt St Mary's\", 'Delaware', 'East Carolina', 'W Michigan', 'Tulsa',\n",
       "       'Long Island', 'Maine', 'San Francisco', 'Houston', 'Wagner',\n",
       "       'Fairfield', 'Hartford', 'Central Conn', 'Marshall', 'Auburn',\n",
       "       'UAB', 'Wright St', 'Weber St', 'Morehead St', 'Towson',\n",
       "       'UT Arlington', 'James Madison', 'Buffalo', 'West Virginia',\n",
       "       'Youngstown St', 'Ark Little Rock', 'SMU', 'W Illinois',\n",
       "       'Georgia St', 'Loyola-Chicago', 'Duquesne', 'Gardner Webb',\n",
       "       'Long Beach St', 'Missouri St', 'NC A&T', 'DePaul', 'Manhattan',\n",
       "       'Jacksonville St', 'Ga Southern', 'Santa Barbara', 'CS Northridge',\n",
       "       'Drexel', 'W Kentucky', 'Columbia', 'Savannah St', 'Bowling Green',\n",
       "       'Cleveland St', 'Boston Univ', 'Marist', 'Hawaii', 'Oral Roberts',\n",
       "       'Mississippi St', 'South Alabama', 'Montana', 'Winthrop', 'Brown',\n",
       "       'St Francis NY', 'Coastal Car', 'San Diego', 'Wofford',\n",
       "       'Texas Tech', 'UNC Asheville', 'FL Atlantic', 'UC Davis', 'Yale',\n",
       "       'Troy', 'Toledo', 'Elon', 'Sacred Heart', 'SE Louisiana',\n",
       "       'UT San Antonio', 'Norfolk St', 'McNeese St', 'NC Central',\n",
       "       'CS Fullerton', 'C Michigan', 'E Michigan', 'Ball St',\n",
       "       'CS Sacramento', 'Morgan St', 'SE Missouri St', 'North Texas',\n",
       "       'Tennessee Tech', 'Cornell', 'San Jose St', 'Southern Univ',\n",
       "       'Jacksonville', 'Holy Cross', \"St Peter's\", 'Loy Marymount', 'ULL',\n",
       "       'Delaware St', 'Army', 'Old Dominion', 'Montana St',\n",
       "       'Charleston So', 'Colgate', 'UNC Wilmington', 'Hampton', 'Idaho',\n",
       "       'South Dakota', 'Stetson', 'Lipscomb', 'ETSU', 'E Illinois',\n",
       "       'CS Bakersfield', 'Samford', 'Pepperdine', 'Sam Houston St',\n",
       "       'WI Milwaukee', 'Edwardsville', 'Texas St', 'High Point',\n",
       "       'SC Upstate', 'William & Mary', 'IPFW', 'American Univ',\n",
       "       'N Kentucky', 'Campbell', 'Penn', 'Liberty', 'Portland',\n",
       "       'Bethune-Cookman', 'Monmouth NJ', 'Northern Arizona',\n",
       "       'TX Pan American', 'Miami OH', 'Appalachian St', 'Hofstra',\n",
       "       'W Carolina', 'Fordham', 'TN Martin', 'Chattanooga',\n",
       "       'North Florida', 'North Dakota', 'TX Southern', 'NJIT', 'Siena',\n",
       "       'Nicholls St', 'Utah Valley', 'Radford', 'Navy', 'Cent Arkansas',\n",
       "       'E Washington', 'Southern Utah', 'Ark Pine Bluff', 'Seattle',\n",
       "       'F Dickinson', 'Dartmouth', 'N Colorado', 'VMI', 'Prairie View',\n",
       "       'MD Baltimore Co', 'Alcorn St', 'Houston Bap', 'New Hampshire',\n",
       "       'NE Omaha', 'Jackson St', 'Coppin St', 'Austin Peay', 'Missouri KC',\n",
       "       'Longwood', 'St Francis PA', 'UC Riverside', 'Portland St',\n",
       "       'Alabama A&M', 'Idaho St', 'TAM C. Christi', 'N Illinois',\n",
       "       'Chicago St', 'Presbyterian', 'Citadel', 'IUPUI', 'S Carolina St',\n",
       "       'Alabama St', 'Rice', 'Furman', 'New Orleans', 'UNC Greensboro',\n",
       "       'Kennesaw', 'ULM', 'Howard', 'Lamar', 'Florida A&M', 'MS Valley St',\n",
       "       'Binghamton', 'MD E Shore', 'Grambling'], \n",
       "      dtype='<U16')"
      ]
     },
     "execution_count": 13,
     "metadata": {},
     "output_type": "execute_result"
    }
   ],
   "source": [
    "res = pagerankiter(adjmat, d = 0.7)\n",
    "teamranks = names[np.argsort(res)][::-1]\n",
    "teamranks"
   ]
  },
  {
   "cell_type": "markdown",
   "metadata": {},
   "source": [
    "Our team ranks do match the correct values."
   ]
  },
  {
   "cell_type": "markdown",
   "metadata": {},
   "source": [
    "## Lab 10 - Conditioning and Stability"
   ]
  },
  {
   "cell_type": "markdown",
   "metadata": {},
   "source": [
    "### Problem 1"
   ]
  },
  {
   "cell_type": "code",
   "execution_count": 14,
   "metadata": {
    "collapsed": true
   },
   "outputs": [],
   "source": [
    "def cond(A):\n",
    "    U, s, vh = la.svd(A)\n",
    "    if s.min() < 1e-8:\n",
    "        return np.inf\n",
    "    else:\n",
    "        return s.max()/ s.min()"
   ]
  },
  {
   "cell_type": "code",
   "execution_count": 15,
   "metadata": {},
   "outputs": [
    {
     "name": "stdout",
     "output_type": "stream",
     "text": [
      "8.881784197e-16\n",
      "inf\n",
      "1.0\n"
     ]
    }
   ],
   "source": [
    "# Testing Against numpy.cond\n",
    "A = np.array([[7,0.004],[0.005,1]])\n",
    "print(cond(A) - np.linalg.cond(A))\n",
    "\n",
    "# Testing Singular Matrix\n",
    "A2 = np.array([[1,1],[1,1]]) # Singular Matrix\n",
    "print(cond(A2))\n",
    "\n",
    "# Testing Orthonormal Matrix\n",
    "Q, R = la.qr(A)\n",
    "print(cond(Q))"
   ]
  },
  {
   "cell_type": "markdown",
   "metadata": {},
   "source": [
    "### Problem 2"
   ]
  },
  {
   "cell_type": "code",
   "execution_count": 17,
   "metadata": {
    "collapsed": true
   },
   "outputs": [],
   "source": [
    "def wilkinsonexp(n):\n",
    "    w_roots = np.arange(1,21)\n",
    "    # Get exact coefficients\n",
    "    x, i = sy.symbols('x i')\n",
    "    w = sy.poly_from_expr(sy.product(x-i, (i,1,20)))[0]\n",
    "    w_coeffs = np.array(w.all_coeffs())\n",
    "    condmat = np.zeros((n,2)) # Matrix to store cond numbers\n",
    "    plt.plot(w_roots.real, w_roots.imag, \"o\", label = 'Original')\n",
    "    for i in range(n):\n",
    "        # Draw random integer for coefficient to perturb\n",
    "        k =np.random.randint(0,21)\n",
    "        # Draw random perturbation\n",
    "        perturb = np.random.normal(1,1e-10)\n",
    "        # Get new coefficients\n",
    "        h = np.ones(21)\n",
    "        h[k] = perturb\n",
    "        new_coeffs = w_coeffs * h\n",
    "        new_roots = np.roots(np.poly1d(new_coeffs))\n",
    "        plt.plot(new_roots.real, new_roots.imag,\"k,\")\n",
    "        #Absolute Cond Number\n",
    "        condmat[i,0] = la.norm(new_roots - w_roots, np.inf) / la.norm(h, np.inf)\n",
    "        condmat[i,1] = la.norm(w_coeffs, np.inf) / la.norm(w_roots, np.inf)\n",
    "    plt.xlabel(\"Real\")\n",
    "    plt.ylabel(\"Imaginary\")\n",
    "    plt.title('Simulation')\n",
    "    plt.show()\n",
    "    return condmat"
   ]
  },
  {
   "cell_type": "code",
   "execution_count": 18,
   "metadata": {},
   "outputs": [
    {
     "data": {
      "image/png": "[encoded data removed]",
      "text/plain": [
       "<matplotlib.figure.Figure at 0x194f5a3a58>"
      ]
     },
     "metadata": {},
     "output_type": "display_data"
    },
    {
     "data": {
      "text/plain": [
       "array([[  2.04220617e+01,   6.90187988e+17],\n",
       "       [  1.90000000e+01,   6.90187988e+17],\n",
       "       [  1.93827958e+01,   6.90187988e+17],\n",
       "       [  2.01475964e+01,   6.90187988e+17],\n",
       "       [  1.90004409e+01,   6.90187988e+17],\n",
       "       [  1.93414842e+01,   6.90187988e+17],\n",
       "       [  2.05281156e+01,   6.90187988e+17],\n",
       "       [  1.93098099e+01,   6.90187988e+17],\n",
       "       [  1.90000000e+01,   6.90187988e+17],\n",
       "       [  1.95289551e+01,   6.90187988e+17],\n",
       "       [  1.92019196e+01,   6.90187988e+17],\n",
       "       [  1.91993765e+01,   6.90187988e+17],\n",
       "       [  1.90070597e+01,   6.90187988e+17],\n",
       "       [  2.03027895e+01,   6.90187988e+17],\n",
       "       [  2.01714857e+01,   6.90187988e+17],\n",
       "       [  1.95646348e+01,   6.90187988e+17],\n",
       "       [  1.94449642e+01,   6.90187988e+17],\n",
       "       [  2.01868143e+01,   6.90187988e+17],\n",
       "       [  2.01442610e+01,   6.90187988e+17],\n",
       "       [  1.90000000e+01,   6.90187988e+17],\n",
       "       [  1.96129098e+01,   6.90187988e+17],\n",
       "       [  1.99220811e+01,   6.90187988e+17],\n",
       "       [  1.96865949e+01,   6.90187988e+17],\n",
       "       [  2.03190763e+01,   6.90187988e+17],\n",
       "       [  1.98545920e+01,   6.90187988e+17],\n",
       "       [  1.90000000e+01,   6.90187988e+17],\n",
       "       [  1.97468487e+01,   6.90187988e+17],\n",
       "       [  2.01582070e+01,   6.90187988e+17],\n",
       "       [  2.00469452e+01,   6.90187988e+17],\n",
       "       [  1.90000000e+01,   6.90187988e+17],\n",
       "       [  1.99894986e+01,   6.90187988e+17],\n",
       "       [  2.00999287e+01,   6.90187988e+17],\n",
       "       [  1.90056664e+01,   6.90187988e+17],\n",
       "       [  2.02053785e+01,   6.90187988e+17],\n",
       "       [  1.92790855e+01,   6.90187988e+17],\n",
       "       [  1.97472819e+01,   6.90187988e+17],\n",
       "       [  1.90000000e+01,   6.90187988e+17],\n",
       "       [  2.03827062e+01,   6.90187988e+17],\n",
       "       [  1.97785945e+01,   6.90187988e+17],\n",
       "       [  1.90000000e+01,   6.90187988e+17],\n",
       "       [  1.90000000e+01,   6.90187988e+17],\n",
       "       [  1.90000000e+01,   6.90187988e+17],\n",
       "       [  1.90000000e+01,   6.90187988e+17],\n",
       "       [  1.90000000e+01,   6.90187988e+17],\n",
       "       [  2.00103508e+01,   6.90187988e+17],\n",
       "       [  1.92594729e+01,   6.90187988e+17],\n",
       "       [  2.08479694e+01,   6.90187988e+17],\n",
       "       [  1.90000000e+01,   6.90187988e+17],\n",
       "       [  1.91126129e+01,   6.90187988e+17],\n",
       "       [  1.92702800e+01,   6.90187988e+17],\n",
       "       [  1.91804076e+01,   6.90187988e+17],\n",
       "       [  1.90000000e+01,   6.90187988e+17],\n",
       "       [  1.92527062e+01,   6.90187988e+17],\n",
       "       [  1.90000000e+01,   6.90187988e+17],\n",
       "       [  1.90000000e+01,   6.90187988e+17],\n",
       "       [  1.90332935e+01,   6.90187988e+17],\n",
       "       [  1.99124768e+01,   6.90187988e+17],\n",
       "       [  1.92118227e+01,   6.90187988e+17],\n",
       "       [  1.94215152e+01,   6.90187988e+17],\n",
       "       [  2.04452461e+01,   6.90187988e+17],\n",
       "       [  1.90000000e+01,   6.90187988e+17],\n",
       "       [  1.90235810e+01,   6.90187988e+17],\n",
       "       [  1.90688109e+01,   6.90187988e+17],\n",
       "       [  1.90000000e+01,   6.90187988e+17],\n",
       "       [  2.08077080e+01,   6.90187988e+17],\n",
       "       [  1.96934279e+01,   6.90187988e+17],\n",
       "       [  1.90000000e+01,   6.90187988e+17],\n",
       "       [  1.90000000e+01,   6.90187988e+17],\n",
       "       [  1.90000000e+01,   6.90187988e+17],\n",
       "       [  1.90000000e+01,   6.90187988e+17],\n",
       "       [  1.93110525e+01,   6.90187988e+17],\n",
       "       [  1.90000000e+01,   6.90187988e+17],\n",
       "       [  1.98452635e+01,   6.90187988e+17],\n",
       "       [  2.04487765e+01,   6.90187988e+17],\n",
       "       [  1.90000000e+01,   6.90187988e+17],\n",
       "       [  1.90000000e+01,   6.90187988e+17],\n",
       "       [  1.90305079e+01,   6.90187988e+17],\n",
       "       [  1.98170266e+01,   6.90187988e+17],\n",
       "       [  1.97872398e+01,   6.90187988e+17],\n",
       "       [  1.99714128e+01,   6.90187988e+17],\n",
       "       [  1.90083570e+01,   6.90187988e+17],\n",
       "       [  1.99238793e+01,   6.90187988e+17],\n",
       "       [  1.90595243e+01,   6.90187988e+17],\n",
       "       [  2.01518437e+01,   6.90187988e+17],\n",
       "       [  1.92589829e+01,   6.90187988e+17],\n",
       "       [  2.02513194e+01,   6.90187988e+17],\n",
       "       [  2.09118454e+01,   6.90187988e+17],\n",
       "       [  2.04498851e+01,   6.90187988e+17],\n",
       "       [  2.00584721e+01,   6.90187988e+17],\n",
       "       [  2.02684619e+01,   6.90187988e+17],\n",
       "       [  2.03537037e+01,   6.90187988e+17],\n",
       "       [  1.90823433e+01,   6.90187988e+17],\n",
       "       [  2.01625716e+01,   6.90187988e+17],\n",
       "       [  1.90000000e+01,   6.90187988e+17],\n",
       "       [  2.06186272e+01,   6.90187988e+17],\n",
       "       [  1.94558951e+01,   6.90187988e+17],\n",
       "       [  1.97575643e+01,   6.90187988e+17],\n",
       "       [  2.03306209e+01,   6.90187988e+17],\n",
       "       [  2.03719628e+01,   6.90187988e+17],\n",
       "       [  1.91797946e+01,   6.90187988e+17]])"
      ]
     },
     "execution_count": 18,
     "metadata": {},
     "output_type": "execute_result"
    }
   ],
   "source": [
    "wilkinsonexp(100)"
   ]
  },
  {
   "cell_type": "markdown",
   "metadata": {},
   "source": [
    "### Problem 3"
   ]
  },
  {
   "cell_type": "code",
   "execution_count": 19,
   "metadata": {
    "collapsed": true
   },
   "outputs": [],
   "source": [
    "def eigenperturb(A):\n",
    "    #Construct Perturation\n",
    "    reals = np.random.normal(0, 1e-10, A.shape)\n",
    "    imags = np.random.normal(0, 1e-10, A.shape)\n",
    "    H = reals + 1j*imags\n",
    "    l = la.eigvals(A) \n",
    "    lp = la.eigvals(A + H)\n",
    "    abscon = np.linalg.norm(l - lp) / np.linalg.norm(H)\n",
    "    relcon = np.linalg.norm(A) / np.linalg.norm(l) * abscon\n",
    "    return abscon, relcon"
   ]
  },
  {
   "cell_type": "markdown",
   "metadata": {},
   "source": [
    "### Problem 4"
   ]
  },
  {
   "cell_type": "code",
   "execution_count": 20,
   "metadata": {
    "collapsed": true
   },
   "outputs": [],
   "source": [
    "def relcon(bounds,res):\n",
    "    xmin, xmax, ymin, ymax = bounds\n",
    "    # Generate grid\n",
    "    xgrid = np.linspace(xmin, xmax, res)\n",
    "    ygrid = np.linspace(ymin, ymax, res)\n",
    "    vals = np.zeros((res, res))\n",
    "    for i in range(res):\n",
    "        for j in range(res):\n",
    "            x = xgrid[i]\n",
    "            y = ygrid[j]\n",
    "            A = np.array([[1,x],[y,1]])\n",
    "            abscon, relcon = eigenperturb(A)\n",
    "            vals[i,j] = relcon\n",
    "    plt.pcolormesh(xgrid, ygrid, vals, cmap='gray_r')\n",
    "    plt.colorbar()\n",
    "    plt.show()\n"
   ]
  },
  {
   "cell_type": "code",
   "execution_count": 21,
   "metadata": {},
   "outputs": [
    {
     "data": {
      "image/png": "[encoded data removed]",
      "text/plain": [
       "<matplotlib.figure.Figure at 0x1950b12ef0>"
      ]
     },
     "metadata": {},
     "output_type": "display_data"
    }
   ],
   "source": [
    "relcon((-100,100,-100,100), 200)"
   ]
  },
  {
   "cell_type": "markdown",
   "metadata": {},
   "source": [
    "### Problem 5"
   ]
  },
  {
   "cell_type": "code",
   "execution_count": 22,
   "metadata": {
    "collapsed": true
   },
   "outputs": [],
   "source": [
    "def polytest(n, file):\n",
    "    xk, yk = np.load(file).T\n",
    "    A = np.vander(xk, n+1)\n",
    "    # Solving using normal equations\n",
    "    coeffs = la.inv((A.T.dot(A))).dot(A.T).dot(yk)\n",
    "    fe = np.linalg.norm(A.dot(coeffs) - yk)\n",
    "    # Solving using QR\n",
    "    Q , R = la.qr(A, mode='economic')\n",
    "    coeffs2 = la.solve_triangular(R, Q.T.dot(yk))\n",
    "    fe2 = np.linalg.norm(A.dot(coeffs2) - yk)\n",
    "    plt.plot(xk, yk, \".k\")\n",
    "    plt.plot(xk, np.polyval(coeffs,xk), label=\"Normal Equations\")\n",
    "    plt.plot(xk, np.polyval(coeffs2,xk), label = \"QR Solver\")\n",
    "    plt.legend()\n",
    "    plt.title(\"Fit of Data for Polynomial of Degree \" + str(n))\n",
    "    plt.show()\n",
    "    return fe, fe2"
   ]
  },
  {
   "cell_type": "code",
   "execution_count": 23,
   "metadata": {},
   "outputs": [
    {
     "data": {
      "image/png": "[encoded data removed]",
      "text/plain": [
       "<matplotlib.figure.Figure at 0x19507d2240>"
      ]
     },
     "metadata": {},
     "output_type": "display_data"
    },
    {
     "data": {
      "text/plain": [
       "(152.14373083729362, 4.5683709417007901)"
      ]
     },
     "execution_count": 23,
     "metadata": {},
     "output_type": "execute_result"
    }
   ],
   "source": [
    "polytest(14, 'stability_data.npy')"
   ]
  },
  {
   "cell_type": "markdown",
   "metadata": {},
   "source": [
    "As we can see, the forward errors for the QR algorithm are much smaller."
   ]
  },
  {
   "cell_type": "markdown",
   "metadata": {},
   "source": [
    "### Problem 6"
   ]
  },
  {
   "cell_type": "code",
   "execution_count": 24,
   "metadata": {
    "collapsed": true
   },
   "outputs": [],
   "source": [
    "def problem6():\n",
    "    grid = np.arange(5,50,5)\n",
    "    fe = np.zeros((len(grid)))\n",
    "    x = sy.Symbol('x')\n",
    "    for i in range(len(grid)):\n",
    "        n = int(grid[i])\n",
    "        result = float(sy.integrate(x**n * sy.exp(x-1),(x,0,1)).evalf())\n",
    "        result2 = float(((-1 ** n) * sy.subfactorial(n) + (-1)**(n+1)*sy.factorial(n) / sy.exp(1)).evalf())\n",
    "        fe[i] = abs(result2 - result)/abs(result)\n",
    "    plt.plot(grid, fe)\n",
    "    plt.yscale('log')\n",
    "    plt.show()\n",
    "    "
   ]
  },
  {
   "cell_type": "code",
   "execution_count": 25,
   "metadata": {},
   "outputs": [
    {
     "data": {
      "image/png": "[encoded data removed]",
      "text/plain": [
       "<matplotlib.figure.Figure at 0x1951dbb7b8>"
      ]
     },
     "metadata": {},
     "output_type": "display_data"
    }
   ],
   "source": [
    "problem6()"
   ]
  },
  {
   "cell_type": "markdown",
   "metadata": {},
   "source": [
    "We see that there are portions of n that have very high forward errors when computing via (10.6), which suggests that it is not a very numerically stable algorithm."
   ]
  },
  {
   "cell_type": "markdown",
   "metadata": {},
   "source": [
    "## Lab 8 - Numerical Differentiation"
   ]
  },
  {
   "cell_type": "markdown",
   "metadata": {},
   "source": [
    "### Problem 1"
   ]
  },
  {
   "cell_type": "code",
   "execution_count": 26,
   "metadata": {
    "collapsed": true
   },
   "outputs": [],
   "source": [
    "x = sy.Symbol('x')\n",
    "f = (sy.sin(x) + 1)**(sy.sin(sy.cos(x)))\n",
    "derivative = sy.diff(f, x)\n",
    "fl = sy.lambdify(x, f, 'numpy')\n",
    "dl = sy.lambdify(x, derivative, 'numpy')"
   ]
  },
  {
   "cell_type": "code",
   "execution_count": 27,
   "metadata": {},
   "outputs": [
    {
     "data": {
      "image/png": "[encoded data removed]",
      "text/plain": [
       "<matplotlib.figure.Figure at 0x1951c267f0>"
      ]
     },
     "metadata": {},
     "output_type": "display_data"
    }
   ],
   "source": [
    "grid = np.linspace(-np.pi, np.pi,100)\n",
    "\n",
    "ax = plt.gca()\n",
    "ax.spines[\"bottom\"].set_position(\"zero\")\n",
    "ax.plot(grid, fl(grid), label=\"Function\")\n",
    "ax.plot(grid, dl(grid), label=\"Derivative\")\n",
    "plt.legend()\n",
    "plt.show()\n"
   ]
  },
  {
   "cell_type": "markdown",
   "metadata": {},
   "source": [
    "### Problem 2"
   ]
  },
  {
   "cell_type": "code",
   "execution_count": 28,
   "metadata": {
    "collapsed": true
   },
   "outputs": [],
   "source": [
    "# Lets create functions to approximate the differences\n",
    "def forward1(f, x, h):\n",
    "    y = np.zeros_like(x)\n",
    "    y = (f(x + h) - f(x)) / h\n",
    "    return y\n",
    "\n",
    "def forward2(f,x,h):\n",
    "    y = (-3*f(x) + 4*f(x+h) - f(x+2*h))/(2*h)\n",
    "    return y\n",
    "\n",
    "def backward1(f,x,h):\n",
    "    return (f(x) - f(x-h))/h\n",
    "\n",
    "def backward2(f,x,h):\n",
    "    return (3*f(x) - 4*f(x-h) + f(x-2*h))/(2*h)\n",
    "\n",
    "def centered1(f,x,h):\n",
    "    return (f(x+h) - f(x-h))/(2*h)\n",
    "\n",
    "def centered2(f,x,h):\n",
    "    return (f(x-2*h) - 8*f(x-h) + 8*f(x+h) - f(x + 2*h))/(12*h)"
   ]
  },
  {
   "cell_type": "code",
   "execution_count": 29,
   "metadata": {},
   "outputs": [
    {
     "data": {
      "image/png": "[encoded data removed]",
      "text/plain": [
       "<matplotlib.figure.Figure at 0x1950b69f98>"
      ]
     },
     "metadata": {},
     "output_type": "display_data"
    }
   ],
   "source": [
    "ax = plt.gca()\n",
    "ax.spines[\"bottom\"].set_position(\"zero\")\n",
    "ax.plot(grid, dl(grid), label=\"Derivative\")\n",
    "ax.plot(grid, forward1(fl,grid,0.01), label=\"Forward 1\")\n",
    "ax.plot(grid, forward2(fl,grid,0.01), label=\"Forward 2\")\n",
    "ax.plot(grid, backward1(fl,grid,0.01), label=\"Backward 1\")\n",
    "ax.plot(grid, backward2(fl, grid, 0.01), label=\"Backward 2\")\n",
    "ax.plot(grid, centered1(fl, grid, 0.01), label = \"Centered 1\")\n",
    "ax.plot(grid, centered2(fl, grid, 0.01), label = \"Centered 2\")\n",
    "plt.legend()\n",
    "plt.show()\n"
   ]
  },
  {
   "cell_type": "markdown",
   "metadata": {},
   "source": [
    "All of our approximations approximate the original function closely."
   ]
  },
  {
   "cell_type": "markdown",
   "metadata": {},
   "source": [
    "### Problem 3"
   ]
  },
  {
   "cell_type": "code",
   "execution_count": 42,
   "metadata": {
    "collapsed": true
   },
   "outputs": [],
   "source": [
    "def problem3(x):\n",
    "    logspace = np.logspace(-8,0,9)\n",
    "    accx = dl(x)\n",
    "    aerror = np.zeros((len(logspace), 6))\n",
    "    for i in range(len(logspace)):\n",
    "        aerror[i,0] = abs(forward1(fl, x, logspace[i]) - accx)\n",
    "        aerror[i,1] = abs(forward2(fl, x, logspace[i]) - accx)\n",
    "        aerror[i,2] = abs(backward1(fl, x, logspace[i]) - accx)\n",
    "        aerror[i,3] = abs(backward2(fl,x,logspace[i]) - accx)\n",
    "        aerror[i,4] = abs(centered1(fl, x, logspace[i]) - accx)\n",
    "        aerror[i,5] = abs(centered2(fl, x, logspace[i]) - accx)\n",
    "    plt.figure(figsize=(12,9))\n",
    "    plt.loglog(logspace, aerror[:,0], label =\"Order 1 Forward\")\n",
    "    plt.loglog(logspace, aerror[:,1], label =\"Order 2 Forward\")\n",
    "    plt.loglog(logspace, aerror[:,2], label =\"Order 1 Backward\")\n",
    "    plt.loglog(logspace, aerror[:,3], label =\"Order 2 Backward\")\n",
    "    plt.loglog(logspace, aerror[:,4], label =\"Order 1 Centered\")\n",
    "    plt.loglog(logspace, aerror[:,5], label =\"Order 2 Centered\")\n",
    "    plt.legend()\n",
    "    plt.show() "
   ]
  },
  {
   "cell_type": "code",
   "execution_count": 43,
   "metadata": {},
   "outputs": [
    {
     "data": {
      "image/png": "[encoded data removed]",
      "text/plain": [
       "<matplotlib.figure.Figure at 0x19509bc5c0>"
      ]
     },
     "metadata": {},
     "output_type": "display_data"
    }
   ],
   "source": [
    "problem3(1)"
   ]
  },
  {
   "cell_type": "markdown",
   "metadata": {},
   "source": [
    "### Problem 4"
   ]
  },
  {
   "cell_type": "code",
   "execution_count": 66,
   "metadata": {
    "collapsed": true
   },
   "outputs": [],
   "source": [
    "#Defining functions for x and y\n",
    "\n",
    "a, b = sy.symbols('a b')\n",
    "A = 500\n",
    "x = A * sy.tan(b)/(sy.tan(b) - sy.tan(a))\n",
    "y = A * (sy.tan(a)*sy.tan(b))/(sy.tan(b) - sy.tan(a))\n",
    "xl = sy.lambdify((a, b), x, 'numpy')\n",
    "yl = sy.lambdify((a, b), y, 'numpy')"
   ]
  },
  {
   "cell_type": "code",
   "execution_count": 67,
   "metadata": {},
   "outputs": [
    {
     "data": {
      "text/plain": [
       "1311.2713366014443"
      ]
     },
     "execution_count": 67,
     "metadata": {},
     "output_type": "execute_result"
    }
   ],
   "source": [
    "xl(plane[0,1], plane[0,2])"
   ]
  },
  {
   "cell_type": "code",
   "execution_count": 69,
   "metadata": {},
   "outputs": [
    {
     "name": "stdout",
     "output_type": "stream",
     "text": [
      "[[ 44.6651396   12.65826639]\n",
      " [ 22.99096106   6.11575545]\n",
      " [ 24.28930399   6.74734847]\n",
      " [ 24.071672     6.3358489 ]\n",
      " [ 22.57930216   6.13991136]\n",
      " [ 27.12121361   7.59917457]\n",
      " [ 24.77735554   7.03749401]\n",
      " [ 24.77735554   7.03749401]]\n"
     ]
    }
   ],
   "source": [
    "# Loading Plane Data\n",
    "plane = np.load(\"plane.npy\")\n",
    "plane[:,1:] = np.deg2rad(plane[:,1:])\n",
    "\n",
    "xyvelo = np.zeros_like(plane[:,1:])\n",
    "\n",
    "xyvelo[0,0] = xl(plane[1,1], plane[1,2]) - xl(plane[0,1], plane[0,2])\n",
    "xyvelo[0,1] = yl(plane[1,1], plane[1,2]) - yl(plane[0,1], plane[0,2])\n",
    "\n",
    "for i in range(1,7):\n",
    "    xyvelo[i,0] = (xl(plane[i+1,1], plane[i+1,2]) - xl(plane[i,1], plane[i,2]))/2\n",
    "    xyvelo[i,1] = (yl(plane[i+1,1], plane[i+1,2]) - yl(plane[i,1], plane[i,2]))/2\n",
    "\n",
    "xyvelo[7,0] = (xl(plane[7,1], plane[7,2]) - xl(plane[6,1], plane[6,2]))/2\n",
    "xyvelo[7,1] = (yl(plane[7,1], plane[7,2]) - yl(plane[6,1], plane[6,2]))/2\n",
    "\n",
    "print(xyvelo)"
   ]
  },
  {
   "cell_type": "markdown",
   "metadata": {},
   "source": [
    "### Problem 5"
   ]
  },
  {
   "cell_type": "code",
   "execution_count": 80,
   "metadata": {
    "collapsed": true
   },
   "outputs": [],
   "source": [
    "#Defining function\n",
    "def computejacobian(f, x, h):\n",
    "    shape = len(x)\n",
    "    identity = np.eye(len(x))\n",
    "    mshape = len(f(x))\n",
    "    jacobian = np.zeros((mshape, shape))\n",
    "    for i in range(shape):\n",
    "        for j in range(mshape):\n",
    "            jacobian[j,i] = (f(x + h*identity[:,i])[j] - f(x)[j])/ h\n",
    "    return jacobian"
   ]
  },
  {
   "cell_type": "code",
   "execution_count": 74,
   "metadata": {
    "collapsed": true
   },
   "outputs": [],
   "source": [
    "def f(xvec):\n",
    "    return np.array([xvec[0]**2, xvec[1] - xvec[0]])"
   ]
  },
  {
   "cell_type": "code",
   "execution_count": 81,
   "metadata": {},
   "outputs": [
    {
     "data": {
      "text/plain": [
       "array([[ 2.2,  0. ],\n",
       "       [-1. ,  1. ]])"
      ]
     },
     "execution_count": 81,
     "metadata": {},
     "output_type": "execute_result"
    }
   ],
   "source": [
    "computejacobian(f,[1,1], 0.2)"
   ]
  },
  {
   "cell_type": "markdown",
   "metadata": {},
   "source": [
    "### Problem 6"
   ]
  },
  {
   "cell_type": "code",
   "execution_count": 95,
   "metadata": {},
   "outputs": [
    {
     "name": "stdout",
     "output_type": "stream",
     "text": [
      "Sympy, Error = 0\tTime = 0.012713765548255651\n",
      "Autograd, Error = 5.55111512313e-17\tTime = 0.001208670364860609\n",
      "Second Order Diff, Error = 1.717994095e-05\t Time = 0.000440360694994979\n"
     ]
    }
   ],
   "source": [
    "from autograd import grad\n",
    "import autograd.numpy as anp\n",
    "import time\n",
    "\n",
    "#Sympy implementation\n",
    "x = sy.Symbol('x')\n",
    "fsy = sy.log(sy.sqrt(sy.sin(sy.sqrt(x))))\n",
    "\n",
    "starttime = time.clock()\n",
    "grad_fsy = sy.diff(fsy,x)\n",
    "grad_fsyl = sy.lambdify(x, grad_fsy,'numpy')\n",
    "val = grad_fsyl(np.pi/4)\n",
    "time1 = time.clock() - starttime\n",
    "print(\"Sympy, Error = \" + str(0) +\"\\tTime = \" + str(time1))\n",
    "\n",
    "#Autograd implementation\n",
    "f = lambda x: anp.log(anp.sqrt(anp.sin(anp.sqrt(x))))\n",
    "\n",
    "starttime = time.clock()\n",
    "grad_f = grad(f)\n",
    "val2 = grad_f(anp.pi/4)\n",
    "time2 = time.clock() - starttime\n",
    "autoerror = abs(val - val2)\n",
    "print(\"Autograd, Error = \" + str(autoerror) + \"\\tTime = \" + str(time2))\n",
    "\n",
    "\n",
    "#Second Order Centered Diff Quotient\n",
    "\n",
    "starttime = time.clock()\n",
    "val3 = (f(np.pi/4 + 0.01) - f(np.pi/4 - 0.01))/0.02\n",
    "time3 = time.clock() - starttime\n",
    "print(\"Second Order Diff, Error = \" + str(abs(val3 - val)) + \"\\t Time = \" + str(time3) )\n"
   ]
  },
  {
   "cell_type": "markdown",
   "metadata": {},
   "source": [
    "As expected, we have the longest time for sympy, and the shortest time for the second order difference quotient, as well as the best accuracy for sympy, and the worst accuracy for the second order difference quotient."
   ]
  },
  {
   "cell_type": "markdown",
   "metadata": {},
   "source": [
    "### Problem 7"
   ]
  },
  {
   "cell_type": "code",
   "execution_count": 134,
   "metadata": {},
   "outputs": [
    {
     "data": {
      "image/png": "[encoded data removed]",
      "text/plain": [
       "<matplotlib.figure.Figure at 0x1953648518>"
      ]
     },
     "metadata": {},
     "output_type": "display_data"
    }
   ],
   "source": [
    "# Define the taylor series\n",
    "\n",
    "def taylorsin(x, tol=0.0001):\n",
    "    result = 0\n",
    "    cur_term = x\n",
    "    i = 1\n",
    "    while anp.abs(cur_term) >= tol:\n",
    "        cur_term = (((-1) ** (i-1)) * x ** (2*i -1)) / np.math.factorial(2*i -1)\n",
    "        result += cur_term\n",
    "        i += 1\n",
    "    return result\n",
    "\n",
    "d_taylorsin = grad(taylorsin)\n",
    "d2_taylorsin = grad(d_taylorsin)\n",
    "\n",
    "grid = np.linspace(-np.pi, np.pi, 100)\n",
    "\n",
    "#Compute function and derivatives for plotting\n",
    "sinfunc = np.zeros_like(grid)\n",
    "dsinfunc = np.zeros_like(grid)\n",
    "d2sinfunc = np.zeros_like(grid)\n",
    "for i in range(len(grid)):\n",
    "    sinfunc[i] = taylorsin(grid[i])\n",
    "    dsinfunc[i] = d_taylorsin(grid[i])\n",
    "    d2sinfunc[i] = d2_taylorsin(grid[i])\n",
    "    \n",
    "plt.plot(grid, sinfunc, label=\"Sin Function\")\n",
    "plt.plot(grid, dsinfunc, label = \"First Derivative\")\n",
    "plt.plot(grid, d2sinfunc, label = \"Second Derivative\")\n",
    "plt.legend()\n",
    "plt.show()\n",
    "    "
   ]
  },
  {
   "cell_type": "markdown",
   "metadata": {},
   "source": [
    "These derivatives look like what we would expect."
   ]
  },
  {
   "cell_type": "markdown",
   "metadata": {},
   "source": [
    "### Problem 8"
   ]
  },
  {
   "cell_type": "code",
   "execution_count": 164,
   "metadata": {},
   "outputs": [
    {
     "name": "stdout",
     "output_type": "stream",
     "text": [
      "Sympy \tTime = 0.0028278878817218356\n",
      "SOCDQ \tTime = 0.0018987805760843912\n",
      "Autograd \tTime = 0.006888883457577322\n",
      "[[ 2.28735529  4.46869394]\n",
      " [ 0.84147098  3.        ]]\n"
     ]
    }
   ],
   "source": [
    "# Sympy solution\n",
    "\n",
    "x, y = sy.symbols('x y')\n",
    "f1 = sy.exp(x) *sy.sin(x) + y**3\n",
    "f2 = 3*y - sy.cos(x)\n",
    "F = sy.Matrix([f1,f2])\n",
    "\n",
    "starttime = time.clock()\n",
    "jacobian = F.jacobian([x,y]).subs([(x,1),(y,1)])\n",
    "time1 = time.clock() - starttime\n",
    "print(\"Sympy \\tTime = \" + str(time1))\n",
    "\n",
    "# Second Order Centered Difference Quotient\n",
    "def f(x,y):\n",
    "    return anp.array([anp.exp(x)*anp.sin(y) + y **3, 3*y - anp.cos(x)])\n",
    "\n",
    "starttime = time.clock()\n",
    "jacobian2 = np.zeros((2,2))\n",
    "jacobian2[:,0] =(f(1.01, 1) - f(0.99,1))/ 0.02\n",
    "jacobian2[:,1] = (f(1,1.01) - f(1,0.99))/0.02\n",
    "time2 = time.clock() - starttime\n",
    "print(\"SOCDQ \\tTime = \" + str(time2))\n",
    "\n",
    "#Autograd\n",
    "from autograd import jacobian\n",
    "\n",
    "f2 = lambda x: anp.array([anp.exp(x[0])*anp.sin(x[1]) + x[1]**3, 3*x[1] - anp.cos(x[0])])\n",
    "starttime = time.clock()\n",
    "jacobian3 = jacobian(f2)\n",
    "result = jacobian3(anp.array([1.,1.]))\n",
    "time3 = time.clock() - starttime\n",
    "print(\"Autograd \\tTime = \" + str(time3))\n",
    "print(result)\n"
   ]
  },
  {
   "cell_type": "markdown",
   "metadata": {},
   "source": [
    "### Lab - Numerical Integration"
   ]
  },
  {
   "cell_type": "markdown",
   "metadata": {},
   "source": [
    "### Problem 1"
   ]
  },
  {
   "cell_type": "code",
   "execution_count": 181,
   "metadata": {
    "collapsed": true
   },
   "outputs": [],
   "source": [
    "def numint(f, a, b, N, method):\n",
    "    #Break domain into n intervals\n",
    "    xint = np.linspace(a,b,N)\n",
    "    if method == 'Midpoint':\n",
    "        result = 0\n",
    "        for i in range(N-1):\n",
    "            result += (b-a)/N * f((xint[i+1] + xint[i])/ 2)\n",
    "        return result\n",
    "    elif method == 'Trapezoid':\n",
    "        vec = np.ones_like(xint)*2\n",
    "        vec[0] = 1\n",
    "        vec[N-1] = 1\n",
    "        result = 0\n",
    "        for i in range(N-1):\n",
    "            result += (b-a)/(2*N) *(f(xint[i]) * vec[i])\n",
    "        return result\n",
    "    elif method == 'Simpsons':\n",
    "        result = 0\n",
    "        for i in range(N-1):\n",
    "            result += (xint[i+1] - xint[i])/6 * (f(xint[i]) + 4*f((xint[i+1] + xint[i])/2) + f(xint[i+1]))\n",
    "        return result\n",
    "    else:\n",
    "        raise ValueError(\"Please Specify a method of either Midpoint, Trapezoid or Simpsons\")\n",
    "\n",
    "f = lambda x: 0.1*x**4 - 1.5*x**3 + 0.53*x**2 + 2*x + 1"
   ]
  },
  {
   "cell_type": "code",
   "execution_count": 182,
   "metadata": {},
   "outputs": [
    {
     "data": {
      "text/plain": [
       "4373.3333610938789"
      ]
     },
     "execution_count": 182,
     "metadata": {},
     "output_type": "execute_result"
    }
   ],
   "source": [
    "numint(f, -10, 10, 100, 'Simpsons')"
   ]
  },
  {
   "cell_type": "markdown",
   "metadata": {},
   "source": [
    "### Problem 2"
   ]
  },
  {
   "cell_type": "code",
   "execution_count": 196,
   "metadata": {
    "collapsed": true
   },
   "outputs": [],
   "source": [
    "from scipy import stats\n",
    "\n",
    "def approxnormal(N, k, mu = 0, sigma = 1):\n",
    "    nodes = np.linspace(mu - sigma*k, mu + sigma*k, N)\n",
    "    weights = np.ones_like(nodes)\n",
    "    weights[0] = stats.norm.cdf((nodes[1] + nodes[0])/2, mu, sigma)\n",
    "    for i in range(1, N-1):\n",
    "        zmin = (nodes[i-1] + nodes[i])/2\n",
    "        zmax = (nodes[i] + nodes[i+1])/2\n",
    "        weights[i] = stats.norm.cdf(zmax, mu, sigma) - stats.norm.cdf(zmin, mu, sigma)\n",
    "    weights[N-1] = 1 - stats.norm.cdf((nodes[N-2] + nodes[N-1])/2, mu, sigma)\n",
    "    return nodes, weights\n",
    "    "
   ]
  },
  {
   "cell_type": "code",
   "execution_count": 197,
   "metadata": {},
   "outputs": [
    {
     "data": {
      "text/plain": [
       "(array([-2. , -1.6, -1.2, -0.8, -0.4,  0. ,  0.4,  0.8,  1.2,  1.6,  2. ]),\n",
       " array([ 0.03593032,  0.04482634,  0.07789859,  0.11559786,  0.14648717,\n",
       "         0.15851942,  0.14648717,  0.11559786,  0.07789859,  0.04482634,\n",
       "         0.03593032]))"
      ]
     },
     "execution_count": 197,
     "metadata": {},
     "output_type": "execute_result"
    }
   ],
   "source": [
    "approxnormal(11, 2)"
   ]
  },
  {
   "cell_type": "markdown",
   "metadata": {},
   "source": [
    "### Problem 3"
   ]
  },
  {
   "cell_type": "code",
   "execution_count": 198,
   "metadata": {
    "collapsed": true
   },
   "outputs": [],
   "source": [
    "def approxlognormal(N, k, mu=0, sigma=1):\n",
    "    nodes, weights = approxnormal(N, k, mu, sigma)\n",
    "    nodes = np.exp(nodes)\n",
    "    return nodes, weights"
   ]
  },
  {
   "cell_type": "code",
   "execution_count": 199,
   "metadata": {},
   "outputs": [
    {
     "data": {
      "text/plain": [
       "(array([ 0.13533528,  0.20189652,  0.30119421,  0.44932896,  0.67032005,\n",
       "         1.        ,  1.4918247 ,  2.22554093,  3.32011692,  4.95303242,\n",
       "         7.3890561 ]),\n",
       " array([ 0.03593032,  0.04482634,  0.07789859,  0.11559786,  0.14648717,\n",
       "         0.15851942,  0.14648717,  0.11559786,  0.07789859,  0.04482634,\n",
       "         0.03593032]))"
      ]
     },
     "execution_count": 199,
     "metadata": {},
     "output_type": "execute_result"
    }
   ],
   "source": [
    "approxlognormal(11,2)"
   ]
  },
  {
   "cell_type": "markdown",
   "metadata": {},
   "source": [
    "### Problem 4"
   ]
  },
  {
   "cell_type": "code",
   "execution_count": 208,
   "metadata": {},
   "outputs": [
    {
     "name": "stdout",
     "output_type": "stream",
     "text": [
      "Discrete Estimation = 48453.4129327, Exact Estimation = 50011.0870085\n"
     ]
    }
   ],
   "source": [
    "nodes, weights = approxlognormal(20, 2, 10.5, 0.8)\n",
    "print(\"Discrete Estimation = \" +str(np.sum(nodes*weights)) +\", Exact Estimation = \" + str(np.exp(10.5 + 0.8**2/2)))"
   ]
  },
  {
   "cell_type": "markdown",
   "metadata": {},
   "source": [
    "### Problem 5"
   ]
  },
  {
   "cell_type": "code",
   "execution_count": 239,
   "metadata": {},
   "outputs": [
    {
     "name": "stdout",
     "output_type": "stream",
     "text": [
      "4373.33333333\n"
     ]
    }
   ],
   "source": [
    "# Lets take the results of gaussian quadrature online\n",
    "w1 , w2, w3, x1, x2, x3 = 5/9, 8/9, 5/9, -1*np.sqrt(3/5), 0, np.sqrt(3/5)\n",
    "\n",
    "f = lambda x: 0.1*x**4 - 1.5*x**3 + 0.53*x**2 + 2*x + 1\n",
    "res = 10*(w1*f(10*x1) + w2*f(x2) + w3*f(10*x3))\n",
    "print(res)"
   ]
  },
  {
   "cell_type": "markdown",
   "metadata": {},
   "source": [
    "### Problem 6"
   ]
  },
  {
   "cell_type": "code",
   "execution_count": 240,
   "metadata": {},
   "outputs": [
    {
     "data": {
      "text/plain": [
       "(4373.333333333334, 8.109531705284936e-11)"
      ]
     },
     "execution_count": 240,
     "metadata": {},
     "output_type": "execute_result"
    }
   ],
   "source": [
    "scipy.integrate.quad(f, -10, 10)"
   ]
  },
  {
   "cell_type": "markdown",
   "metadata": {},
   "source": [
    "Both our computed guassian quadrature integration result and the scipy function return values for the integral which are almost exactly identical to the original integral, and are more accurate that our Newton-Cortes quadrature results."
   ]
  },
  {
   "cell_type": "markdown",
   "metadata": {},
   "source": [
    "### Problem 7"
   ]
  },
  {
   "cell_type": "code",
   "execution_count": 53,
   "metadata": {
    "collapsed": true
   },
   "outputs": [],
   "source": [
    "def montecarlo(g, omega, N):\n",
    "    xmin, xmax, ymin, ymax = omega\n",
    "    V = (xmax - xmin)*(ymax - ymin)\n",
    "    draw = np.random.rand(N,2)\n",
    "    draw[:,0] = xmin + draw[:,0] * (xmax - xmin)\n",
    "    draw[:,1] = ymin + draw[:,1] * (ymax - ymin)\n",
    "    result = 0\n",
    "    for i in range(N):\n",
    "        result += g(draw[i,:])\n",
    "    return V/N * result"
   ]
  },
  {
   "cell_type": "code",
   "execution_count": 54,
   "metadata": {
    "collapsed": true
   },
   "outputs": [],
   "source": [
    "def g(xvec):\n",
    "    x, y, = xvec\n",
    "    if x**2 + y**2 <= 1:\n",
    "        return 1\n",
    "    else:\n",
    "        return 0"
   ]
  },
  {
   "cell_type": "code",
   "execution_count": 55,
   "metadata": {},
   "outputs": [
    {
     "name": "stdout",
     "output_type": "stream",
     "text": [
      "Smallest N is 18400\n"
     ]
    }
   ],
   "source": [
    "#Lets interate on N until we get 4 decimal place accuracy.\n",
    "\n",
    "tol = 0.0001\n",
    "error = 1\n",
    "N = 100\n",
    "while error > tol:\n",
    "    result = montecarlo(g, [-1,1,-1,1], N)\n",
    "    error = abs(result - 3.1415)\n",
    "    N += 100\n",
    "\n",
    "print(\"Smallest N is \" + str(N))"
   ]
  },
  {
   "cell_type": "markdown",
   "metadata": {},
   "source": [
    "### Problem 8"
   ]
  },
  {
   "cell_type": "code",
   "execution_count": 74,
   "metadata": {
    "collapsed": true
   },
   "outputs": [],
   "source": [
    "def equiseq(n, d, sequence = 'Weyl'):\n",
    "    prime = np.zeros(d)\n",
    "    result = np.zeros(d)\n",
    "    for i in range(d):\n",
    "        prime[i] = sy.ntheory.generate.prime(i+1)\n",
    "    if sequence == 'Weyl':\n",
    "        for i in range(d):\n",
    "            result[i] = n*np.sqrt(prime[i]) - np.floor(n*np.sqrt(prime[i]))\n",
    "        return result\n",
    "    elif sequence == 'Haber':\n",
    "        for i in range(d):\n",
    "            result[i] = (n*(n+1))/2 * np.sqrt(prime[i]) - np.floor((n*(n+1))/2 * np.sqrt(prime[i]))\n",
    "        return result\n",
    "    elif sequence == 'Niederreiter':\n",
    "        for i in range(d):\n",
    "            result[i] = n*2 **((i+1)/(i+2)) - np.floor(n*2 **((i+1)/(i+2)))\n",
    "        return result\n",
    "    elif sequence == 'Baker':\n",
    "        for i in range(d):\n",
    "            result[i] = n*np.exp(prime[i]) - np.floor(n*np.exp(prime[i]))\n",
    "        return result\n",
    "    else:\n",
    "        raise ValueError(\"Sequence not supported. Try Weyl, Haber, Niederreiter or Baker\")"
   ]
  },
  {
   "cell_type": "code",
   "execution_count": 75,
   "metadata": {},
   "outputs": [
    {
     "data": {
      "image/png": "[encoded data removed]",
      "text/plain": [
       "<matplotlib.figure.Figure at 0x3b3bec7588>"
      ]
     },
     "metadata": {},
     "output_type": "display_data"
    }
   ],
   "source": [
    "# Check graphs\n",
    "\n",
    "graphWeyl = np.zeros((1000,2))\n",
    "graphHaber = np.zeros((1000, 2))\n",
    "graphNie = np.zeros((1000, 2))\n",
    "graphBaker = np.zeros((1000, 2))\n",
    "for i in range(1000):\n",
    "    graphWeyl[i,:] = equiseq(i+1, 2, 'Weyl')\n",
    "    graphHaber[i,:] = equiseq(i+1, 2, 'Haber')\n",
    "    graphNie[i,:] = equiseq(i+1, 2, 'Niederreiter')\n",
    "    graphBaker[i,:] = equiseq(i+1, 2, 'Baker')\n",
    "\n",
    "plt.subplot(221)\n",
    "plt.plot(graphWeyl[:,0], graphWeyl[:,1], \",\")\n",
    "plt.title(\"Weyl\")\n",
    "plt.subplot(222)\n",
    "plt.plot(graphHaber[:,0], graphHaber[:,1], \",\")\n",
    "plt.title(\"Haber\")\n",
    "plt.subplot(223)\n",
    "plt.plot(graphNie[:,0], graphNie[:,1], \",\")\n",
    "plt.title(\"Niederreiter\")\n",
    "plt.subplot(224)\n",
    "plt.plot(graphBaker[:,0], graphBaker[:,1], \",\")\n",
    "plt.title(\"Baker\")\n",
    "plt.tight_layout()\n",
    "plt.show()"
   ]
  },
  {
   "cell_type": "markdown",
   "metadata": {},
   "source": [
    "### Problem 9"
   ]
  },
  {
   "cell_type": "code",
   "execution_count": 57,
   "metadata": {
    "collapsed": true
   },
   "outputs": [],
   "source": [
    "def pseudomontecarlo(g, omega, N):\n",
    "    xmin, xmax, ymin, ymax = omega\n",
    "    V = (xmax - xmin)*(ymax - ymin)\n",
    "    draw = np.zeros((N,2))\n",
    "    # Generate equisequence\n",
    "    for j in range(N):\n",
    "        draw[j,:] = equiseq(j+1, 2)\n",
    "\n",
    "    draw[:,0] = xmin + draw[:,0] * (xmax - xmin)\n",
    "    draw[:,1] = ymin + draw[:,1] * (ymax - ymin)\n",
    "    result = 0\n",
    "    for i in range(N):\n",
    "        result += g(draw[i,:])\n",
    "    return V/N * result"
   ]
  },
  {
   "cell_type": "code",
   "execution_count": 58,
   "metadata": {},
   "outputs": [
    {
     "name": "stdout",
     "output_type": "stream",
     "text": [
      "Smallest N is 5500\n"
     ]
    }
   ],
   "source": [
    "# Check convergence of pseudo montecarlo\n",
    "\n",
    "tol = 0.0001\n",
    "error = 1\n",
    "N = 100\n",
    "while error > tol:\n",
    "    result = pseudomontecarlo(g, [-1,1,-1,1], N)\n",
    "    error = abs(result - 3.1415)\n",
    "    N += 100\n",
    "\n",
    "print(\"Smallest N is \" + str(N))"
   ]
  },
  {
   "cell_type": "markdown",
   "metadata": {},
   "source": [
    "## Lab 11 - Simplex"
   ]
  },
  {
   "cell_type": "markdown",
   "metadata": {},
   "source": [
    "We follow problems 1-6 in implementing a class which takes a linear optimization problem and solves it using the simplex method."
   ]
  },
  {
   "cell_type": "code",
   "execution_count": 49,
   "metadata": {
    "collapsed": true
   },
   "outputs": [],
   "source": [
    "class linearopt(object):\n",
    "    \n",
    "    def __init__(self, c, A, b):\n",
    "        self.A = A\n",
    "        self.m, self.n = np.shape(A)\n",
    "        self.b = b\n",
    "        self.c = c\n",
    "        \n",
    "        #Check feasibility\n",
    "        Ax = A.dot(np.zeros(self.n))\n",
    "        if np.all(Ax - b > 0):\n",
    "            raise ValueError(\"Problem is not Feasible at Origin\")\n",
    "\n",
    "        #Define slack variables\n",
    "        self.vars = np.ones(self.m + self.n) #First m are slack variables, next n are original variables\n",
    "        basic = list(range(self.n)) # Original variables are basic (i.e. = 0 at initial)\n",
    "        nonbasic = list(range(self.n, self.m+self.n)) # Slack variables are non basic at initial\n",
    "        self.L = nonbasic + basic # We order nonbasic variables over basic variables\n",
    "        \n",
    "        # Defining Tableau\n",
    "        Abar = np.concatenate((A, np.eye(self.m)), axis = 1)\n",
    "        cbar = np.reshape(np.hstack((-c, np.zeros(self.m))), (1, self.m+ self.n))\n",
    "        t1 = np.reshape(np.hstack((0,b)),(self.m+1 ,1))\n",
    "        t2 = np.concatenate((cbar, Abar), axis = 0)\n",
    "        t3 = np.reshape(np.hstack((1, np.zeros(self.m))),(self.m + 1,1))\n",
    "        self.tableau = np.concatenate((t1, t2, t3), axis = 1)\n",
    "        self.tableau = self.tableau.astype(float)\n",
    "        \n",
    "    def pivotfinder(self, T):\n",
    "        # Lets find pivot column\n",
    "        j = np.where(T[0,1:] < 0)[0][0]\n",
    "        j = j + 1\n",
    "        # Now lets find row\n",
    "        if len(np.where(T[1:,j] > 0)[0]) == 0:\n",
    "            raise ValueError(\"Problem Unbounded\")\n",
    "        idx = np.where(T[1:,j] > 0)[0]\n",
    "        idx = idx + 1\n",
    "        temp = 10000\n",
    "        for i in idx:\n",
    "            val = T[i,0] / T[i,j]\n",
    "            if val < temp:\n",
    "                temp = val\n",
    "                k = i\n",
    "        return k+1, j-1 #Adjust for skipping first row and first column\n",
    "    \n",
    "    def pivot(self, T):\n",
    "        # Function to run pivot and update tableau once\n",
    "        \n",
    "        #Update basic and nonbasic variable list\n",
    "        i, j = self.pivotfinder(T)\n",
    "        a, b = self.L.index(i), self.L.index(j)\n",
    "        self.L[b], self.L[a] = self.L[a], self.L[b]\n",
    "        \n",
    "        # Row operations\n",
    "        T[i-1,:] = T[i-1,:] / T[i-1,j+1]\n",
    "        for k in range(self.m+1):\n",
    "            if k != i-1 and T[i-1,j+1] != 0:\n",
    "                scale = T[k,j+1] / T[i-1, j+1]\n",
    "                T[k,:] = T[k,:] - scale*T[i-1,:]\n",
    "        return T\n",
    "\n",
    "    def solve(self):\n",
    "        T = self.tableau\n",
    "        while np.any(T[0,1:] < 0):\n",
    "            newT = self.pivot(T)\n",
    "            T = newT\n",
    "        basicdict = dict(zip(self.L[:self.m],T[1:,0].tolist()))\n",
    "        nobasicdict = dict(zip(self.L[self.m:],np.zeros(self.n).tolist()))\n",
    "        return T[0,0], basicdict, nobasicdict"
   ]
  },
  {
   "cell_type": "code",
   "execution_count": 34,
   "metadata": {},
   "outputs": [
    {
     "data": {
      "text/plain": [
       "(5.2000000000000002,\n",
       " {0: 1.6, 1: 0.19999999999999982, 2: 0.5999999999999996},\n",
       " {3: 0.0, 4: 0.0})"
      ]
     },
     "execution_count": 34,
     "metadata": {},
     "output_type": "execute_result"
    }
   ],
   "source": [
    "A = np.array([[1,-1],[3,1],[4,3]])\n",
    "c = np.array([3,2])\n",
    "b = np.array([2,5,7])\n",
    "\n",
    "res = linearopt(c, A, b)\n",
    "\n",
    "res.solve()"
   ]
  },
  {
   "cell_type": "code",
   "execution_count": 40,
   "metadata": {
    "collapsed": true
   },
   "outputs": [],
   "source": [
    "productMix = np.load('productMix.npz')\n",
    "Amat = productMix['A']\n",
    "cmat = productMix['p']\n",
    "mmat = productMix['m']\n",
    "dmat = productMix['d']"
   ]
  },
  {
   "cell_type": "code",
   "execution_count": 51,
   "metadata": {},
   "outputs": [
    {
     "data": {
      "text/plain": [
       "(7453.5964912280706,\n",
       " {0: 1.7894736842105292,\n",
       "  2: 10.0,\n",
       "  4: 6.192982456140348,\n",
       "  6: 0.9659649122807016,\n",
       "  8: 13.807017543859653,\n",
       "  9: 12.0,\n",
       "  10: 8.21052631578947},\n",
       " {1: 0.0, 3: 0.0, 5: 0.0, 7: 0.0})"
      ]
     },
     "execution_count": 51,
     "metadata": {},
     "output_type": "execute_result"
    }
   ],
   "source": [
    "b = np.concatenate((mmat, dmat))\n",
    "A = np.concatenate((Amat, np.eye(4)))\n",
    "\n",
    "productmix = linearopt(cmat, A, b)\n",
    "productmix.solve()"
   ]
  },
  {
   "cell_type": "markdown",
   "metadata": {},
   "source": [
    "Our solver tells us to produce 1.79 units of the first product, and 10 units of the third product, and no other products given the constraints and prices."
   ]
  },
  {
   "cell_type": "markdown",
   "metadata": {},
   "source": [
    "## Lab 13 - Line Search"
   ]
  },
  {
   "cell_type": "markdown",
   "metadata": {},
   "source": [
    "### Problem 1"
   ]
  },
  {
   "cell_type": "code",
   "execution_count": 61,
   "metadata": {
    "collapsed": true
   },
   "outputs": [],
   "source": [
    "def gisearch(f, a, b ,niter=50):\n",
    "    p = 0.5*(3 - np.sqrt(5))\n",
    "    n = 0\n",
    "    while n < niter:\n",
    "        aprime = a + p*(b-a)\n",
    "        bprime = a + (1-p)*(b-a)\n",
    "        if f(aprime) > f(bprime):\n",
    "            a  = aprime\n",
    "        else:\n",
    "            b = bprime\n",
    "        n += 1\n",
    "    return (a+b)/2"
   ]
  },
  {
   "cell_type": "code",
   "execution_count": 69,
   "metadata": {},
   "outputs": [
    {
     "name": "stdout",
     "output_type": "stream",
     "text": [
      "Number of steps to come within 0.001 of true minimizer = 14\n",
      "Time Taken = 0.0028777400356787552\n"
     ]
    }
   ],
   "source": [
    "f = lambda x: np.exp(x) - 4*x\n",
    "\n",
    "error = 1\n",
    "tol = 0.001\n",
    "n = 1\n",
    "true = np.log(4)\n",
    "st = time.clock()\n",
    "while error > tol:\n",
    "    val = gisearch(f, 0,3,n)\n",
    "    error = abs(true - val)\n",
    "    n += 1\n",
    "tottime = time.clock() - st\n",
    "print(\"Number of steps to come within 0.001 of true minimizer = \" + str(n))\n",
    "print(\"Time Taken = \" + str(tottime))"
   ]
  },
  {
   "cell_type": "markdown",
   "metadata": {},
   "source": [
    "### Problem 2"
   ]
  },
  {
   "cell_type": "code",
   "execution_count": 114,
   "metadata": {
    "collapsed": true
   },
   "outputs": [],
   "source": [
    "# The lab asks us to create a function which takes input f,\n",
    "#but the bisection method used on a minimizer clearly\n",
    "#requires the derivative fprime\n",
    "def bisect(fprime, a, b, niter=50):\n",
    "    n = 0 \n",
    "    while n < niter:\n",
    "        x1 = (a + b)/2\n",
    "        if fprime(x1) > 0:\n",
    "            b = x1\n",
    "        else:\n",
    "            a = x1\n",
    "        n += 1\n",
    "    return x1"
   ]
  },
  {
   "cell_type": "code",
   "execution_count": 119,
   "metadata": {},
   "outputs": [
    {
     "name": "stdout",
     "output_type": "stream",
     "text": [
      "Number of steps to come within 0.001 of true minimizer = 11\n",
      "Time Taken = 0.001340631949346971\n"
     ]
    }
   ],
   "source": [
    "fprime = lambda x: np.exp(x) - 4\n",
    "error = 1\n",
    "tol = 0.001\n",
    "n = 1\n",
    "true = np.log(4)\n",
    "st = time.clock()\n",
    "while error > tol:\n",
    "    val = bisect(fprime, 0,3,n)\n",
    "    error = abs(true - val)\n",
    "    n += 1\n",
    "tottime =  time.clock() - st\n",
    "print(\"Number of steps to come within 0.001 of true minimizer = \" + str(n))\n",
    "print(\"Time Taken = \" + str(tottime))"
   ]
  },
  {
   "cell_type": "markdown",
   "metadata": {},
   "source": [
    "### Problem 3"
   ]
  },
  {
   "cell_type": "code",
   "execution_count": 120,
   "metadata": {
    "collapsed": true
   },
   "outputs": [],
   "source": [
    "def newton(f, f1, f2, x0, tol = 1e-6, maxiter = 100):\n",
    "    it = 0\n",
    "    error = 1\n",
    "    while error > tol and it < maxiter:\n",
    "        x1 = x0 - f1(x0) / f2(x0)\n",
    "        error = abs(x1 - x0)\n",
    "        it += 1\n",
    "        x0 = x1\n",
    "    return x0"
   ]
  },
  {
   "cell_type": "code",
   "execution_count": 154,
   "metadata": {},
   "outputs": [
    {
     "data": {
      "text/plain": [
       "-0.29083931499532345"
      ]
     },
     "execution_count": 154,
     "metadata": {},
     "output_type": "execute_result"
    }
   ],
   "source": [
    "f = lambda x: x**2 + np.sin(5*x)\n",
    "f1 = lambda x: 2*x + 5*np.cos(5*x)\n",
    "f2 = lambda x: 2 - 25*np.sin(5*x)\n",
    "\n",
    "newton(f, f1, f2,- 0.1)"
   ]
  },
  {
   "cell_type": "markdown",
   "metadata": {},
   "source": [
    "Comparing our code to the scipy.optim.minimize function, we see that a guess of 0 will not put us on the right point. Rather, we need to guess some x0 about -0.1 to get the global minimizer. This is because the function here has multiple local minum, and what Newton's method gives us is some local minimum/maximum where the first derivative is 0."
   ]
  },
  {
   "cell_type": "markdown",
   "metadata": {},
   "source": [
    "### Problem 4"
   ]
  },
  {
   "cell_type": "code",
   "execution_count": 145,
   "metadata": {
    "collapsed": true
   },
   "outputs": [],
   "source": [
    "def secant(f, f1, x0, x1, tol = 1e-6, maxiter =100):\n",
    "    it = 0\n",
    "    error = 1\n",
    "    while error > tol and it < maxiter:\n",
    "            f2approx = (f1(x1) - f1(x0))/ (x1 - x0)\n",
    "            x2 = x1 - f1(x1)/f2approx\n",
    "            error = abs(x2 - x1)\n",
    "            it += 1\n",
    "            x0 = x1\n",
    "            x1 = x2\n",
    "    return x2"
   ]
  },
  {
   "cell_type": "code",
   "execution_count": 156,
   "metadata": {},
   "outputs": [
    {
     "data": {
      "text/plain": [
       "0.3302945465826273"
      ]
     },
     "execution_count": 156,
     "metadata": {},
     "output_type": "execute_result"
    }
   ],
   "source": [
    "f = lambda x: x**2 + np.sin(x) + np.sin(10*x)\n",
    "f1 = lambda x: 2*x + np.cos(x) + 10*np.sin(10*x)\n",
    "\n",
    "secant(f, f1, 0, -1)"
   ]
  },
  {
   "cell_type": "markdown",
   "metadata": {},
   "source": [
    "Once again we note that our secant method again does not return the global minizer given the bounds provided. This is because that the function is oscillatory and has many local minima and maxima, just like in problem 5"
   ]
  },
  {
   "cell_type": "markdown",
   "metadata": {},
   "source": [
    "### Problem 5"
   ]
  },
  {
   "cell_type": "code",
   "execution_count": 157,
   "metadata": {
    "collapsed": true
   },
   "outputs": [],
   "source": [
    "def backtrack(f, f1, x0, p, c = 1, alpha = 1, rho = 0.8):\n",
    "    while f(x + alpha*p) < f(x) + c*alpha*f1(x).dot(p):\n",
    "        alpha = rho*alpha\n",
    "    return alpha\n",
    "    "
   ]
  },
  {
   "cell_type": "markdown",
   "metadata": {},
   "source": [
    "## Lab 9 - Newton's Method"
   ]
  },
  {
   "cell_type": "markdown",
   "metadata": {},
   "source": [
    "### Problem 1"
   ]
  },
  {
   "cell_type": "code",
   "execution_count": 158,
   "metadata": {
    "collapsed": true
   },
   "outputs": [],
   "source": [
    "def newton9(f, f1, x0, tol=1e-05, maxit = 15):\n",
    "    it = 0\n",
    "    error = 1\n",
    "    while error > tol and it < maxit:\n",
    "        x1 = x0 - f(x0)/f1(x0)\n",
    "        error = abs(x1 - x0)\n",
    "        x0 = x1\n",
    "        it += 1\n",
    "    return x0, it < maxit, it\n",
    "    "
   ]
  },
  {
   "cell_type": "code",
   "execution_count": 160,
   "metadata": {},
   "outputs": [
    {
     "data": {
      "text/plain": [
       "(0.69314718056002544, True, 4)"
      ]
     },
     "execution_count": 160,
     "metadata": {},
     "output_type": "execute_result"
    }
   ],
   "source": [
    "f = lambda x: np.exp(x) - 2\n",
    "f1 = lambda x: np.exp(x)\n",
    "\n",
    "newton9(f, f1, 1)"
   ]
  },
  {
   "cell_type": "markdown",
   "metadata": {},
   "source": [
    "### Problem 2"
   ]
  },
  {
   "cell_type": "code",
   "execution_count": 200,
   "metadata": {
    "collapsed": true
   },
   "outputs": [],
   "source": [
    "def problem2(n1, n2, p1, p2):\n",
    "    f = lambda x: p1*((1+x)**n1 - 1) - p2*(1 - (1+x)**(-n2))\n",
    "    f1 = lambda x: n1*p1*(1+x)**(n1-1) - p2*n2*(1 + x) **(-n2 -1)\n",
    "    value, converged, iteration = newton9(f, f1, 0.1)\n",
    "    return value"
   ]
  },
  {
   "cell_type": "code",
   "execution_count": 201,
   "metadata": {},
   "outputs": [
    {
     "data": {
      "text/plain": [
       "0.03877843223027751"
      ]
     },
     "execution_count": 201,
     "metadata": {},
     "output_type": "execute_result"
    }
   ],
   "source": [
    "problem2(30, 20, 2000, 8000)"
   ]
  },
  {
   "cell_type": "markdown",
   "metadata": {},
   "source": [
    "### Problem 3"
   ]
  },
  {
   "cell_type": "code",
   "execution_count": 80,
   "metadata": {
    "collapsed": true
   },
   "outputs": [],
   "source": [
    "def newtonbacktrack(f, f1, x0, alpha, tol=1e-5, maxiter=15):\n",
    "    it = 0\n",
    "    error = 1\n",
    "    while error > tol and it < maxiter:\n",
    "        x1 = x0 - alpha*f(x0)/f1(x0)\n",
    "        error = abs(x1 - x0)\n",
    "        x0 = x1\n",
    "        it += 1\n",
    "    return x0, it < maxiter, it"
   ]
  },
  {
   "cell_type": "code",
   "execution_count": 177,
   "metadata": {},
   "outputs": [
    {
     "name": "stdout",
     "output_type": "stream",
     "text": [
      "(-5764607523034350.0, False, 30)\n",
      "(1.0000000000000158e-06, True, 4)\n"
     ]
    }
   ],
   "source": [
    "f = lambda x: np.sign(x)*np.power(np.abs(x), 1./3)\n",
    "f1 = lambda x: (1/3)*np.sign(x)*np.power(np.abs(x),1./3 - 1)\n",
    "\n",
    "print(newtonbacktrack(f, f1, 0.01,1, maxiter = 30))\n",
    "print(newtonbacktrack(f, f1, 0.01, 0.3, maxiter = 30))"
   ]
  },
  {
   "cell_type": "markdown",
   "metadata": {},
   "source": [
    "Once again, we set $\\alpha = 0.2$ to get convergence for the function."
   ]
  },
  {
   "cell_type": "markdown",
   "metadata": {},
   "source": [
    "### Problem 4"
   ]
  },
  {
   "cell_type": "code",
   "execution_count": 81,
   "metadata": {
    "collapsed": true
   },
   "outputs": [],
   "source": [
    "f = lambda x: np.sign(x)*np.power(np.abs(x), 1./3)\n",
    "f1 = lambda x: (1/3)*np.sign(x)*np.power(np.abs(x),1./3 - 1)\n",
    "\n",
    "def problem4(f, f1, x0, tol=1e-5, maxiter=15):\n",
    "    alphaspace = np.linspace(0.2, 0.5, 50)\n",
    "    alphavalue = np.ones_like(alphaspace)\n",
    "    for i in range(50):\n",
    "        alphavalue[i] = newtonbacktrack(f, f1, x0, alphaspace[i], maxiter= maxiter)[2]\n",
    "    plt.plot(alphaspace, alphavalue)"
   ]
  },
  {
   "cell_type": "code",
   "execution_count": 198,
   "metadata": {},
   "outputs": [
    {
     "data": {
      "image/png": "[encoded data removed]",
      "text/plain": [
       "<matplotlib.figure.Figure at 0xf8bcbc8e10>"
      ]
     },
     "metadata": {},
     "output_type": "display_data"
    }
   ],
   "source": [
    "problem4(f, f1, 0.01, maxiter = 30)"
   ]
  },
  {
   "cell_type": "markdown",
   "metadata": {},
   "source": [
    "As we guessed, our ideal value is about 0.325."
   ]
  },
  {
   "cell_type": "markdown",
   "metadata": {},
   "source": [
    "### Problem 5"
   ]
  },
  {
   "cell_type": "code",
   "execution_count": 101,
   "metadata": {
    "collapsed": true
   },
   "outputs": [],
   "source": [
    "def newtonvec(f, f1, x0, tol=1e-05, maxit = 15):\n",
    "    it = 0\n",
    "    error = 1\n",
    "    while error > tol and it < maxit:\n",
    "        if np.isscalar(x0):\n",
    "            x1 = x0 - f(x0)/f1(x0)\n",
    "            error = abs(x1 - x0)\n",
    "            x0 = x1\n",
    "            it += 1\n",
    "        else:\n",
    "            y = np.linalg.solve(f1(x0), f(x0))\n",
    "            x1 = x0 - y\n",
    "            error = np.linalg.norm(x1 - x0)\n",
    "            x0 = x1\n",
    "            it += 1\n",
    "            \n",
    "    return x0, it < maxit, it\n",
    "\n",
    "def newtonvecbt(f, f1, x0, alpha = 1, tol=1e-05, maxit = 15):\n",
    "    it = 0\n",
    "    error = 1\n",
    "    while error > tol and it < maxit:\n",
    "        if np.isscalar(x0):\n",
    "            x1 = x0 - alpha*f(x0)/f1(x0)\n",
    "            error = abs(x1 - x0)\n",
    "            x0 = x1\n",
    "            it += 1\n",
    "        else:\n",
    "            y = np.linalg.solve(f1(x0), f(x0))\n",
    "            x1 = x0 - alpha*y\n",
    "            error = np.linalg.norm(x1 - x0)\n",
    "            x0 = x1\n",
    "            it += 1\n",
    "            \n",
    "    return x0, it < maxit, it"
   ]
  },
  {
   "cell_type": "markdown",
   "metadata": {},
   "source": [
    "We can simply substitute the functions in for problems 2 and  4 to see that they still work."
   ]
  },
  {
   "cell_type": "markdown",
   "metadata": {},
   "source": [
    "### Problem 6"
   ]
  },
  {
   "cell_type": "code",
   "execution_count": 121,
   "metadata": {
    "collapsed": true
   },
   "outputs": [],
   "source": [
    "gamma = 0.5\n",
    "delta = 1\n",
    "\n",
    "def bioremed(xvec):\n",
    "    yvec = np.zeros_like(xvec)\n",
    "    yvec[0] = gamma*xvec[0]*xvec[1] - xvec[0]*(1 + xvec[1])\n",
    "    yvec[1] = - xvec[0]*xvec[1] + (delta - xvec[1])*(1 + xvec[1])\n",
    "    return yvec\n",
    "\n",
    "def bioremed1(xvec):\n",
    "    yvec = np.zeros((2,2))\n",
    "    yvec[0,0] = gamma*xvec[1] - ( 1 + xvec[1])\n",
    "    yvec[0,1] = gamma*xvec[0] - xvec[0]\n",
    "    yvec[1,0] = - xvec[1]\n",
    "    yvec[1,1] = -xvec[0] + delta - 1  - 2*xvec[1]\n",
    "    return yvec"
   ]
  },
  {
   "cell_type": "code",
   "execution_count": 122,
   "metadata": {
    "collapsed": true
   },
   "outputs": [],
   "source": [
    "def problem6(sol, alpha, dens = 50):\n",
    "    xgrid = np.linspace(-1/4, 0, dens)\n",
    "    ygrid = np.linspace(0, 1/4, dens)\n",
    "    xv, yv = np.meshgrid(xgrid, ygrid)\n",
    "    xv, yv = np.reshape(xv, (dens**2)), np.reshape(yv, (dens**2))\n",
    "    grid = np.vstack((xv, yv))\n",
    "    x1, y1 = sol\n",
    "    tol = 1e-06\n",
    "    error = 1\n",
    "    it = 0\n",
    "    while error > tol and it < dens**2-1:\n",
    "        it += 1\n",
    "        try:\n",
    "            xans, yans = newtonvecbt(bioremed, bioremed1, grid[:,it], alpha)[0]\n",
    "            error = max(abs(xans - x1), abs(yans - y1))\n",
    "        except np.linalg.linalg.LinAlgError as err:\n",
    "            error = 1\n",
    "    return grid[:,it]"
   ]
  },
  {
   "cell_type": "code",
   "execution_count": 124,
   "metadata": {},
   "outputs": [
    {
     "name": "stdout",
     "output_type": "stream",
     "text": [
      "Starting Point for [0,1] = [-0.22222222  0.        ]\n",
      "Starting Point for [0,-1] = [-0.19444444  0.        ]\n",
      "Starting Point for [3.75,0.25] = [ 0.    0.25]\n"
     ]
    }
   ],
   "source": [
    "print(\"Starting Point for [0,1] = \" + str(problem6([0,1], 1)))\n",
    "print(\"Starting Point for [0,-1] = \" + str(problem6([0,-1], 1)))\n",
    "print(\"Starting Point for [3.75,0.25] = \" + str(problem6([3.75, 0.25], 0.55)))"
   ]
  },
  {
   "cell_type": "markdown",
   "metadata": {},
   "source": [
    "### Problem 7"
   ]
  },
  {
   "cell_type": "code",
   "execution_count": 269,
   "metadata": {
    "collapsed": true
   },
   "outputs": [],
   "source": [
    "def basinsofattraction(f, fprime, roots, bounds, res, maxiter = 30):\n",
    "    rmin, rmax, imin, imax = bounds\n",
    "    x_real = np.linspace(rmin, rmax, res)\n",
    "    x_imag = np.linspace(imin, imax, res)\n",
    "    X_real, X_imag = np.meshgrid(x_real, x_imag)\n",
    "    X_0 = X_real + 1j*X_imag\n",
    "    \n",
    "    it = 0\n",
    "    while it < maxiter:\n",
    "        X_1 = X_0 - f(X_0)/fprime(X_0)\n",
    "        X_0 = X_1\n",
    "        it += 1\n",
    "    \n",
    "    Y = np.zeros((res, res))\n",
    "    for i in range(res):\n",
    "        for j in range(res):\n",
    "            Y[i,j] = np.argmin(abs(roots - X_0[i,j]))\n",
    "    \n",
    "    plt.pcolormesh(X_real, X_imag, Y, cmap = 'brg')"
   ]
  },
  {
   "cell_type": "code",
   "execution_count": 259,
   "metadata": {
    "collapsed": true
   },
   "outputs": [],
   "source": [
    "f = lambda x: x**3 - 1\n",
    "Df = lambda x: 3*x**2\n",
    "roots1 = np.array([1, -1./2 + 1j*np.sqrt(3)/2, -1/2 - 1j*np.sqrt(3)/2])\n",
    "bounds = [-1.5,1.5,-1.5,1.5]"
   ]
  },
  {
   "cell_type": "code",
   "execution_count": 271,
   "metadata": {},
   "outputs": [
    {
     "data": {
      "image/png": "[encoded data removed]",
      "text/plain": [
       "<matplotlib.figure.Figure at 0xf8be396128>"
      ]
     },
     "metadata": {},
     "output_type": "display_data"
    }
   ],
   "source": [
    "basinsofattraction(f, Df, roots1, bounds, 1000)"
   ]
  },
  {
   "cell_type": "code",
   "execution_count": 272,
   "metadata": {},
   "outputs": [
    {
     "data": {
      "image/png": "[encoded data removed]",
      "text/plain": [
       "<matplotlib.figure.Figure at 0xf8be33d320>"
      ]
     },
     "metadata": {},
     "output_type": "display_data"
    }
   ],
   "source": [
    "f2 = lambda x: x**3 - x\n",
    "Df2 = lambda x: 3*x**2 - 1\n",
    "roots2 = np.array([1, -1, 0])\n",
    "\n",
    "basinsofattraction(f2, Df2, roots2, bounds, 1000)"
   ]
  },
  {
   "cell_type": "markdown",
   "metadata": {},
   "source": [
    "## Lab 16 - Iterative Solvers"
   ]
  },
  {
   "cell_type": "code",
   "execution_count": 6,
   "metadata": {
    "collapsed": true
   },
   "outputs": [],
   "source": [
    "import scipy.linalg as la"
   ]
  },
  {
   "cell_type": "markdown",
   "metadata": {},
   "source": [
    "### Problem 1"
   ]
  },
  {
   "cell_type": "code",
   "execution_count": 5,
   "metadata": {
    "collapsed": true
   },
   "outputs": [],
   "source": [
    "def Jacobi(A, b, tol=1e-6, maxiter=30, plot = False):\n",
    "    error = 1\n",
    "    it = 0\n",
    "    D = np.diag(A)\n",
    "    Dinv = np.diag(1/D)\n",
    "    x = np.zeros(np.shape(b)[0])\n",
    "    abserror = np.zeros(maxiter)\n",
    "    while error > tol and it < maxiter:\n",
    "        x1 = x + Dinv.dot((b - A.dot(x)))\n",
    "        error = la.norm(x1 - x, np.inf)\n",
    "        abserror[it] = la.norm(A.dot(x) - b, np.inf)\n",
    "        x = x1\n",
    "        it += 1\n",
    "    if plot == True:\n",
    "        plt.semilogy(list(range(maxiter)), abserror)\n",
    "        plt.xlabel(\"Iteration\")\n",
    "        plt.ylabel(\"Absolute Error of Approximation\")\n",
    "        plt.title(\"Convergence of Jacobi Method\")\n",
    "    return x"
   ]
  },
  {
   "cell_type": "code",
   "execution_count": 7,
   "metadata": {
    "collapsed": true
   },
   "outputs": [],
   "source": [
    "def diag_dom(n, num_entries=None):\n",
    "    if num_entries is None:\n",
    "        num_entries = int(n**1.5) - n\n",
    "    A = np.zeros((n,n))\n",
    "    rows = np.random.choice(np.arange(0,n), size = num_entries)\n",
    "    cols = np.random.choice(np.arange(0,n), size = num_entries)\n",
    "    data = np.random.randint(-4, 4, size = num_entries)\n",
    "    for i in range(num_entries):\n",
    "        A[rows[i],cols[i]] = data[i]\n",
    "    for i in range(n):\n",
    "        A[i,i] = np.sum(np.abs(A[i])) + 1\n",
    "    return A"
   ]
  },
  {
   "cell_type": "code",
   "execution_count": 306,
   "metadata": {},
   "outputs": [
    {
     "data": {
      "text/plain": [
       "True"
      ]
     },
     "execution_count": 306,
     "metadata": {},
     "output_type": "execute_result"
    }
   ],
   "source": [
    "b = np.random.random(10)\n",
    "A = diag_dom(10)\n",
    "\n",
    "x = Jacobi(A, b)\n",
    "np.allclose(b, A.dot(x))"
   ]
  },
  {
   "cell_type": "markdown",
   "metadata": {},
   "source": [
    "### Problem 2\n"
   ]
  },
  {
   "cell_type": "code",
   "execution_count": 315,
   "metadata": {},
   "outputs": [
    {
     "data": {
      "image/png": "[encoded data removed]",
      "text/plain": [
       "<matplotlib.figure.Figure at 0xf8be610898>"
      ]
     },
     "metadata": {},
     "output_type": "display_data"
    }
   ],
   "source": [
    "#We modify the function as required.\n",
    "\n",
    "x = Jacobi(A, b, plot=True)"
   ]
  },
  {
   "cell_type": "markdown",
   "metadata": {},
   "source": [
    "### Problem 3"
   ]
  },
  {
   "cell_type": "code",
   "execution_count": 76,
   "metadata": {
    "collapsed": true
   },
   "outputs": [],
   "source": [
    "def gaussseidel(A, b, tol=1e-8, maxiter=50, plot=False):\n",
    "    error = 1\n",
    "    it = 0\n",
    "    n = np.shape(b)[0]\n",
    "    x = np.zeros(n)\n",
    "    abserror = np.zeros(maxiter)\n",
    "    \n",
    "    while error > tol and it < maxiter:\n",
    "        x_new = np.zeros_like(x)\n",
    "        x0 = np.copy(x)\n",
    "        for i in range(n):\n",
    "            #s1 = np.dot(A[i,:i], x_new[:i])\n",
    "            #s2 = np.dot(A[i,i+1:], x[i + 1:])\n",
    "            #x_new[i] = (b[i] - s1 - s2)/A[i,i]\n",
    "            x[i] = x[i] + (b[i] - A[i,:].dot(x))/A[i,i]\n",
    "            \n",
    "        error = la.norm(x - x0, np.inf)\n",
    "        abserror[it] = la.norm(A.dot(x) - b, np.inf)\n",
    "       # x = x_new\n",
    "        it += 1\n",
    "        \n",
    "    if plot == True:\n",
    "        plt.semilogy(list(range(maxiter)), abserror)\n",
    "        plt.xlabel(\"Iteration\")\n",
    "        plt.ylabel(\"Absolute Error of Approximation\")\n",
    "        plt.title(\"Convergence of GS Method\")\n",
    "    return x"
   ]
  },
  {
   "cell_type": "code",
   "execution_count": 77,
   "metadata": {},
   "outputs": [
    {
     "data": {
      "text/plain": [
       "True"
      ]
     },
     "execution_count": 77,
     "metadata": {},
     "output_type": "execute_result"
    },
    {
     "data": {
      "image/png": "[encoded data removed]",
      "text/plain": [
       "<matplotlib.figure.Figure at 0x3b3c8c6780>"
      ]
     },
     "metadata": {},
     "output_type": "display_data"
    }
   ],
   "source": [
    "b2 = np.random.random(10)\n",
    "A2 = diag_dom(10)\n",
    "x2 = gaussseidel(A2, b2, maxiter = 100, plot = True)\n",
    "val = A2.dot(x2)\n",
    "np.allclose(val ,b2)"
   ]
  },
  {
   "cell_type": "markdown",
   "metadata": {},
   "source": [
    "### Problem 4"
   ]
  },
  {
   "cell_type": "code",
   "execution_count": 11,
   "metadata": {
    "collapsed": true
   },
   "outputs": [],
   "source": [
    "def gaussseidelsparse(A,b, tol=1e-6, maxiter=50):\n",
    "    error = 1\n",
    "    it = 0\n",
    "    n = np.shape(b)[0]\n",
    "    x = np.zeros(n)\n",
    "    \n",
    "    while error > tol and it < maxiter:\n",
    "        x0  = np.copy(x)\n",
    "        for i in range(n):\n",
    "            rowstart = A.indptr[i]\n",
    "            rowend = A.indptr[i+1]\n",
    "            Aix = A.data[rowstart:rowend] @ x[A.indices[rowstart:rowend]]\n",
    "            x[i] += 1/A[i,i]*(b[i] - Aix)\n",
    "        error = la.norm(x - x0, np.inf)\n",
    "        it += 1\n",
    "        \n",
    "    return x\n"
   ]
  },
  {
   "cell_type": "code",
   "execution_count": 12,
   "metadata": {
    "collapsed": true
   },
   "outputs": [],
   "source": [
    "from scipy import sparse\n",
    "A = sparse.csr_matrix(diag_dom(5000))\n",
    "b = np.random.random(5000)"
   ]
  },
  {
   "cell_type": "code",
   "execution_count": 13,
   "metadata": {
    "collapsed": true
   },
   "outputs": [],
   "source": [
    "res = gaussseidelsparse(A, b)"
   ]
  },
  {
   "cell_type": "markdown",
   "metadata": {
    "collapsed": true
   },
   "source": [
    "### Problem 5"
   ]
  },
  {
   "cell_type": "code",
   "execution_count": 14,
   "metadata": {
    "collapsed": true
   },
   "outputs": [],
   "source": [
    "def sorsparse(A,b, w, tol=1e-6, maxiter=50):\n",
    "    error = 1\n",
    "    it = 0\n",
    "    n = np.shape(b)[0]\n",
    "    x = np.zeros(n)\n",
    "    \n",
    "    while error > tol and it < maxiter:\n",
    "        x0  = np.copy(x)\n",
    "        for i in range(n):\n",
    "            rowstart = A.indptr[i]\n",
    "            rowend = A.indptr[i+1]\n",
    "            Aix = A.data[rowstart:rowend] @ x[A.indices[rowstart:rowend]]\n",
    "            x[i] += w/A[i,i]*(b[i] - Aix)\n",
    "        error = la.norm(x - x0, np.inf)\n",
    "        it += 1\n",
    "        \n",
    "    return x, it"
   ]
  },
  {
   "cell_type": "markdown",
   "metadata": {},
   "source": [
    "### Problem 6"
   ]
  },
  {
   "cell_type": "code",
   "execution_count": 48,
   "metadata": {
    "collapsed": true
   },
   "outputs": [],
   "source": [
    "def heat(n, w, tol = 1e-8, maxiter = 100, plot = False):\n",
    "    # Generate A\n",
    "    B = sparse.diags(np.ones(n)*-4) + sparse.diags(np.ones(n-1), -1) + sparse.diags(np.ones(n-1), 1)\n",
    "    diags = []\n",
    "    for i in range(n):\n",
    "        diags.append(B)\n",
    "    A = sparse.block_diag(diags)\n",
    "    A = A + sparse.diags(np.ones(n**2 - n), n) + sparse.diags(np.ones(n**2 - n), -(n))\n",
    "    #Generate b\n",
    "    b = np.zeros(n)\n",
    "    b[0] = -100\n",
    "    b[n-1] = -100\n",
    "    b = np.tile(b, n)\n",
    "    #Solve System\n",
    "    u, it = sorsparse(A, b, w, tol, maxiter)\n",
    "    #Plot\n",
    "    if plot == True:\n",
    "        plt.pcolormesh(np.arange(0,n), np.arange(0,n), np.reshape(u, (n,n)), cmap = 'coolwarm')\n",
    "    return u, it"
   ]
  },
  {
   "cell_type": "code",
   "execution_count": 51,
   "metadata": {},
   "outputs": [
    {
     "data": {
      "image/png": "[encoded data removed]",
      "text/plain": [
       "<matplotlib.figure.Figure at 0x3b38dcd128>"
      ]
     },
     "metadata": {},
     "output_type": "display_data"
    }
   ],
   "source": [
    "u, it = heat(20,1, plot = True)"
   ]
  },
  {
   "cell_type": "markdown",
   "metadata": {},
   "source": [
    "### Problem 7"
   ]
  },
  {
   "cell_type": "code",
   "execution_count": 54,
   "metadata": {
    "collapsed": true
   },
   "outputs": [],
   "source": [
    "wgrid = np.arange(1,2, 0.05)\n",
    "itgrid = np.zeros_like(wgrid)\n",
    "\n",
    "for i in range(len(wgrid)):\n",
    "    u, it = heat(20, wgrid[i], tol = 1e-2, maxiter = 1000)\n",
    "    itgrid[i] = it\n",
    "    "
   ]
  },
  {
   "cell_type": "code",
   "execution_count": 56,
   "metadata": {},
   "outputs": [
    {
     "name": "stdout",
     "output_type": "stream",
     "text": [
      "Minimum Relaxation Factor = 1.75\n"
     ]
    },
    {
     "data": {
      "image/png": "[encoded data removed]",
      "text/plain": [
       "<matplotlib.figure.Figure at 0x3b3beb99b0>"
      ]
     },
     "metadata": {},
     "output_type": "display_data"
    }
   ],
   "source": [
    "plt.plot(wgrid, itgrid)\n",
    "plt.xlabel(\"Relaxation Factor\")\n",
    "plt.ylabel(\"Iterations\")\n",
    "\n",
    "print(\"Minimum Relaxation Factor = \" + str(wgrid[np.argmin(itgrid)]))"
   ]
  }
 ],
 "metadata": {
  "kernelspec": {
   "display_name": "Python 3",
   "language": "python",
   "name": "python3"
  },
  "language_info": {
   "codemirror_mode": {
    "name": "ipython",
    "version": 3
   },
   "file_extension": ".py",
   "mimetype": "text/x-python",
   "name": "python",
   "nbconvert_exporter": "python",
   "pygments_lexer": "ipython3",
   "version": "3.6.1"
  }
 },
 "nbformat": 4,
 "nbformat_minor": 2
}
