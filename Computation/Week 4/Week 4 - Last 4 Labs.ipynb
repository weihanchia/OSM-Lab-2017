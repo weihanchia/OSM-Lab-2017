{
 "cells": [
  {
   "cell_type": "code",
   "execution_count": 166,
   "metadata": {
    "collapsed": true
   },
   "outputs": [],
   "source": [
    "import numpy as np\n",
    "import scipy.linalg as la\n",
    "from matplotlib import pyplot as plt\n",
    "%matplotlib inline"
   ]
  },
  {
   "cell_type": "markdown",
   "metadata": {},
   "source": [
    "### Lab 18 - Interior Points 1 Linear Programs"
   ]
  },
  {
   "cell_type": "markdown",
   "metadata": {},
   "source": [
    "#### Coding Interior Point Function"
   ]
  },
  {
   "cell_type": "code",
   "execution_count": 161,
   "metadata": {},
   "outputs": [],
   "source": [
    "def interiorPoint(A, b, c, niter = 20, tol = 1e-6):\n",
    "    m, n = np.shape(A)\n",
    "    \n",
    "    # Coding Dual Conditions\n",
    "    def KKT(x, l, mu):\n",
    "        F = np.zeros(2*n+m)\n",
    "        F[:n] = A.T.dot(l) + mu - c\n",
    "        F[n:n+m] = A.dot(x) - b\n",
    "        F[n+m:2*n+m] =  np.diag(mu).dot(x)\n",
    "        return F\n",
    "    \n",
    "    # Initializing static 2/3rds of Total Derivative of F\n",
    "    A1 = np.hstack((np.zeros((n,n)), A.T, np.eye(n)))\n",
    "    A2 = np.hstack((A, np.zeros((m,m+n))))\n",
    "    A12 = np.vstack((A1, A2))\n",
    "                   \n",
    "    # Writing solver for search direction\n",
    "    def SD(x, l, mu):\n",
    "        A3 = np.hstack((np.diag(mu), np.zeros((n,m)), np.diag(x)))\n",
    "        lhs = np.vstack((A12, A3))\n",
    "        rhs = - KKT(x, l, mu) + np.concatenate((np.zeros(n),np.zeros(m), (1/10)*(np.dot(x, mu)/n)*np.ones(n)))\n",
    "        #Factorize A and solve using lu_solve\n",
    "        sd = la.lu_solve(la.lu_factor(lhs), rhs)\n",
    "        xstep = sd[:n]\n",
    "        lstep = sd[n:n+m]\n",
    "        mustep= sd[n+m: 2*n + m]\n",
    "        return xstep, lstep, mustep\n",
    "    \n",
    "    # Finding Step Size\n",
    "    def step(x,l,mu):\n",
    "        xstep, lstep, mustep = SD(x,l,mu)        \n",
    "        # Finding amax\n",
    "        index = np.where(mustep < 0)\n",
    "        amax = min(1, np.min(-mu[index]/mustep[index]))\n",
    "        index2 = np.where(xstep < 0)\n",
    "        dmax = min(1, np.min(-x[index2]/xstep[index2]))\n",
    "        a = min(1, 0.95*amax)\n",
    "        d = min(1, 0.95*dmax)\n",
    "        return a, d\n",
    "    \n",
    "    #Starting point\n",
    "    def starting_point(A, b, c):\n",
    "        '''Calculate an initial guess to the solution of the linear program\n",
    "        min c^T x, Ax = b, x >= 0\n",
    "        Nodel and Wright, p.410. '''\n",
    "        # Calculate x, l, mu of minimal form satisfying both\n",
    "        # the primal and dual constraints\n",
    "        B = la.inv(A.dot(A.T))\n",
    "        x = A.T.dot(B.dot(b))\n",
    "        l = B.dot(A.dot(c))\n",
    "        mu = c - A.T.dot(l)\n",
    "        \n",
    "        # Perturb x and s so they are nonnegative\n",
    "        dx = max((-3./2)*x.min(), 0)\n",
    "        dmu = max((-3./2)*mu.min(), 0)\n",
    "        x += dx*np.ones_like(x)\n",
    "        mu += dmu*np.ones_like(mu)\n",
    "        \n",
    "        # Perturb x and mu so that they are not too small\n",
    "        #and not too dissimilar\n",
    "        dx = .5*(x*mu).sum()/mu.sum()\n",
    "        dmu = .5*(x*mu).sum()/x.sum()\n",
    "        x += dx*np.ones_like(x)\n",
    "        mu += dmu*np.ones_like(mu)\n",
    "        \n",
    "        return x, l, mu\n",
    "    \n",
    "    #Iterate to solve\n",
    "    x0, l0, m0 = starting_point(A, b, c)\n",
    "    error = 1\n",
    "    it = 0\n",
    "\n",
    "    while error > tol and it < niter:\n",
    "        xstep, lstep, mustep = SD(x0, l0 ,m0)\n",
    "        astep, dstep = step(x0, l0, m0)\n",
    "        x1 = x0 + dstep*xstep\n",
    "        l1 = l0 + astep*lstep\n",
    "        m1 = m0 + astep*mustep\n",
    "        error = abs(np.dot(x1, m1)/n)\n",
    "        print(\"Iteration = \", it, \"Error = \", error)\n",
    "        it += 1\n",
    "        x0, l0, m0 = x1, l1, m1\n",
    "    \n",
    "    return x0, np.dot(c, x0)"
   ]
  },
  {
   "cell_type": "code",
   "execution_count": 84,
   "metadata": {},
   "outputs": [],
   "source": [
    "def randomLP(m,n):\n",
    "    '''Generate a linear program min c^T x s.t. Ax = b, x > 0.\n",
    "    First generate m feasible constraints, then add slack variables\n",
    "    to convert it into the above form\n",
    "    Inputs:\n",
    "        m(int >= n): number of desired constraints\n",
    "        n(int): dimension of space in which to optimize\n",
    "    Outputs:\n",
    "        A ((m, m+n), ndarray): Constraint matrix\n",
    "        b((m,), ndarray): Constraint vector\n",
    "        c((n+m,), ndarray): Objective Function\n",
    "        x((n,), ndarray): First 'n' terms to the solution of the lp\n",
    "    '''\n",
    "    A = np.random.random((m,n))*20 - 10\n",
    "    A[A[:,1]<0] *= -1\n",
    "    x = np.random.random(n)*10\n",
    "    b = np.zeros(m)\n",
    "    b[:n] = A[:n,:].dot(x)\n",
    "    b[n:] = A[n:,:].dot(x) + np.random.random(m-n)*10\n",
    "    c = np.zeros(n+m)\n",
    "    c[:n] = A[:n,:].sum(axis = 0)/n\n",
    "    A = np.hstack((A, np.eye(m)))\n",
    "    return A, b, -c, x\n"
   ]
  },
  {
   "cell_type": "code",
   "execution_count": 162,
   "metadata": {},
   "outputs": [
    {
     "name": "stdout",
     "output_type": "stream",
     "text": [
      "Iteration =  0 Error =  0.49276415603\n",
      "Iteration =  1 Error =  0.109189901628\n",
      "Iteration =  2 Error =  0.0162502737443\n",
      "Iteration =  3 Error =  0.00235894609842\n",
      "Iteration =  4 Error =  0.000342069881085\n",
      "Iteration =  5 Error =  4.96003099484e-05\n",
      "Iteration =  6 Error =  7.19204626139e-06\n",
      "Iteration =  7 Error =  1.04284671755e-06\n",
      "Iteration =  8 Error =  1.51212774115e-07\n"
     ]
    },
    {
     "data": {
      "text/plain": [
       "True"
      ]
     },
     "execution_count": 162,
     "metadata": {},
     "output_type": "execute_result"
    }
   ],
   "source": [
    "m, n = 3,2\n",
    "A, b, c, x = randomLP(m,n)\n",
    "points, values = interiorPoint(A, b, c)\n",
    "np.allclose(x, points[:n])"
   ]
  },
  {
   "cell_type": "markdown",
   "metadata": {},
   "source": [
    "#### Problem 6"
   ]
  },
  {
   "cell_type": "code",
   "execution_count": 163,
   "metadata": {},
   "outputs": [
    {
     "name": "stdout",
     "output_type": "stream",
     "text": [
      "Iteration =  0 Error =  5.56504917092\n",
      "Iteration =  1 Error =  2.10227818619\n",
      "Iteration =  2 Error =  0.944693624302\n",
      "Iteration =  3 Error =  0.341864719848\n",
      "Iteration =  4 Error =  0.154121346483\n",
      "Iteration =  5 Error =  0.0861098797319\n",
      "Iteration =  6 Error =  0.0468206536254\n",
      "Iteration =  7 Error =  0.0174492938866\n",
      "Iteration =  8 Error =  0.00441459826362\n",
      "Iteration =  9 Error =  0.00107540974984\n",
      "Iteration =  10 Error =  0.000407951842388\n",
      "Iteration =  11 Error =  0.000113027223146\n",
      "Iteration =  12 Error =  2.71460943895e-05\n",
      "Iteration =  13 Error =  6.16992936206e-06\n",
      "Iteration =  14 Error =  1.38280979354e-06\n",
      "Iteration =  15 Error =  3.10801933988e-07\n"
     ]
    }
   ],
   "source": [
    "# Loading Data\n",
    "simdata = np.loadtxt('simdata.txt')\n",
    "\n",
    "# Initializing vectors c and y\n",
    "m, n = simdata.shape[0], simdata.shape[1] - 1\n",
    "c = np.zeros(3*m +2*(n+1))\n",
    "c[:m] = 1\n",
    "y = np.empty(2*m)\n",
    "y[::2] = -simdata[:,0]\n",
    "y[1::2] = simdata[:,0]\n",
    "x = simdata[:,1:]\n",
    "\n",
    "# Writing constraint matrix\n",
    "A = np.ones((2*m, 3*m+2*(n+1)))\n",
    "A[::2,:m] = np.eye(m)\n",
    "A[1::2, :m] = np.eye(m)\n",
    "A[::2, m:m+n] = -x\n",
    "A[1::2, m:m+n] = x\n",
    "A[::2, m+n:m+2*n] = x\n",
    "A[1::2, m+n:m+2*n] = -x\n",
    "A[::2, m+2*n] = -1\n",
    "A[1::2, m+2*n+1] = -1\n",
    "A[:, m+2*n+2:] = - np.eye(2*m, 2*m)\n",
    "\n",
    "sol = interiorPoint(A, y, c)[0]\n",
    "\n",
    "#Backing out Solutions for coefficients\n",
    "beta = sol[m:m+n] - sol[m+n:m+2*n]\n",
    "b = sol[m+2*n] - sol[m+2*n+1]"
   ]
  },
  {
   "cell_type": "code",
   "execution_count": 169,
   "metadata": {},
   "outputs": [
    {
     "data": {
      "image/png": "[encoded data removed]",
      "text/plain": [
       "<matplotlib.figure.Figure at 0x901ee202b0>"
      ]
     },
     "metadata": {},
     "output_type": "display_data"
    }
   ],
   "source": [
    "# Comparing results with regression\n",
    "from scipy.stats import linregress\n",
    "slope, intercept = linregress(simdata[:,1], simdata[:,0])[:2]\n",
    "domain = np.linspace(0, 10, 200)\n",
    "plt.plot(domain, domain*slope +intercept, label = 'Regression Line')\n",
    "plt.plot(domain, domain*beta + b, label = 'LAD Line')\n",
    "plt.legend()\n",
    "plt.show()"
   ]
  },
  {
   "cell_type": "markdown",
   "metadata": {},
   "source": [
    "### Lab 19 - Interior Point - Quadratic Programs"
   ]
  },
  {
   "cell_type": "code",
   "execution_count": 189,
   "metadata": {
    "collapsed": true
   },
   "outputs": [],
   "source": [
    "def qinteriorPoint(Q, A, b, c, guess, niter = 20, tol = 1e-6):\n",
    "    m, n = np.shape(A)\n",
    "    x0, y0, m0 = guess\n",
    "    \n",
    "    # Coding Dual Conditions\n",
    "    def KKT(x, y, mu):\n",
    "        F = np.zeros(2*m+n)\n",
    "        F[:n] = Q.dot(x) - A.T.dot(mu) + c\n",
    "        F[n:n+m] = A.dot(x) - y - b\n",
    "        F[n+m:n+2*m] =  np.diag(y).dot(np.diag(mu).dot(np.ones(m)))\n",
    "        return F\n",
    "    \n",
    "    # Initializing static 2/3rds of Total Derivative of F\n",
    "    A1 = np.hstack((Q, np.zeros((n,m)), -A.T))\n",
    "    A2 = np.hstack((A, -np.eye(m), np.zeros((m,m))))\n",
    "    A12 = np.vstack((A1, A2))\n",
    "                   \n",
    "    # Writing solver for search direction\n",
    "    def SD(x, y, mu):\n",
    "        A3 = np.hstack((np.zeros((m,n)), np.diag(mu), np.diag(y)))\n",
    "        lhs = np.vstack((A12, A3))\n",
    "        rhs = - KKT(x, y, mu) + np.concatenate((np.zeros(n),np.zeros(m), (1/10)*(np.dot(y, mu)/m)*np.ones(m)))\n",
    "        #Factorize A and solve using lu_solve\n",
    "        sd = la.lu_solve(la.lu_factor(lhs), rhs)\n",
    "        xstep = sd[:n]\n",
    "        ystep = sd[n:n+m]\n",
    "        mustep= sd[n+m: 2*m + m]\n",
    "        return xstep, ystep, mustep\n",
    "    \n",
    "    # Finding Step Size\n",
    "    def step(x,y,mu):\n",
    "        xstep, ystep, mustep = SD(x,y,mu)        \n",
    "        # Finding amax\n",
    "        index = np.where(mustep < 0)\n",
    "        bmax = min(1, np.min(-mu[index]/mustep[index]))\n",
    "        index2 = np.where(ystep < 0)\n",
    "        dmax = min(1, np.min(-y[index2]/ystep[index2]))\n",
    "        b = min(1, 0.95*bmax)\n",
    "        d = min(1, 0.95*dmax)\n",
    "        a = min(b, d)\n",
    "        return a\n",
    "    \n",
    "    #Starting point\n",
    "    def starting_point(Q, A, b, c, guess):\n",
    "        m, n = A.shape\n",
    "        x0, y0, m0 = guess\n",
    "        \n",
    "        # Initialize Linear Systems\n",
    "        N = np.zeros((n+m+m, n+m+m))\n",
    "        N[:n,:n] = Q\n",
    "        N[:n, n+m:] = -A.T\n",
    "        N[n:n+m,:n] = A\n",
    "        N[n:n+m, n:n+m] = -np.eye(m)\n",
    "        N[n+m:, n:n+m] = np.diag(m0)\n",
    "        N[n+m:, n+m:] = np.diag(y0)\n",
    "        rhs = np.empty(n+m+m)\n",
    "        rhs[:n] = -(Q.dot(x0) - A.T.dot(m0) + c)\n",
    "        rhs[n:n+m] = -(A.dot(x0) - y0 - b)\n",
    "        rhs[n+m:] = -(y0*m0)\n",
    "        \n",
    "        sol = la.solve(N, rhs)\n",
    "        dx = sol[:n]\n",
    "        dy = sol[n:n+m]\n",
    "        dm = sol[n+m:]\n",
    "        \n",
    "        y0 = np.maximum(1, np.abs(y0 + dy))\n",
    "        m0 = np.maximum(1, np.abs(m0 + dm))\n",
    "        \n",
    "        return x0, y0, m0\n",
    "    \n",
    "    #Iterate to solve\n",
    "    x0, y0, m0 = starting_point(Q, A, b, c, guess)\n",
    "    error = 1\n",
    "    it = 0\n",
    "\n",
    "    while error > tol and it < niter:\n",
    "        xstep, ystep, mustep = SD(x0, y0 ,m0)\n",
    "        astep = step(x0, y0, m0)\n",
    "        x1 = x0 + astep*xstep\n",
    "        y1 = y0 + astep*ystep\n",
    "        m1 = m0 + astep*mustep\n",
    "        error = abs(np.dot(y1, m1)/m)\n",
    "        print(\"Iteration = \", it, \"Error = \", error)\n",
    "        it += 1\n",
    "        x0, y0, m0 = x1, y1, m1\n",
    "    \n",
    "    return x0, np.dot(c, x0)"
   ]
  },
  {
   "cell_type": "code",
   "execution_count": 177,
   "metadata": {
    "collapsed": true
   },
   "outputs": [],
   "source": [
    "# Let us test this function on the example in the text.\n",
    "\n",
    "Q = np.array([[1, -1],[-1,2]])\n",
    "c = np.array([-2, -6])\n",
    "A = np.array([[-1,-1],[1, -2],[-2,-1],[1,0],[0,1]])\n",
    "b = np.array([-2,-2,-3,0,0])\n",
    "\n",
    "guess = (np.array([0.5,0.5]),np.ones(5), np.ones(5)) "
   ]
  },
  {
   "cell_type": "code",
   "execution_count": 190,
   "metadata": {},
   "outputs": [
    {
     "name": "stdout",
     "output_type": "stream",
     "text": [
      "Iteration =  0 Error =  0.250466780797\n",
      "Iteration =  1 Error =  0.126003419989\n",
      "Iteration =  2 Error =  0.0428048440472\n",
      "Iteration =  3 Error =  0.00780515664659\n",
      "Iteration =  4 Error =  0.00120645224731\n",
      "Iteration =  5 Error =  0.000176277948144\n",
      "Iteration =  6 Error =  2.55786408208e-05\n",
      "Iteration =  7 Error =  3.70920346842e-06\n",
      "Iteration =  8 Error =  5.37840205737e-07\n"
     ]
    },
    {
     "data": {
      "text/plain": [
       "(array([ 0.66666696,  1.33333287]), -9.3333311307129083)"
      ]
     },
     "execution_count": 190,
     "metadata": {},
     "output_type": "execute_result"
    }
   ],
   "source": [
    "qinteriorPoint(Q, A, b, c, guess)"
   ]
  },
  {
   "cell_type": "code",
   "execution_count": null,
   "metadata": {
    "collapsed": true
   },
   "outputs": [],
   "source": []
  }
 ],
 "metadata": {
  "kernelspec": {
   "display_name": "Python 3",
   "language": "python",
   "name": "python3"
  },
  "language_info": {
   "codemirror_mode": {
    "name": "ipython",
    "version": 3
   },
   "file_extension": ".py",
   "mimetype": "text/x-python",
   "name": "python",
   "nbconvert_exporter": "python",
   "pygments_lexer": "ipython3",
   "version": "3.6.1"
  }
 },
 "nbformat": 4,
 "nbformat_minor": 2
}
