{
 "cells": [
  {
   "cell_type": "markdown",
   "metadata": {},
   "source": [
    "# Lab 3 - Numpy"
   ]
  },
  {
   "cell_type": "markdown",
   "metadata": {},
   "source": [
    "## Problem 1"
   ]
  },
  {
   "cell_type": "code",
   "execution_count": 37,
   "metadata": {
    "collapsed": true
   },
   "outputs": [],
   "source": [
    "import numpy as np"
   ]
  },
  {
   "cell_type": "code",
   "execution_count": null,
   "metadata": {},
   "outputs": [],
   "source": [
    "A = np.array([[3,-1,4],[1,5,-9]])\n",
    "B = np.array([[2,6,-5,3],[5,-8,9,7],[9,-3,-2,-3]])\n",
    "np.dot(A,B)"
   ]
  },
  {
   "cell_type": "markdown",
   "metadata": {},
   "source": [
    "## Problem 2"
   ]
  },
  {
   "cell_type": "code",
   "execution_count": null,
   "metadata": {},
   "outputs": [],
   "source": [
    "def prob2(x):\n",
    "    x2 = np.dot(x,x)\n",
    "    return -1*np.dot(x2,x) + 9*x2 - 15*x\n",
    "A = np.array([[3,1,4],[1,5,9],[-5,3,1]])\n",
    "\n",
    "prob2(A)"
   ]
  },
  {
   "cell_type": "markdown",
   "metadata": {},
   "source": [
    "## Problem 3"
   ]
  },
  {
   "cell_type": "code",
   "execution_count": null,
   "metadata": {},
   "outputs": [],
   "source": [
    "A =np.triu(np.ones((7,7)))\n",
    "B = np.full_like(A,5) + np.tril(np.full_like(A,-6))\n",
    "\n",
    "def prob3(x,y):\n",
    "    res = A@B@A\n",
    "    return res.astype(np.float64)\n",
    "\n",
    "prob3(A,B)"
   ]
  },
  {
   "cell_type": "markdown",
   "metadata": {},
   "source": [
    "## Problem 4"
   ]
  },
  {
   "cell_type": "code",
   "execution_count": null,
   "metadata": {},
   "outputs": [],
   "source": [
    "def prob4(x):\n",
    "    C = x\n",
    "    C[C<0] = 0\n",
    "    return C\n"
   ]
  },
  {
   "cell_type": "markdown",
   "metadata": {},
   "source": [
    "## Problem 5"
   ]
  },
  {
   "cell_type": "code",
   "execution_count": null,
   "metadata": {},
   "outputs": [],
   "source": [
    "A = np.array([[0,2,4],[1,3,5]])\n",
    "B = np.tril(3*np.ones((3,3)))\n",
    "C = -2*np.eye(3)\n",
    "\n",
    "def prob5(x,y,z):\n",
    "    r1 = np.hstack((np.zeros((3,3)),np.transpose(x),np.eye(3)))\n",
    "    r2 = np.hstack((x, np.zeros((2,2)), np.zeros((2,3))))\n",
    "    r3 = np.hstack((y,np.zeros((3,2)),z))\n",
    "    return np.vstack((r1,r2,r3))\n",
    "\n",
    "prob5(A,B,C)\n",
    "    "
   ]
  },
  {
   "cell_type": "markdown",
   "metadata": {},
   "source": [
    "## Problem 6"
   ]
  },
  {
   "cell_type": "code",
   "execution_count": null,
   "metadata": {},
   "outputs": [],
   "source": [
    "def prob6(x):\n",
    "    d = x.sum(axis=1)\n",
    "    y = x.shape[0]\n",
    "    d = d.reshape((y,1))\n",
    "    return x/d"
   ]
  },
  {
   "cell_type": "markdown",
   "metadata": {},
   "source": [
    "## Problem 7"
   ]
  },
  {
   "cell_type": "code",
   "execution_count": 41,
   "metadata": {},
   "outputs": [
    {
     "data": {
      "text/plain": [
       "70600674"
      ]
     },
     "execution_count": 41,
     "metadata": {},
     "output_type": "execute_result"
    }
   ],
   "source": [
    "grid = np.load(\"grid.npy\")\n",
    "\n",
    "def prob7(x):\n",
    "    a = np.max(x[:,:-3]*x[:,1:-2]*x[:,2:-1]*x[:,3:])\n",
    "    b = np.max(x[:-3,:]*x[1:-2,:]*x[2:-1,:]*x[3:,:])\n",
    "    c = np.max(x[:-3,:-3]*x[1:-2,1:-2]*x[2:-1,2:-1]*x[3:,3:])\n",
    "    d = np.max(x[3:,:-3]*x[2:-1,1:-2]*x[1:-2,2:-1]*x[:-3,3:])\n",
    "    return max(a,b,c,d)\n",
    "\n",
    "prob7(grid)"
   ]
  },
  {
   "cell_type": "markdown",
   "metadata": {},
   "source": [
    "# Lab 2 - Standard Library"
   ]
  },
  {
   "cell_type": "markdown",
   "metadata": {},
   "source": [
    "## Problem 1"
   ]
  },
  {
   "cell_type": "code",
   "execution_count": null,
   "metadata": {},
   "outputs": [],
   "source": [
    "def prob1(x):\n",
    "    return [min(x), max(x),sum(x)/len(x)]\n"
   ]
  },
  {
   "cell_type": "markdown",
   "metadata": {},
   "source": [
    "## Problem 2"
   ]
  },
  {
   "cell_type": "code",
   "execution_count": null,
   "metadata": {},
   "outputs": [],
   "source": [
    "def prob2():\n",
    "    num_1 = 1\n",
    "    num_2 = num_1\n",
    "    num_2 += 1\n",
    "    nt = num_2 == num_1\n",
    "    \n",
    "    str_1 = 'abc'\n",
    "    str_2 = str_1\n",
    "    str_2 += 'a'\n",
    "    st = str_2 == str_1\n",
    "    \n",
    "    list_1 = [1,2,3]\n",
    "    list_2 = list_1\n",
    "    list_2 = list_2.append(1)\n",
    "    lt = list_2 == list_1\n",
    "    \n",
    "    tup_1 = (1,2,3)\n",
    "    tup_2 = tup_1\n",
    "    tup_2 += (1,)\n",
    "    tt = tup_2 == tup_1\n",
    "    \n",
    "    dict_1 = {1: 'x',2: 'b'}\n",
    "    dict_2 = dict_1\n",
    "    dict_2[1] = 'a'\n",
    "    dt = dict_2 == dict_1\n",
    "    \n",
    "    return (nt,st,lt,tt,dt)\n",
    "    \n",
    "prob2()"
   ]
  },
  {
   "cell_type": "markdown",
   "metadata": {},
   "source": [
    "## Problem 3"
   ]
  },
  {
   "cell_type": "code",
   "execution_count": null,
   "metadata": {},
   "outputs": [],
   "source": [
    "import calc as c \n",
    "\n",
    "def hyp(x,y):\n",
    "    return c.root(c.add(c.prod(x,x),c.prod(y,y)))\n",
    "\n",
    "hyp(3,4)"
   ]
  },
  {
   "cell_type": "markdown",
   "metadata": {},
   "source": [
    "## Problem 4"
   ]
  },
  {
   "cell_type": "code",
   "execution_count": 143,
   "metadata": {
    "scrolled": true
   },
   "outputs": [
    {
     "name": "stdout",
     "output_type": "stream",
     "text": [
      "Please enter your nameW\n",
      "Numbers left: [1, 2, 3, 4, 5, 6, 7, 8, 9, 10]\n",
      "Roll: 11\n",
      "Numbers to eliminate: 10 1\n",
      "Numbers left: [2, 3, 4, 5, 6, 7, 8, 9]\n",
      "Roll: 10\n",
      "Numbers to eliminate: 8 2\n",
      "Numbers left: [3, 4, 5, 6, 7, 9]\n",
      "Roll: 5\n",
      "Numbers to eliminate: 5\n",
      "Numbers left: [3, 4, 6, 7, 9]\n",
      "Roll: 7\n",
      "Numbers to eliminate: 7\n",
      "Numbers left: [3, 4, 6, 9]\n",
      "Roll: 6\n",
      "Numbers to eliminate: 6\n",
      "Game Over!\n",
      "Score for Player W: 16 points\n"
     ]
    }
   ],
   "source": [
    "run boxgame.py"
   ]
  },
  {
   "cell_type": "markdown",
   "metadata": {},
   "source": [
    "# Lab 4 - OOP"
   ]
  },
  {
   "cell_type": "markdown",
   "metadata": {},
   "source": [
    "All classes for this lab can be found in Lab4.py"
   ]
  },
  {
   "cell_type": "markdown",
   "metadata": {},
   "source": [
    "## Problem 1"
   ]
  },
  {
   "cell_type": "code",
   "execution_count": 1,
   "metadata": {},
   "outputs": [],
   "source": [
    "run Lab4.py"
   ]
  },
  {
   "cell_type": "code",
   "execution_count": 75,
   "metadata": {},
   "outputs": [
    {
     "name": "stdout",
     "output_type": "stream",
     "text": [
      "['pencil', 'pen', 'paper', 'computer']\n",
      "[]\n"
     ]
    }
   ],
   "source": [
    "def test_backpack():\n",
    "    testpack = Backpack(\"Wei Han\",\"Red\")\n",
    "    if testpack.maxsize != 5:\n",
    "        print(\"Wrong default Max_Size\")\n",
    "    for item in [\"pencil\",\"pen\",\"paper\",\"computer\"]:\n",
    "        testpack.put(item)\n",
    "    print(testpack.contents)\n",
    "    \n",
    "    testpack.dump()\n",
    "    print(testpack.contents)\n",
    "    \n",
    "test_backpack()"
   ]
  },
  {
   "cell_type": "markdown",
   "metadata": {},
   "source": [
    "## Problem 2"
   ]
  },
  {
   "cell_type": "code",
   "execution_count": 73,
   "metadata": {
    "scrolled": false
   },
   "outputs": [
    {
     "name": "stdout",
     "output_type": "stream",
     "text": [
      "You flew 5!\n",
      "5\n",
      "[]\n"
     ]
    }
   ],
   "source": [
    "def test_jetpack():\n",
    "    testpack = Jetpack(\"Wei Han\",\"Silver\")\n",
    "    if testpack.fuel != 10:\n",
    "        print(\"Wrong default fuel capacity\")\n",
    "    testpack.fly(5)\n",
    "    print(testpack.fuel)\n",
    "    testpack.dump()\n",
    "    print(testpack.contents)\n",
    "    \n",
    "test_jetpack()"
   ]
  },
  {
   "cell_type": "markdown",
   "metadata": {},
   "source": [
    "## Problem 3"
   ]
  },
  {
   "cell_type": "code",
   "execution_count": 93,
   "metadata": {},
   "outputs": [
    {
     "name": "stdout",
     "output_type": "stream",
     "text": [
      "Owner:\tWei Han\n",
      "Color:\tSilver\n",
      "Size: \t0\n",
      "Max Size:\t2\n",
      "Contents:\t[]\n",
      "False\n"
     ]
    }
   ],
   "source": [
    "def test_jetpack2():\n",
    "    testpack = Jetpack(\"Wei Han\", \"Silver\")\n",
    "    print(testpack)\n",
    "    testpack2 = Jetpack(\"Wei Han\",\"Bronze\")\n",
    "    print(testpack==testpack2)\n",
    "    \n",
    "test_jetpack2()"
   ]
  },
  {
   "cell_type": "markdown",
   "metadata": {},
   "source": [
    "## Problem 4"
   ]
  },
  {
   "cell_type": "code",
   "execution_count": 104,
   "metadata": {},
   "outputs": [
    {
     "name": "stdout",
     "output_type": "stream",
     "text": [
      "1.4142135623730951\n",
      "-1-1i\n",
      "True\n",
      "True\n",
      "-1+1i\n",
      "0.0+1.0i\n",
      "-2+0i\n",
      "-2+0i\n"
     ]
    }
   ],
   "source": [
    "def test_complex():\n",
    "    test1 = Complex(-1,1)\n",
    "    test2 = Complex(0,0)\n",
    "    test3 = Complex(1,1)\n",
    "    print(abs(test1))\n",
    "    print(test1.conjugate())\n",
    "    print(test1 > test2)\n",
    "    print(test1 != test2)\n",
    "    print(test1+test2)\n",
    "    print(test1/test3)\n",
    "    print(test1*test3)\n",
    "    print(test1 - test3)\n",
    "    \n",
    "test_complex()\n",
    "    "
   ]
  },
  {
   "cell_type": "markdown",
   "metadata": {},
   "source": [
    "Tests all functions, and all of them evaluate."
   ]
  },
  {
   "cell_type": "markdown",
   "metadata": {},
   "source": [
    "# Lab 13 -  Unit Testing"
   ]
  },
  {
   "cell_type": "markdown",
   "metadata": {},
   "source": [
    "Tests and solutions found under solutions.py and test_solutions.py"
   ]
  },
  {
   "cell_type": "markdown",
   "metadata": {},
   "source": [
    "# Lab 6 File Exceptions and IO"
   ]
  },
  {
   "cell_type": "markdown",
   "metadata": {},
   "source": [
    "## Problem 1"
   ]
  },
  {
   "cell_type": "code",
   "execution_count": 11,
   "metadata": {},
   "outputs": [
    {
     "name": "stdout",
     "output_type": "stream",
     "text": [
      "Enter a 3-digit number where the first and last digits differ by 2 or more: 300\n",
      "Enter the reverse of the first number, obtained by reading it backwards: 003\n",
      "Enter the positive difference of these numbers: 297\n",
      "Enter the reverse of the previous result: 792\n",
      "297 + 792= 1089 (ta-da!)\n"
     ]
    }
   ],
   "source": [
    "def arithmagic():\n",
    "    step_1 = input(\"Enter a 3-digit number where the first and last digits differ by 2 or more: \")\n",
    "    if int(step_1) > 999 or int(step_1) < 99 :\n",
    "        raise ValueError(\"Please Enter a 3 Digit Number\")\n",
    "    elif abs(int(step_1[0]) - int(step_1[2])) < 2:\n",
    "        raise ValueError(\"Please Make sure the First and Last digits differ by 2 or more\")\n",
    "    step_2 = input(\"Enter the reverse of the first number, obtained by reading it backwards: \")\n",
    "    if step_2 != step_1[::-1]:\n",
    "        raise ValueError(\"Please check that the second number is the reverse of the first\")\n",
    "    step_3 = input(\"Enter the positive difference of these numbers: \")\n",
    "    if int(step_3) != abs(int(step_1) - int(step_2)):\n",
    "        raise ValueError(\"Not the correct positive difference\")\n",
    "    step_4 = input(\"Enter the reverse of the previous result: \")\n",
    "    if step_4 != step_3[::-1]:\n",
    "        raise ValueError(\"Not the reverse of the previous result\")\n",
    "    print(str(step_3) + \" + \" + str(step_4) + \"= 1089 (ta-da!)\")\n",
    "\n",
    "arithmagic()"
   ]
  },
  {
   "cell_type": "markdown",
   "metadata": {},
   "source": [
    "## Problem 2"
   ]
  },
  {
   "cell_type": "markdown",
   "metadata": {},
   "source": [
    "All subsequent code can be found in Lab6.py."
   ]
  },
  {
   "cell_type": "code",
   "execution_count": 139,
   "metadata": {},
   "outputs": [],
   "source": [
    "run Lab6.py"
   ]
  },
  {
   "cell_type": "code",
   "execution_count": null,
   "metadata": {
    "collapsed": true
   },
   "outputs": [],
   "source": [
    "random_walk(5)"
   ]
  },
  {
   "cell_type": "markdown",
   "metadata": {},
   "source": [
    "## Problem 3"
   ]
  },
  {
   "cell_type": "code",
   "execution_count": 140,
   "metadata": {},
   "outputs": [],
   "source": [
    "a = Contentfilter(\"test\")"
   ]
  },
  {
   "cell_type": "markdown",
   "metadata": {},
   "source": [
    "## Problem 4"
   ]
  },
  {
   "cell_type": "code",
   "execution_count": 141,
   "metadata": {},
   "outputs": [
    {
     "name": "stdout",
     "output_type": "stream",
     "text": [
      "Source File: \ttest.txt\n",
      "Total Characters: \t26\n",
      "Alphabetic Characters: \t23\n",
      "Numerical Characters: \t0\n",
      "Whitespace Characters: \t3\n",
      "Number of Lines: \t2\n"
     ]
    }
   ],
   "source": [
    "print(a)"
   ]
  }
 ],
 "metadata": {
  "kernelspec": {
   "display_name": "Python 3",
   "language": "python",
   "name": "python3"
  },
  "language_info": {
   "codemirror_mode": {
    "name": "ipython",
    "version": 3
   },
   "file_extension": ".py",
   "mimetype": "text/x-python",
   "name": "python",
   "nbconvert_exporter": "python",
   "pygments_lexer": "ipython3",
   "version": "3.6.1"
  }
 },
 "nbformat": 4,
 "nbformat_minor": 2
}
