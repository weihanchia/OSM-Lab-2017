{
 "cells": [
  {
   "cell_type": "markdown",
   "metadata": {},
   "source": [
    "# Lab 3 - Numpy"
   ]
  },
  {
   "cell_type": "markdown",
   "metadata": {},
   "source": [
    "## Problem 1"
   ]
  },
  {
   "cell_type": "code",
   "execution_count": 37,
   "metadata": {
    "collapsed": true
   },
   "outputs": [],
   "source": [
    "import numpy as np"
   ]
  },
  {
   "cell_type": "code",
   "execution_count": null,
   "metadata": {},
   "outputs": [],
   "source": [
    "A = np.array([[3,-1,4],[1,5,-9]])\n",
    "B = np.array([[2,6,-5,3],[5,-8,9,7],[9,-3,-2,-3]])\n",
    "np.dot(A,B)"
   ]
  },
  {
   "cell_type": "markdown",
   "metadata": {},
   "source": [
    "## Problem 2"
   ]
  },
  {
   "cell_type": "code",
   "execution_count": null,
   "metadata": {},
   "outputs": [],
   "source": [
    "def prob2(x):\n",
    "    x2 = np.dot(x,x)\n",
    "    return -1*np.dot(x2,x) + 9*x2 - 15*x\n",
    "A = np.array([[3,1,4],[1,5,9],[-5,3,1]])\n",
    "\n",
    "prob2(A)"
   ]
  },
  {
   "cell_type": "markdown",
   "metadata": {},
   "source": [
    "## Problem 3"
   ]
  },
  {
   "cell_type": "code",
   "execution_count": null,
   "metadata": {},
   "outputs": [],
   "source": [
    "A =np.triu(np.ones((7,7)))\n",
    "B = np.full_like(A,5) + np.tril(np.full_like(A,-6))\n",
    "\n",
    "def prob3(x,y):\n",
    "    res = A@B@A\n",
    "    return res.astype(np.float64)\n",
    "\n",
    "prob3(A,B)"
   ]
  },
  {
   "cell_type": "markdown",
   "metadata": {},
   "source": [
    "## Problem 4"
   ]
  },
  {
   "cell_type": "code",
   "execution_count": null,
   "metadata": {},
   "outputs": [],
   "source": [
    "def prob4(x):\n",
    "    C = x\n",
    "    C[C<0] = 0\n",
    "    return C\n"
   ]
  },
  {
   "cell_type": "markdown",
   "metadata": {},
   "source": [
    "## Problem 5"
   ]
  },
  {
   "cell_type": "code",
   "execution_count": null,
   "metadata": {},
   "outputs": [],
   "source": [
    "A = np.array([[0,2,4],[1,3,5]])\n",
    "B = np.tril(3*np.ones((3,3)))\n",
    "C = -2*np.eye(3)\n",
    "\n",
    "def prob5(x,y,z):\n",
    "    r1 = np.hstack((np.zeros((3,3)),np.transpose(x),np.eye(3)))\n",
    "    r2 = np.hstack((x, np.zeros((2,2)), np.zeros((2,3))))\n",
    "    r3 = np.hstack((y,np.zeros((3,2)),z))\n",
    "    return np.vstack((r1,r2,r3))\n",
    "\n",
    "prob5(A,B,C)\n",
    "    "
   ]
  },
  {
   "cell_type": "markdown",
   "metadata": {},
   "source": [
    "## Problem 6"
   ]
  },
  {
   "cell_type": "code",
   "execution_count": null,
   "metadata": {},
   "outputs": [],
   "source": [
    "def prob6(x):\n",
    "    d = x.sum(axis=1)\n",
    "    y = x.shape[0]\n",
    "    d = d.reshape((y,1))\n",
    "    return x/d"
   ]
  },
  {
   "cell_type": "markdown",
   "metadata": {},
   "source": [
    "## Problem 7"
   ]
  },
  {
   "cell_type": "code",
   "execution_count": 41,
   "metadata": {},
   "outputs": [
    {
     "data": {
      "text/plain": [
       "70600674"
      ]
     },
     "execution_count": 41,
     "metadata": {},
     "output_type": "execute_result"
    }
   ],
   "source": [
    "grid = np.load(\"grid.npy\")\n",
    "\n",
    "def prob7(x):\n",
    "    a = np.max(x[:,:-3]*x[:,1:-2]*x[:,2:-1]*x[:,3:])\n",
    "    b = np.max(x[:-3,:]*x[1:-2,:]*x[2:-1,:]*x[3:,:])\n",
    "    c = np.max(x[:-3,:-3]*x[1:-2,1:-2]*x[2:-1,2:-1]*x[3:,3:])\n",
    "    d = np.max(x[3:,:-3]*x[2:-1,1:-2]*x[1:-2,2:-1]*x[:-3,3:])\n",
    "    return max(a,b,c,d)\n",
    "\n",
    "prob7(grid)"
   ]
  },
  {
   "cell_type": "markdown",
   "metadata": {},
   "source": [
    "# Lab 2 - Standard Library"
   ]
  },
  {
   "cell_type": "markdown",
   "metadata": {},
   "source": [
    "## Problem 1"
   ]
  },
  {
   "cell_type": "code",
   "execution_count": null,
   "metadata": {},
   "outputs": [],
   "source": [
    "def prob1(x):\n",
    "    return [min(x), max(x),sum(x)/len(x)]\n"
   ]
  },
  {
   "cell_type": "markdown",
   "metadata": {},
   "source": [
    "## Problem 2"
   ]
  },
  {
   "cell_type": "code",
   "execution_count": null,
   "metadata": {},
   "outputs": [],
   "source": [
    "def prob2():\n",
    "    num_1 = 1\n",
    "    num_2 = num_1\n",
    "    num_2 += 1\n",
    "    nt = num_2 == num_1\n",
    "    \n",
    "    str_1 = 'abc'\n",
    "    str_2 = str_1\n",
    "    str_2 += 'a'\n",
    "    st = str_2 == str_1\n",
    "    \n",
    "    list_1 = [1,2,3]\n",
    "    list_2 = list_1\n",
    "    list_2 = list_2.append(1)\n",
    "    lt = list_2 == list_1\n",
    "    \n",
    "    tup_1 = (1,2,3)\n",
    "    tup_2 = tup_1\n",
    "    tup_2 += (1,)\n",
    "    tt = tup_2 == tup_1\n",
    "    \n",
    "    dict_1 = {1: 'x',2: 'b'}\n",
    "    dict_2 = dict_1\n",
    "    dict_2[1] = 'a'\n",
    "    dt = dict_2 == dict_1\n",
    "    \n",
    "    return (nt,st,lt,tt,dt)\n",
    "    \n",
    "prob2()"
   ]
  },
  {
   "cell_type": "markdown",
   "metadata": {},
   "source": [
    "## Problem 3"
   ]
  },
  {
   "cell_type": "code",
   "execution_count": null,
   "metadata": {},
   "outputs": [],
   "source": [
    "import calc as c \n",
    "\n",
    "def hyp(x,y):\n",
    "    return c.root(c.add(c.prod(x,x),c.prod(y,y)))\n",
    "\n",
    "hyp(3,4)"
   ]
  },
  {
   "cell_type": "markdown",
   "metadata": {},
   "source": [
    "## Problem 4"
   ]
  },
  {
   "cell_type": "code",
   "execution_count": 1,
   "metadata": {
    "scrolled": true
   },
   "outputs": [
    {
     "name": "stdout",
     "output_type": "stream",
     "text": [
      "Please enter your nameWei Han\n",
      "Numbers left: [1, 2, 3, 4, 5, 6, 7, 8, 9, 10]\n",
      "Roll: 5\n",
      "Numbers to eliminate4\n",
      "Invalid Input\n",
      "Numbers to eliminate2\n",
      "Invalid Input\n",
      "Numbers to eliminate10 9\n",
      "Invalid Input\n",
      "Numbers to eliminate2 3\n",
      "Numbers left: [1, 4, 5, 6, 7, 8, 9, 10]\n",
      "Roll: 8\n",
      "Numbers to eliminate10\n",
      "Invalid Input\n",
      "Numbers to eliminate8\n",
      "Numbers left: [1, 4, 5, 6, 7, 9, 10]\n",
      "Roll: 11\n",
      "Numbers to eliminate5 6\n",
      "Numbers left: [1, 4, 7, 9, 10]\n",
      "Roll: 8\n",
      "Numbers to eliminate1 7\n",
      "Game Over!\n",
      "Score for Player Wei Han: 23 points\n"
     ]
    }
   ],
   "source": [
    "run boxgame.py"
   ]
  },
  {
   "cell_type": "markdown",
   "metadata": {},
   "source": [
    "# Lab 4 - OOP"
   ]
  },
  {
   "cell_type": "markdown",
   "metadata": {},
   "source": [
    "## Problem 1"
   ]
  },
  {
   "cell_type": "code",
   "execution_count": 64,
   "metadata": {},
   "outputs": [],
   "source": [
    "run backpack.py"
   ]
  },
  {
   "cell_type": "code",
   "execution_count": 72,
   "metadata": {},
   "outputs": [
    {
     "name": "stdout",
     "output_type": "stream",
     "text": [
      "Wrong default Max_Size\n",
      "['pencil', 'pen', 'paper', 'computer']\n",
      "[]\n"
     ]
    }
   ],
   "source": [
    "def test_backpack():\n",
    "    testpack = Backpack(\"Wei Han\",\"Red\")\n",
    "    if testpack.maxsize != 5:\n",
    "        print(\"Wrong default Max_Size\")\n",
    "    for item in [\"pencil\",\"pen\",\"paper\",\"computer\"]:\n",
    "        testpack.put(item)\n",
    "    print(testpack.contents)\n",
    "    \n",
    "    testpack.dump()\n",
    "    print(testpack.contents)\n",
    "    \n",
    "test_backpack()"
   ]
  },
  {
   "cell_type": "markdown",
   "metadata": {},
   "source": [
    "## Problem 2"
   ]
  },
  {
   "cell_type": "code",
   "execution_count": 73,
   "metadata": {
    "scrolled": false
   },
   "outputs": [
    {
     "name": "stdout",
     "output_type": "stream",
     "text": [
      "You flew 5!\n",
      "5\n",
      "[]\n"
     ]
    }
   ],
   "source": [
    "def test_jetpack():\n",
    "    testpack = Jetpack(\"Wei Han\",\"Silver\")\n",
    "    if testpack.fuel != 10:\n",
    "        print(\"Wrong default fuel capacity\")\n",
    "    testpack.fly(5)\n",
    "    print(testpack.fuel)\n",
    "    testpack.dump()\n",
    "    print(testpack.contents)\n",
    "    \n",
    "test_jetpack()"
   ]
  },
  {
   "cell_type": "code",
   "execution_count": null,
   "metadata": {
    "collapsed": true
   },
   "outputs": [],
   "source": []
  }
 ],
 "metadata": {
  "kernelspec": {
   "display_name": "Python 3",
   "language": "python",
   "name": "python3"
  },
  "language_info": {
   "codemirror_mode": {
    "name": "ipython",
    "version": 3
   },
   "file_extension": ".py",
   "mimetype": "text/x-python",
   "name": "python",
   "nbconvert_exporter": "python",
   "pygments_lexer": "ipython3",
   "version": "3.6.1"
  }
 },
 "nbformat": 4,
 "nbformat_minor": 2
}
